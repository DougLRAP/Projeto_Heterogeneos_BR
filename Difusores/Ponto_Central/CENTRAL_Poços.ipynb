{
 "cells": [
  {
   "cell_type": "code",
   "execution_count": 15,
   "metadata": {},
   "outputs": [
    {
     "name": "stdout",
     "output_type": "stream",
     "text": [
      "o ponto central é '(2, 2)'\n",
      "Conteúdo foi escrito com sucesso no arquivo 'injetores.inc'.\n"
     ]
    }
   ],
   "source": [
    "import math\n",
    "\n",
    "def distancia_euclidiana(point1, point2):\n",
    "    if len(point1) != len(point2):\n",
    "        raise ValueError(\"Points must have the same dimensionality\")\n",
    "    \n",
    "    squared_distance = sum((x - y) ** 2 for x, y in zip(point1, point2))\n",
    "    distance = math.sqrt(squared_distance)\n",
    "    \n",
    "    return distance\n",
    "\n",
    "def ler_arquivo(nome_arquivo,r):\n",
    "    poços = 0\n",
    "    ponto_central = (r//2,r//2)\n",
    "    print(f\"o ponto central é '{ponto_central}'\")\n",
    "    \n",
    "    try:\n",
    "        with open(nome_arquivo, 'w') as arquivo:\n",
    "            contador = 0\n",
    "            arquivo.write(\n",
    "                                f\"WELL  'INJE {contador+1}'\\n\"\n",
    "                                f\"INJECTOR MOBWEIGHT 'INJE {contador+1}'\\n\"\n",
    "                                f\"INCOMP  WATER\\n\"\n",
    "                                f\"OPERATE  MAX  STW  .5 CONT\\n\"\n",
    "                                f\"OPERATE  MAX  BHP  1000  CONT\\n\"\n",
    "                                f\"**               rad      geofac    wfrac   skin\\n\"\n",
    "                                f\"*GEOMETRY  *J    1.125    0.37       1.00    0.0  \\n\"\n",
    "                                f\"PERF        WI  'INJE {contador+1}'\\n\"\n",
    "                                f\"** UBA             wi          Status  Connection  \\n\"\n",
    "                                f\"{ponto_central[0]} 1 {ponto_central[1]}           -  OPEN    FLOW-FROM  'SURFACE'\\n\"\n",
    "                                f\"\\n\"\n",
    "                            )\n",
    "            contador += 1\n",
    "     #BUMPS\n",
    "\n",
    "            tempo = [600.0,1200.0,2160.0,3600.0,5040.0]\n",
    "            vazao = [0.5,0.5,0.5,0.5,0.5]\n",
    "            for j in range(0,len(vazao)):\n",
    "                        arquivo.write(\n",
    "                            f\"\\n\"\n",
    "                            f\"  *TIME {tempo[j]}\\n\"\n",
    "                            f\"DTWELL 0.00166667\\n\"\n",
    "                            f\"  *ALTER 'INJE 1'\\n\"\n",
    "                            f\"  {vazao[j]}\\n\"\n",
    "                        )\n",
    "            arquivo.write(\n",
    "                    f\"\\n\"\n",
    "                    f\"  *TIME 7920.0\\n\"\n",
    "            )\n",
    "        print(f\"Conteúdo foi escrito com sucesso no arquivo '{nome_arquivo}'.\")\n",
    "    except FileNotFoundError:\n",
    "        print(f\"O arquivo '{nome_arquivo}' não foi encontrado.\")\n",
    "\n",
    "if __name__ == \"__main__\":\n",
    "    nome_do_arquivo = 'injetores.inc'\n",
    "    r = int(5)\n",
    "    ler_arquivo(nome_do_arquivo,r)\n",
    " "
   ]
  },
  {
   "cell_type": "code",
   "execution_count": 10,
   "metadata": {},
   "outputs": [
    {
     "name": "stdout",
     "output_type": "stream",
     "text": [
      "o ponto central é '(2, 2)'\n",
      "Conteúdo foi escrito com sucesso no arquivo 'produtores.inc'.\n",
      "O número total de poços é '8\n"
     ]
    }
   ],
   "source": [
    "import math\n",
    "\n",
    "\n",
    "def distancia_euclidiana(point1, point2):\n",
    "    if len(point1) != len(point2):\n",
    "        raise ValueError(\"Points must have the same dimensionality\")\n",
    "    \n",
    "    squared_distance = sum((x - y) ** 2 for x, y in zip(point1, point2))\n",
    "    distance = math.sqrt(squared_distance)\n",
    "    return distance\n",
    "\n",
    "def ler_arquivo(nome_arquivo,r,z):\n",
    "    poços = 0\n",
    "    ponto_central = (r//2,r//2)\n",
    "    print(f\"o ponto central é '{ponto_central}'\")\n",
    "    raio = r/2\n",
    "    for a in range(0,r):\n",
    "                for b in range(0,r):\n",
    "                    ponto = (a,b)\n",
    "                    if distancia_euclidiana(ponto_central,ponto) <= raio:\n",
    "                      var_x = ponto_central[1]\n",
    "                      if ponto[1] < var_x:\n",
    "                         poços += 1\n",
    "    try:\n",
    "         with open(nome_arquivo, 'w') as arquivo:\n",
    "            contador = 0\n",
    "            arquivo.write(\n",
    "                                f\"WELL  'PRODUTOR {contador+1}'\\n\"\n",
    "                                f\"PRODUCER 'PRODUTOR {contador+1}'\\n\"\n",
    "                                f\"OPERATE  MIN  BHP  101.325  CONT \\n\"\n",
    "                                f\"**               rad      geofac    wfrac   skin\\n\"\n",
    "                                f\"GEOMETRY  J  0.1397  0.37  1.0  0.0  \\n\"\n",
    "                                f\"PERF      GEOA  'PRODUTOR {contador+1}'\\n\"\n",
    "                                f\"** UBA              ff          Status  Connection  \\n\"\n",
    "                                f\"{ponto_central[0]} {z} {ponto_central[1]}     1.0  OPEN    FLOW-TO  'SURFACE'\\n\"\n",
    "                                f\"\\n\"\n",
    "                            )\n",
    "            contador += 1\n",
    "            print(f\"Conteúdo foi escrito com sucesso no arquivo '{nome_arquivo}'.\")\n",
    "    except FileNotFoundError:\n",
    "                print(f\"O arquivo '{nome_arquivo}' não foi encontrado.\")\n",
    "    print(f\"O número total de poços é '{poços}\")\n",
    "\n",
    "if __name__ == \"__main__\":\n",
    "    nome_do_arquivo = 'produtores.inc'\n",
    "    r = int(5)\n",
    "    z = int(102)\n",
    "    ler_arquivo(nome_do_arquivo,r,z)\n",
    " "
   ]
  }
 ],
 "metadata": {
  "kernelspec": {
   "display_name": "Python 3",
   "language": "python",
   "name": "python3"
  },
  "language_info": {
   "codemirror_mode": {
    "name": "ipython",
    "version": 3
   },
   "file_extension": ".py",
   "mimetype": "text/x-python",
   "name": "python",
   "nbconvert_exporter": "python",
   "pygments_lexer": "ipython3",
   "version": "3.10.11"
  }
 },
 "nbformat": 4,
 "nbformat_minor": 2
}
