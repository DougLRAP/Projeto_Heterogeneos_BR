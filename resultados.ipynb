{
 "cells": [
  {
   "cell_type": "code",
   "execution_count": 1,
   "metadata": {},
   "outputs": [],
   "source": [
    "import numpy as np\n",
    "import ogsim\n",
    "import plotly.graph_objects as go\n",
    "import pandas as pd"
   ]
  },
  {
   "cell_type": "markdown",
   "metadata": {},
   "source": [
    "# Inputs"
   ]
  },
  {
   "cell_type": "markdown",
   "metadata": {},
   "source": [
    "Le arquivo sr3 e gera um sumário com informações dele"
   ]
  },
  {
   "cell_type": "code",
   "execution_count": 4,
   "metadata": {},
   "outputs": [],
   "source": [
    "teste_1 = ogsim.IMEX('lizi_2000000nm.sr3')"
   ]
  },
  {
   "cell_type": "markdown",
   "metadata": {},
   "source": [
    "Utiliza funções já definidas no ogsim para a obtenção de informações de poços e do campo (amostra) e recupera os dados de tempo relacionados ao timestep"
   ]
  },
  {
   "cell_type": "code",
   "execution_count": 5,
   "metadata": {},
   "outputs": [
    {
     "name": "stderr",
     "output_type": "stream",
     "text": [
      "c:\\Users\\kauahn.fonseca\\Documents\\dados_lizianne\\reuniao_5_12\\ogsim\\cmg\\simulators.py:324: FutureWarning: DataFrame.applymap has been deprecated. Use DataFrame.map instead.\n",
      "  ).applymap(\n",
      "c:\\Users\\kauahn.fonseca\\Documents\\dados_lizianne\\reuniao_5_12\\ogsim\\cmg\\simulators.py:324: FutureWarning: DataFrame.applymap has been deprecated. Use DataFrame.map instead.\n",
      "  ).applymap(\n"
     ]
    }
   ],
   "source": [
    "teste_1_a = teste_1.read_timeseries('wells')\n",
    "teste_1_b = teste_1.read_timeseries('sectors')\n",
    "tempo_1 = pd.DataFrame(teste_1_a['Well Cumulative Open On-time'])"
   ]
  },
  {
   "cell_type": "markdown",
   "metadata": {},
   "source": [
    "# Porosidade"
   ]
  },
  {
   "cell_type": "code",
   "execution_count": 34,
   "metadata": {},
   "outputs": [
    {
     "name": "stderr",
     "output_type": "stream",
     "text": [
      "c:\\Users\\kauahn.fonseca\\Documents\\dados_lizianne\\reuniao_5_12\\ogsim\\cmg\\simulators.py:324: FutureWarning:\n",
      "\n",
      "DataFrame.applymap has been deprecated. Use DataFrame.map instead.\n",
      "\n"
     ]
    }
   ],
   "source": [
    "a = teste_1.read_properties(grid_properties=['POR','PERMI','PERMJ','PERMK'])"
   ]
  },
  {
   "cell_type": "code",
   "execution_count": 35,
   "metadata": {},
   "outputs": [],
   "source": [
    "def por_mean_profile(por):\n",
    "    por_profile = []\n",
    "    mean_por = []\n",
    "    for y in range(por['J'].max().values - 2):\n",
    "        slice_por = []\n",
    "        for z in range(por['K'].max().values):\n",
    "            for x in range(por['I'].max().values):\n",
    "                if np.isnan(float(por.data_vars['POR'][x][y + 1][z].values)) == False:\n",
    "                     a = float(por.data_vars['POR'][x][y + 1][z].values)\n",
    "                     mean_por.append(a)\n",
    "                     slice_por.append(100*a)\n",
    "        por_profile.append(sum(slice_por)/len(slice_por))\n",
    "    return sum(mean_por)/len(mean_por), por_profile\n",
    "\n",
    "def permi_mean_profile(perm):\n",
    "    perm_profile = []\n",
    "    mean_perm = []\n",
    "    for y in range(perm['J'].max().values - 2):\n",
    "        slice_perm = []\n",
    "        for z in range(perm['K'].max().values):\n",
    "            for x in range(perm['I'].max().values):\n",
    "                if np.isnan(float(perm.data_vars['PERMI'][x][y + 1][z].values)) == False:\n",
    "                     a = float(perm.data_vars['PERMI'][x][y + 1][z].values)\n",
    "                     mean_perm.append(a)\n",
    "                     slice_perm.append(a)\n",
    "        perm_profile.append(sum(slice_perm)/len(slice_perm))\n",
    "    return sum(mean_perm)/len(mean_perm), perm_profile\n",
    "\n",
    "def permj_mean_profile(perm):\n",
    "    perm_profile = []\n",
    "    mean_perm = []\n",
    "    for y in range(perm['J'].max().values - 2):\n",
    "        slice_perm = []\n",
    "        for z in range(perm['K'].max().values):\n",
    "            for x in range(perm['I'].max().values):\n",
    "                if np.isnan(float(perm.data_vars['PERMJ'][x][y + 1][z].values)) == False:\n",
    "                     a = float(perm.data_vars['PERMJ'][x][y + 1][z].values)\n",
    "                     mean_perm.append(a)\n",
    "                     slice_perm.append(a)\n",
    "        perm_profile.append(sum(slice_perm)/len(slice_perm))\n",
    "    return sum(mean_perm)/len(mean_perm), perm_profile\n",
    "\n",
    "def permK_mean_profile(perm):\n",
    "    perm_profile = []\n",
    "    mean_perm = []\n",
    "    for y in range(perm['J'].max().values - 2):\n",
    "        slice_perm = []\n",
    "        for z in range(perm['K'].max().values):\n",
    "            for x in range(perm['I'].max().values):\n",
    "                if np.isnan(float(perm.data_vars['PERMK'][x][y + 1][z].values)) == False:\n",
    "                     a = float(perm.data_vars['PERMK'][x][y + 1][z].values)\n",
    "                     mean_perm.append(a)\n",
    "                     slice_perm.append(a)\n",
    "        perm_profile.append(sum(slice_perm)/len(slice_perm))\n",
    "    return sum(mean_perm)/len(mean_perm), perm_profile"
   ]
  },
  {
   "cell_type": "code",
   "execution_count": 36,
   "metadata": {},
   "outputs": [],
   "source": [
    "media_por, perfil_por = por_mean_profile(a)\n",
    "media_permi, perfil_permi = permi_mean_profile(a)\n",
    "media_permj, perfil_permj = permi_mean_profile(a)\n",
    "media_permk, perfil_permk = permi_mean_profile(a)"
   ]
  },
  {
   "cell_type": "code",
   "execution_count": 37,
   "metadata": {},
   "outputs": [
    {
     "name": "stdout",
     "output_type": "stream",
     "text": [
      "0.1980395827042792\n",
      "1333.969970703125\n",
      "1333.969970703125\n",
      "1333.969970703125\n"
     ]
    }
   ],
   "source": [
    "print(media_por)\n",
    "print(media_permi)\n",
    "print(media_permj)\n",
    "print(media_permk)"
   ]
  },
  {
   "cell_type": "markdown",
   "metadata": {},
   "source": [
    "## Graficos"
   ]
  },
  {
   "cell_type": "code",
   "execution_count": 39,
   "metadata": {},
   "outputs": [
    {
     "data": {
      "application/vnd.plotly.v1+json": {
       "config": {
        "plotlyServerURL": "https://plot.ly"
       },
       "data": [
        {
         "line": {
          "color": "rgba(0, 0, 0, 1)",
          "dash": "solid"
         },
         "mode": "lines",
         "type": "scatter",
         "x": [
          0.2,
          0.4,
          0.6,
          0.8,
          1,
          1.2,
          1.4,
          1.6,
          1.8,
          2,
          2.2,
          2.4,
          2.6,
          2.8,
          3,
          3.2,
          3.4,
          3.6,
          3.8,
          4,
          4.2,
          4.4,
          4.6,
          4.8,
          5,
          5.2,
          5.4,
          5.6,
          5.8,
          6,
          6.2,
          6.4,
          6.6,
          6.8,
          7
         ],
         "y": [
          19.821223053786394,
          19.738781373400414,
          19.521254466639625,
          19.38551602043291,
          19.36827957710271,
          19.312841737334676,
          19.42400718477659,
          19.649892104722614,
          19.759388552080814,
          19.588848905597658,
          19.770647502309984,
          20.00252706694689,
          20.074388494701694,
          19.965251765662817,
          20.05499997043184,
          20.310647514977042,
          20.38541516349634,
          20.25917562853051,
          20.148857145437173,
          20.074428556753055,
          20.267785731703043,
          20.471892851803982,
          20.522321446665696,
          20.51666670589037,
          20.454928043077317,
          20.070394248731674,
          19.603082428162242,
          19.158561177980555,
          18.85089609424807,
          18.99640570557096,
          19.21042858356876,
          19.36487455094587
         ]
        }
       ],
       "layout": {
        "font": {
         "color": "black",
         "family": "Time News Roman",
         "size": 30
        },
        "height": 800,
        "template": {
         "data": {
          "bar": [
           {
            "error_x": {
             "color": "#2a3f5f"
            },
            "error_y": {
             "color": "#2a3f5f"
            },
            "marker": {
             "line": {
              "color": "white",
              "width": 0.5
             },
             "pattern": {
              "fillmode": "overlay",
              "size": 10,
              "solidity": 0.2
             }
            },
            "type": "bar"
           }
          ],
          "barpolar": [
           {
            "marker": {
             "line": {
              "color": "white",
              "width": 0.5
             },
             "pattern": {
              "fillmode": "overlay",
              "size": 10,
              "solidity": 0.2
             }
            },
            "type": "barpolar"
           }
          ],
          "carpet": [
           {
            "aaxis": {
             "endlinecolor": "#2a3f5f",
             "gridcolor": "#C8D4E3",
             "linecolor": "#C8D4E3",
             "minorgridcolor": "#C8D4E3",
             "startlinecolor": "#2a3f5f"
            },
            "baxis": {
             "endlinecolor": "#2a3f5f",
             "gridcolor": "#C8D4E3",
             "linecolor": "#C8D4E3",
             "minorgridcolor": "#C8D4E3",
             "startlinecolor": "#2a3f5f"
            },
            "type": "carpet"
           }
          ],
          "choropleth": [
           {
            "colorbar": {
             "outlinewidth": 0,
             "ticks": ""
            },
            "type": "choropleth"
           }
          ],
          "contour": [
           {
            "colorbar": {
             "outlinewidth": 0,
             "ticks": ""
            },
            "colorscale": [
             [
              0,
              "#0d0887"
             ],
             [
              0.1111111111111111,
              "#46039f"
             ],
             [
              0.2222222222222222,
              "#7201a8"
             ],
             [
              0.3333333333333333,
              "#9c179e"
             ],
             [
              0.4444444444444444,
              "#bd3786"
             ],
             [
              0.5555555555555556,
              "#d8576b"
             ],
             [
              0.6666666666666666,
              "#ed7953"
             ],
             [
              0.7777777777777778,
              "#fb9f3a"
             ],
             [
              0.8888888888888888,
              "#fdca26"
             ],
             [
              1,
              "#f0f921"
             ]
            ],
            "type": "contour"
           }
          ],
          "contourcarpet": [
           {
            "colorbar": {
             "outlinewidth": 0,
             "ticks": ""
            },
            "type": "contourcarpet"
           }
          ],
          "heatmap": [
           {
            "colorbar": {
             "outlinewidth": 0,
             "ticks": ""
            },
            "colorscale": [
             [
              0,
              "#0d0887"
             ],
             [
              0.1111111111111111,
              "#46039f"
             ],
             [
              0.2222222222222222,
              "#7201a8"
             ],
             [
              0.3333333333333333,
              "#9c179e"
             ],
             [
              0.4444444444444444,
              "#bd3786"
             ],
             [
              0.5555555555555556,
              "#d8576b"
             ],
             [
              0.6666666666666666,
              "#ed7953"
             ],
             [
              0.7777777777777778,
              "#fb9f3a"
             ],
             [
              0.8888888888888888,
              "#fdca26"
             ],
             [
              1,
              "#f0f921"
             ]
            ],
            "type": "heatmap"
           }
          ],
          "heatmapgl": [
           {
            "colorbar": {
             "outlinewidth": 0,
             "ticks": ""
            },
            "colorscale": [
             [
              0,
              "#0d0887"
             ],
             [
              0.1111111111111111,
              "#46039f"
             ],
             [
              0.2222222222222222,
              "#7201a8"
             ],
             [
              0.3333333333333333,
              "#9c179e"
             ],
             [
              0.4444444444444444,
              "#bd3786"
             ],
             [
              0.5555555555555556,
              "#d8576b"
             ],
             [
              0.6666666666666666,
              "#ed7953"
             ],
             [
              0.7777777777777778,
              "#fb9f3a"
             ],
             [
              0.8888888888888888,
              "#fdca26"
             ],
             [
              1,
              "#f0f921"
             ]
            ],
            "type": "heatmapgl"
           }
          ],
          "histogram": [
           {
            "marker": {
             "pattern": {
              "fillmode": "overlay",
              "size": 10,
              "solidity": 0.2
             }
            },
            "type": "histogram"
           }
          ],
          "histogram2d": [
           {
            "colorbar": {
             "outlinewidth": 0,
             "ticks": ""
            },
            "colorscale": [
             [
              0,
              "#0d0887"
             ],
             [
              0.1111111111111111,
              "#46039f"
             ],
             [
              0.2222222222222222,
              "#7201a8"
             ],
             [
              0.3333333333333333,
              "#9c179e"
             ],
             [
              0.4444444444444444,
              "#bd3786"
             ],
             [
              0.5555555555555556,
              "#d8576b"
             ],
             [
              0.6666666666666666,
              "#ed7953"
             ],
             [
              0.7777777777777778,
              "#fb9f3a"
             ],
             [
              0.8888888888888888,
              "#fdca26"
             ],
             [
              1,
              "#f0f921"
             ]
            ],
            "type": "histogram2d"
           }
          ],
          "histogram2dcontour": [
           {
            "colorbar": {
             "outlinewidth": 0,
             "ticks": ""
            },
            "colorscale": [
             [
              0,
              "#0d0887"
             ],
             [
              0.1111111111111111,
              "#46039f"
             ],
             [
              0.2222222222222222,
              "#7201a8"
             ],
             [
              0.3333333333333333,
              "#9c179e"
             ],
             [
              0.4444444444444444,
              "#bd3786"
             ],
             [
              0.5555555555555556,
              "#d8576b"
             ],
             [
              0.6666666666666666,
              "#ed7953"
             ],
             [
              0.7777777777777778,
              "#fb9f3a"
             ],
             [
              0.8888888888888888,
              "#fdca26"
             ],
             [
              1,
              "#f0f921"
             ]
            ],
            "type": "histogram2dcontour"
           }
          ],
          "mesh3d": [
           {
            "colorbar": {
             "outlinewidth": 0,
             "ticks": ""
            },
            "type": "mesh3d"
           }
          ],
          "parcoords": [
           {
            "line": {
             "colorbar": {
              "outlinewidth": 0,
              "ticks": ""
             }
            },
            "type": "parcoords"
           }
          ],
          "pie": [
           {
            "automargin": true,
            "type": "pie"
           }
          ],
          "scatter": [
           {
            "fillpattern": {
             "fillmode": "overlay",
             "size": 10,
             "solidity": 0.2
            },
            "type": "scatter"
           }
          ],
          "scatter3d": [
           {
            "line": {
             "colorbar": {
              "outlinewidth": 0,
              "ticks": ""
             }
            },
            "marker": {
             "colorbar": {
              "outlinewidth": 0,
              "ticks": ""
             }
            },
            "type": "scatter3d"
           }
          ],
          "scattercarpet": [
           {
            "marker": {
             "colorbar": {
              "outlinewidth": 0,
              "ticks": ""
             }
            },
            "type": "scattercarpet"
           }
          ],
          "scattergeo": [
           {
            "marker": {
             "colorbar": {
              "outlinewidth": 0,
              "ticks": ""
             }
            },
            "type": "scattergeo"
           }
          ],
          "scattergl": [
           {
            "marker": {
             "colorbar": {
              "outlinewidth": 0,
              "ticks": ""
             }
            },
            "type": "scattergl"
           }
          ],
          "scattermapbox": [
           {
            "marker": {
             "colorbar": {
              "outlinewidth": 0,
              "ticks": ""
             }
            },
            "type": "scattermapbox"
           }
          ],
          "scatterpolar": [
           {
            "marker": {
             "colorbar": {
              "outlinewidth": 0,
              "ticks": ""
             }
            },
            "type": "scatterpolar"
           }
          ],
          "scatterpolargl": [
           {
            "marker": {
             "colorbar": {
              "outlinewidth": 0,
              "ticks": ""
             }
            },
            "type": "scatterpolargl"
           }
          ],
          "scatterternary": [
           {
            "marker": {
             "colorbar": {
              "outlinewidth": 0,
              "ticks": ""
             }
            },
            "type": "scatterternary"
           }
          ],
          "surface": [
           {
            "colorbar": {
             "outlinewidth": 0,
             "ticks": ""
            },
            "colorscale": [
             [
              0,
              "#0d0887"
             ],
             [
              0.1111111111111111,
              "#46039f"
             ],
             [
              0.2222222222222222,
              "#7201a8"
             ],
             [
              0.3333333333333333,
              "#9c179e"
             ],
             [
              0.4444444444444444,
              "#bd3786"
             ],
             [
              0.5555555555555556,
              "#d8576b"
             ],
             [
              0.6666666666666666,
              "#ed7953"
             ],
             [
              0.7777777777777778,
              "#fb9f3a"
             ],
             [
              0.8888888888888888,
              "#fdca26"
             ],
             [
              1,
              "#f0f921"
             ]
            ],
            "type": "surface"
           }
          ],
          "table": [
           {
            "cells": {
             "fill": {
              "color": "#EBF0F8"
             },
             "line": {
              "color": "white"
             }
            },
            "header": {
             "fill": {
              "color": "#C8D4E3"
             },
             "line": {
              "color": "white"
             }
            },
            "type": "table"
           }
          ]
         },
         "layout": {
          "annotationdefaults": {
           "arrowcolor": "#2a3f5f",
           "arrowhead": 0,
           "arrowwidth": 1
          },
          "autotypenumbers": "strict",
          "coloraxis": {
           "colorbar": {
            "outlinewidth": 0,
            "ticks": ""
           }
          },
          "colorscale": {
           "diverging": [
            [
             0,
             "#8e0152"
            ],
            [
             0.1,
             "#c51b7d"
            ],
            [
             0.2,
             "#de77ae"
            ],
            [
             0.3,
             "#f1b6da"
            ],
            [
             0.4,
             "#fde0ef"
            ],
            [
             0.5,
             "#f7f7f7"
            ],
            [
             0.6,
             "#e6f5d0"
            ],
            [
             0.7,
             "#b8e186"
            ],
            [
             0.8,
             "#7fbc41"
            ],
            [
             0.9,
             "#4d9221"
            ],
            [
             1,
             "#276419"
            ]
           ],
           "sequential": [
            [
             0,
             "#0d0887"
            ],
            [
             0.1111111111111111,
             "#46039f"
            ],
            [
             0.2222222222222222,
             "#7201a8"
            ],
            [
             0.3333333333333333,
             "#9c179e"
            ],
            [
             0.4444444444444444,
             "#bd3786"
            ],
            [
             0.5555555555555556,
             "#d8576b"
            ],
            [
             0.6666666666666666,
             "#ed7953"
            ],
            [
             0.7777777777777778,
             "#fb9f3a"
            ],
            [
             0.8888888888888888,
             "#fdca26"
            ],
            [
             1,
             "#f0f921"
            ]
           ],
           "sequentialminus": [
            [
             0,
             "#0d0887"
            ],
            [
             0.1111111111111111,
             "#46039f"
            ],
            [
             0.2222222222222222,
             "#7201a8"
            ],
            [
             0.3333333333333333,
             "#9c179e"
            ],
            [
             0.4444444444444444,
             "#bd3786"
            ],
            [
             0.5555555555555556,
             "#d8576b"
            ],
            [
             0.6666666666666666,
             "#ed7953"
            ],
            [
             0.7777777777777778,
             "#fb9f3a"
            ],
            [
             0.8888888888888888,
             "#fdca26"
            ],
            [
             1,
             "#f0f921"
            ]
           ]
          },
          "colorway": [
           "#636efa",
           "#EF553B",
           "#00cc96",
           "#ab63fa",
           "#FFA15A",
           "#19d3f3",
           "#FF6692",
           "#B6E880",
           "#FF97FF",
           "#FECB52"
          ],
          "font": {
           "color": "#2a3f5f"
          },
          "geo": {
           "bgcolor": "white",
           "lakecolor": "white",
           "landcolor": "white",
           "showlakes": true,
           "showland": true,
           "subunitcolor": "#C8D4E3"
          },
          "hoverlabel": {
           "align": "left"
          },
          "hovermode": "closest",
          "mapbox": {
           "style": "light"
          },
          "paper_bgcolor": "white",
          "plot_bgcolor": "white",
          "polar": {
           "angularaxis": {
            "gridcolor": "#EBF0F8",
            "linecolor": "#EBF0F8",
            "ticks": ""
           },
           "bgcolor": "white",
           "radialaxis": {
            "gridcolor": "#EBF0F8",
            "linecolor": "#EBF0F8",
            "ticks": ""
           }
          },
          "scene": {
           "xaxis": {
            "backgroundcolor": "white",
            "gridcolor": "#DFE8F3",
            "gridwidth": 2,
            "linecolor": "#EBF0F8",
            "showbackground": true,
            "ticks": "",
            "zerolinecolor": "#EBF0F8"
           },
           "yaxis": {
            "backgroundcolor": "white",
            "gridcolor": "#DFE8F3",
            "gridwidth": 2,
            "linecolor": "#EBF0F8",
            "showbackground": true,
            "ticks": "",
            "zerolinecolor": "#EBF0F8"
           },
           "zaxis": {
            "backgroundcolor": "white",
            "gridcolor": "#DFE8F3",
            "gridwidth": 2,
            "linecolor": "#EBF0F8",
            "showbackground": true,
            "ticks": "",
            "zerolinecolor": "#EBF0F8"
           }
          },
          "shapedefaults": {
           "line": {
            "color": "#2a3f5f"
           }
          },
          "ternary": {
           "aaxis": {
            "gridcolor": "#DFE8F3",
            "linecolor": "#A2B1C6",
            "ticks": ""
           },
           "baxis": {
            "gridcolor": "#DFE8F3",
            "linecolor": "#A2B1C6",
            "ticks": ""
           },
           "bgcolor": "white",
           "caxis": {
            "gridcolor": "#DFE8F3",
            "linecolor": "#A2B1C6",
            "ticks": ""
           }
          },
          "title": {
           "x": 0.05
          },
          "xaxis": {
           "automargin": true,
           "gridcolor": "#EBF0F8",
           "linecolor": "#EBF0F8",
           "ticks": "",
           "title": {
            "standoff": 15
           },
           "zerolinecolor": "#EBF0F8",
           "zerolinewidth": 2
          },
          "yaxis": {
           "automargin": true,
           "gridcolor": "#EBF0F8",
           "linecolor": "#EBF0F8",
           "ticks": "",
           "title": {
            "standoff": 15
           },
           "zerolinecolor": "#EBF0F8",
           "zerolinewidth": 2
          }
         }
        },
        "title": {
         "text": "Perfil de Porosidade",
         "x": 0.5
        },
        "width": 1200,
        "xaxis": {
         "range": [
          -0.5,
          7
         ],
         "title": {
          "text": "Comprimento (cm)"
         }
        },
        "yaxis": {
         "range": [
          0,
          25
         ],
         "title": {
          "text": "Porosidade (%)"
         }
        }
       }
      }
     },
     "metadata": {},
     "output_type": "display_data"
    }
   ],
   "source": [
    "colors = [\n",
    "    'rgba(0, 0, 0, 1)',   # Black\n",
    "    'rgba(105, 55, 20, 1)',  # Brown\n",
    "    'rgba(255, 110, 0, 1)',   # Orange\n",
    "    'rgba(255, 215, 0, 1)',   # Yellow\n",
    "    'rgba(0, 255, 0, 0.8)',  # Green\n",
    "    'rgba(0, 200, 150, 1)',  # Ciane\n",
    "    'rgba(0, 100, 250, 1)',   # Light Blue\n",
    "    'rgba(0, 0, 150, 1)',     # Dark Blue\n",
    "    'rgba(150, 0, 255, 1)',   # Purple\n",
    "    'rgba(255, 0, 0, 1)',  # Red\n",
    "]\n",
    "\n",
    "lista = []\n",
    "for i in range(1,a['J'].max().values+1):\n",
    "    lista.append(7*i/a['J'].max().values)\n",
    "comprimento = pd.DataFrame(lista)\n",
    "\n",
    "\n",
    "trace_1 = go.Scatter(x=comprimento[0],y=perfil_por[1:],mode='lines',line=dict(color=colors[0], dash='solid'))\n",
    "\n",
    "fig_por = go.Figure()\n",
    "\n",
    "fig_por.add_trace(trace_1)\n",
    "\n",
    "fig_por.update_layout(title='Perfil de Porosidade',\n",
    "                  title_x=0.5,\n",
    "                  xaxis_title='Comprimento (cm)',\n",
    "                  yaxis_title='Porosidade (%)',\n",
    "                  xaxis=dict(\n",
    "                      range=[-.5, 7]),\n",
    "                  yaxis=dict(\n",
    "                      range=[0, 25]),\n",
    "                  font=dict(\n",
    "                      family='Time News Roman',  # fonte da legenda\n",
    "                      size=30,               # tamanho da fonte\n",
    "                      color='black'         # cor da fonte\n",
    "                      ),\n",
    "                  template='plotly_white',\n",
    "                  width=1200,\n",
    "                  height=800)\n",
    "fig_por.show()"
   ]
  },
  {
   "cell_type": "code",
   "execution_count": 40,
   "metadata": {},
   "outputs": [
    {
     "data": {
      "application/vnd.plotly.v1+json": {
       "config": {
        "plotlyServerURL": "https://plot.ly"
       },
       "data": [
        {
         "line": {
          "color": "rgba(0, 0, 0, 1)",
          "dash": "solid"
         },
         "mode": "lines",
         "type": "scatter",
         "x": [
          0.2,
          0.4,
          0.6,
          0.8,
          1,
          1.2,
          1.4,
          1.6,
          1.8,
          2,
          2.2,
          2.4,
          2.6,
          2.8,
          3,
          3.2,
          3.4,
          3.6,
          3.8,
          4,
          4.2,
          4.4,
          4.6,
          4.8,
          5,
          5.2,
          5.4,
          5.6,
          5.8,
          6,
          6.2,
          6.4,
          6.6,
          6.8,
          7
         ],
         "y": [
          1333.969970703125,
          1333.969970703125,
          1333.969970703125,
          1333.969970703125,
          1333.969970703125,
          1333.969970703125,
          1333.969970703125,
          1333.969970703125,
          1333.969970703125,
          1333.969970703125,
          1333.969970703125,
          1333.969970703125,
          1333.969970703125,
          1333.969970703125,
          1333.969970703125,
          1333.969970703125,
          1333.969970703125,
          1333.969970703125,
          1333.969970703125,
          1333.969970703125,
          1333.969970703125,
          1333.969970703125,
          1333.969970703125,
          1333.969970703125,
          1333.969970703125,
          1333.969970703125,
          1333.969970703125,
          1333.969970703125,
          1333.969970703125,
          1333.969970703125,
          1333.969970703125,
          1333.969970703125
         ]
        }
       ],
       "layout": {
        "font": {
         "color": "black",
         "family": "Time News Roman",
         "size": 30
        },
        "height": 800,
        "template": {
         "data": {
          "bar": [
           {
            "error_x": {
             "color": "#2a3f5f"
            },
            "error_y": {
             "color": "#2a3f5f"
            },
            "marker": {
             "line": {
              "color": "white",
              "width": 0.5
             },
             "pattern": {
              "fillmode": "overlay",
              "size": 10,
              "solidity": 0.2
             }
            },
            "type": "bar"
           }
          ],
          "barpolar": [
           {
            "marker": {
             "line": {
              "color": "white",
              "width": 0.5
             },
             "pattern": {
              "fillmode": "overlay",
              "size": 10,
              "solidity": 0.2
             }
            },
            "type": "barpolar"
           }
          ],
          "carpet": [
           {
            "aaxis": {
             "endlinecolor": "#2a3f5f",
             "gridcolor": "#C8D4E3",
             "linecolor": "#C8D4E3",
             "minorgridcolor": "#C8D4E3",
             "startlinecolor": "#2a3f5f"
            },
            "baxis": {
             "endlinecolor": "#2a3f5f",
             "gridcolor": "#C8D4E3",
             "linecolor": "#C8D4E3",
             "minorgridcolor": "#C8D4E3",
             "startlinecolor": "#2a3f5f"
            },
            "type": "carpet"
           }
          ],
          "choropleth": [
           {
            "colorbar": {
             "outlinewidth": 0,
             "ticks": ""
            },
            "type": "choropleth"
           }
          ],
          "contour": [
           {
            "colorbar": {
             "outlinewidth": 0,
             "ticks": ""
            },
            "colorscale": [
             [
              0,
              "#0d0887"
             ],
             [
              0.1111111111111111,
              "#46039f"
             ],
             [
              0.2222222222222222,
              "#7201a8"
             ],
             [
              0.3333333333333333,
              "#9c179e"
             ],
             [
              0.4444444444444444,
              "#bd3786"
             ],
             [
              0.5555555555555556,
              "#d8576b"
             ],
             [
              0.6666666666666666,
              "#ed7953"
             ],
             [
              0.7777777777777778,
              "#fb9f3a"
             ],
             [
              0.8888888888888888,
              "#fdca26"
             ],
             [
              1,
              "#f0f921"
             ]
            ],
            "type": "contour"
           }
          ],
          "contourcarpet": [
           {
            "colorbar": {
             "outlinewidth": 0,
             "ticks": ""
            },
            "type": "contourcarpet"
           }
          ],
          "heatmap": [
           {
            "colorbar": {
             "outlinewidth": 0,
             "ticks": ""
            },
            "colorscale": [
             [
              0,
              "#0d0887"
             ],
             [
              0.1111111111111111,
              "#46039f"
             ],
             [
              0.2222222222222222,
              "#7201a8"
             ],
             [
              0.3333333333333333,
              "#9c179e"
             ],
             [
              0.4444444444444444,
              "#bd3786"
             ],
             [
              0.5555555555555556,
              "#d8576b"
             ],
             [
              0.6666666666666666,
              "#ed7953"
             ],
             [
              0.7777777777777778,
              "#fb9f3a"
             ],
             [
              0.8888888888888888,
              "#fdca26"
             ],
             [
              1,
              "#f0f921"
             ]
            ],
            "type": "heatmap"
           }
          ],
          "heatmapgl": [
           {
            "colorbar": {
             "outlinewidth": 0,
             "ticks": ""
            },
            "colorscale": [
             [
              0,
              "#0d0887"
             ],
             [
              0.1111111111111111,
              "#46039f"
             ],
             [
              0.2222222222222222,
              "#7201a8"
             ],
             [
              0.3333333333333333,
              "#9c179e"
             ],
             [
              0.4444444444444444,
              "#bd3786"
             ],
             [
              0.5555555555555556,
              "#d8576b"
             ],
             [
              0.6666666666666666,
              "#ed7953"
             ],
             [
              0.7777777777777778,
              "#fb9f3a"
             ],
             [
              0.8888888888888888,
              "#fdca26"
             ],
             [
              1,
              "#f0f921"
             ]
            ],
            "type": "heatmapgl"
           }
          ],
          "histogram": [
           {
            "marker": {
             "pattern": {
              "fillmode": "overlay",
              "size": 10,
              "solidity": 0.2
             }
            },
            "type": "histogram"
           }
          ],
          "histogram2d": [
           {
            "colorbar": {
             "outlinewidth": 0,
             "ticks": ""
            },
            "colorscale": [
             [
              0,
              "#0d0887"
             ],
             [
              0.1111111111111111,
              "#46039f"
             ],
             [
              0.2222222222222222,
              "#7201a8"
             ],
             [
              0.3333333333333333,
              "#9c179e"
             ],
             [
              0.4444444444444444,
              "#bd3786"
             ],
             [
              0.5555555555555556,
              "#d8576b"
             ],
             [
              0.6666666666666666,
              "#ed7953"
             ],
             [
              0.7777777777777778,
              "#fb9f3a"
             ],
             [
              0.8888888888888888,
              "#fdca26"
             ],
             [
              1,
              "#f0f921"
             ]
            ],
            "type": "histogram2d"
           }
          ],
          "histogram2dcontour": [
           {
            "colorbar": {
             "outlinewidth": 0,
             "ticks": ""
            },
            "colorscale": [
             [
              0,
              "#0d0887"
             ],
             [
              0.1111111111111111,
              "#46039f"
             ],
             [
              0.2222222222222222,
              "#7201a8"
             ],
             [
              0.3333333333333333,
              "#9c179e"
             ],
             [
              0.4444444444444444,
              "#bd3786"
             ],
             [
              0.5555555555555556,
              "#d8576b"
             ],
             [
              0.6666666666666666,
              "#ed7953"
             ],
             [
              0.7777777777777778,
              "#fb9f3a"
             ],
             [
              0.8888888888888888,
              "#fdca26"
             ],
             [
              1,
              "#f0f921"
             ]
            ],
            "type": "histogram2dcontour"
           }
          ],
          "mesh3d": [
           {
            "colorbar": {
             "outlinewidth": 0,
             "ticks": ""
            },
            "type": "mesh3d"
           }
          ],
          "parcoords": [
           {
            "line": {
             "colorbar": {
              "outlinewidth": 0,
              "ticks": ""
             }
            },
            "type": "parcoords"
           }
          ],
          "pie": [
           {
            "automargin": true,
            "type": "pie"
           }
          ],
          "scatter": [
           {
            "fillpattern": {
             "fillmode": "overlay",
             "size": 10,
             "solidity": 0.2
            },
            "type": "scatter"
           }
          ],
          "scatter3d": [
           {
            "line": {
             "colorbar": {
              "outlinewidth": 0,
              "ticks": ""
             }
            },
            "marker": {
             "colorbar": {
              "outlinewidth": 0,
              "ticks": ""
             }
            },
            "type": "scatter3d"
           }
          ],
          "scattercarpet": [
           {
            "marker": {
             "colorbar": {
              "outlinewidth": 0,
              "ticks": ""
             }
            },
            "type": "scattercarpet"
           }
          ],
          "scattergeo": [
           {
            "marker": {
             "colorbar": {
              "outlinewidth": 0,
              "ticks": ""
             }
            },
            "type": "scattergeo"
           }
          ],
          "scattergl": [
           {
            "marker": {
             "colorbar": {
              "outlinewidth": 0,
              "ticks": ""
             }
            },
            "type": "scattergl"
           }
          ],
          "scattermapbox": [
           {
            "marker": {
             "colorbar": {
              "outlinewidth": 0,
              "ticks": ""
             }
            },
            "type": "scattermapbox"
           }
          ],
          "scatterpolar": [
           {
            "marker": {
             "colorbar": {
              "outlinewidth": 0,
              "ticks": ""
             }
            },
            "type": "scatterpolar"
           }
          ],
          "scatterpolargl": [
           {
            "marker": {
             "colorbar": {
              "outlinewidth": 0,
              "ticks": ""
             }
            },
            "type": "scatterpolargl"
           }
          ],
          "scatterternary": [
           {
            "marker": {
             "colorbar": {
              "outlinewidth": 0,
              "ticks": ""
             }
            },
            "type": "scatterternary"
           }
          ],
          "surface": [
           {
            "colorbar": {
             "outlinewidth": 0,
             "ticks": ""
            },
            "colorscale": [
             [
              0,
              "#0d0887"
             ],
             [
              0.1111111111111111,
              "#46039f"
             ],
             [
              0.2222222222222222,
              "#7201a8"
             ],
             [
              0.3333333333333333,
              "#9c179e"
             ],
             [
              0.4444444444444444,
              "#bd3786"
             ],
             [
              0.5555555555555556,
              "#d8576b"
             ],
             [
              0.6666666666666666,
              "#ed7953"
             ],
             [
              0.7777777777777778,
              "#fb9f3a"
             ],
             [
              0.8888888888888888,
              "#fdca26"
             ],
             [
              1,
              "#f0f921"
             ]
            ],
            "type": "surface"
           }
          ],
          "table": [
           {
            "cells": {
             "fill": {
              "color": "#EBF0F8"
             },
             "line": {
              "color": "white"
             }
            },
            "header": {
             "fill": {
              "color": "#C8D4E3"
             },
             "line": {
              "color": "white"
             }
            },
            "type": "table"
           }
          ]
         },
         "layout": {
          "annotationdefaults": {
           "arrowcolor": "#2a3f5f",
           "arrowhead": 0,
           "arrowwidth": 1
          },
          "autotypenumbers": "strict",
          "coloraxis": {
           "colorbar": {
            "outlinewidth": 0,
            "ticks": ""
           }
          },
          "colorscale": {
           "diverging": [
            [
             0,
             "#8e0152"
            ],
            [
             0.1,
             "#c51b7d"
            ],
            [
             0.2,
             "#de77ae"
            ],
            [
             0.3,
             "#f1b6da"
            ],
            [
             0.4,
             "#fde0ef"
            ],
            [
             0.5,
             "#f7f7f7"
            ],
            [
             0.6,
             "#e6f5d0"
            ],
            [
             0.7,
             "#b8e186"
            ],
            [
             0.8,
             "#7fbc41"
            ],
            [
             0.9,
             "#4d9221"
            ],
            [
             1,
             "#276419"
            ]
           ],
           "sequential": [
            [
             0,
             "#0d0887"
            ],
            [
             0.1111111111111111,
             "#46039f"
            ],
            [
             0.2222222222222222,
             "#7201a8"
            ],
            [
             0.3333333333333333,
             "#9c179e"
            ],
            [
             0.4444444444444444,
             "#bd3786"
            ],
            [
             0.5555555555555556,
             "#d8576b"
            ],
            [
             0.6666666666666666,
             "#ed7953"
            ],
            [
             0.7777777777777778,
             "#fb9f3a"
            ],
            [
             0.8888888888888888,
             "#fdca26"
            ],
            [
             1,
             "#f0f921"
            ]
           ],
           "sequentialminus": [
            [
             0,
             "#0d0887"
            ],
            [
             0.1111111111111111,
             "#46039f"
            ],
            [
             0.2222222222222222,
             "#7201a8"
            ],
            [
             0.3333333333333333,
             "#9c179e"
            ],
            [
             0.4444444444444444,
             "#bd3786"
            ],
            [
             0.5555555555555556,
             "#d8576b"
            ],
            [
             0.6666666666666666,
             "#ed7953"
            ],
            [
             0.7777777777777778,
             "#fb9f3a"
            ],
            [
             0.8888888888888888,
             "#fdca26"
            ],
            [
             1,
             "#f0f921"
            ]
           ]
          },
          "colorway": [
           "#636efa",
           "#EF553B",
           "#00cc96",
           "#ab63fa",
           "#FFA15A",
           "#19d3f3",
           "#FF6692",
           "#B6E880",
           "#FF97FF",
           "#FECB52"
          ],
          "font": {
           "color": "#2a3f5f"
          },
          "geo": {
           "bgcolor": "white",
           "lakecolor": "white",
           "landcolor": "white",
           "showlakes": true,
           "showland": true,
           "subunitcolor": "#C8D4E3"
          },
          "hoverlabel": {
           "align": "left"
          },
          "hovermode": "closest",
          "mapbox": {
           "style": "light"
          },
          "paper_bgcolor": "white",
          "plot_bgcolor": "white",
          "polar": {
           "angularaxis": {
            "gridcolor": "#EBF0F8",
            "linecolor": "#EBF0F8",
            "ticks": ""
           },
           "bgcolor": "white",
           "radialaxis": {
            "gridcolor": "#EBF0F8",
            "linecolor": "#EBF0F8",
            "ticks": ""
           }
          },
          "scene": {
           "xaxis": {
            "backgroundcolor": "white",
            "gridcolor": "#DFE8F3",
            "gridwidth": 2,
            "linecolor": "#EBF0F8",
            "showbackground": true,
            "ticks": "",
            "zerolinecolor": "#EBF0F8"
           },
           "yaxis": {
            "backgroundcolor": "white",
            "gridcolor": "#DFE8F3",
            "gridwidth": 2,
            "linecolor": "#EBF0F8",
            "showbackground": true,
            "ticks": "",
            "zerolinecolor": "#EBF0F8"
           },
           "zaxis": {
            "backgroundcolor": "white",
            "gridcolor": "#DFE8F3",
            "gridwidth": 2,
            "linecolor": "#EBF0F8",
            "showbackground": true,
            "ticks": "",
            "zerolinecolor": "#EBF0F8"
           }
          },
          "shapedefaults": {
           "line": {
            "color": "#2a3f5f"
           }
          },
          "ternary": {
           "aaxis": {
            "gridcolor": "#DFE8F3",
            "linecolor": "#A2B1C6",
            "ticks": ""
           },
           "baxis": {
            "gridcolor": "#DFE8F3",
            "linecolor": "#A2B1C6",
            "ticks": ""
           },
           "bgcolor": "white",
           "caxis": {
            "gridcolor": "#DFE8F3",
            "linecolor": "#A2B1C6",
            "ticks": ""
           }
          },
          "title": {
           "x": 0.05
          },
          "xaxis": {
           "automargin": true,
           "gridcolor": "#EBF0F8",
           "linecolor": "#EBF0F8",
           "ticks": "",
           "title": {
            "standoff": 15
           },
           "zerolinecolor": "#EBF0F8",
           "zerolinewidth": 2
          },
          "yaxis": {
           "automargin": true,
           "gridcolor": "#EBF0F8",
           "linecolor": "#EBF0F8",
           "ticks": "",
           "title": {
            "standoff": 15
           },
           "zerolinecolor": "#EBF0F8",
           "zerolinewidth": 2
          }
         }
        },
        "title": {
         "text": "Perfil de Porosidade",
         "x": 0.5
        },
        "width": 1200,
        "xaxis": {
         "range": [
          -0.5,
          8
         ],
         "title": {
          "text": "Comprimento (cm)"
         }
        },
        "yaxis": {
         "range": [
          0,
          25000
         ],
         "title": {
          "text": "Porosidade (%)"
         }
        }
       }
      }
     },
     "metadata": {},
     "output_type": "display_data"
    }
   ],
   "source": [
    "colors = [\n",
    "    'rgba(0, 0, 0, 1)',   # Black\n",
    "    'rgba(105, 55, 20, 1)',  # Brown\n",
    "    'rgba(255, 110, 0, 1)',   # Orange\n",
    "    'rgba(255, 215, 0, 1)',   # Yellow\n",
    "    'rgba(0, 255, 0, 0.8)',  # Green\n",
    "    'rgba(0, 200, 150, 1)',  # Ciane\n",
    "    'rgba(0, 100, 250, 1)',   # Light Blue\n",
    "    'rgba(0, 0, 150, 1)',     # Dark Blue\n",
    "    'rgba(150, 0, 255, 1)',   # Purple\n",
    "    'rgba(255, 0, 0, 1)',  # Red\n",
    "]\n",
    "\n",
    "lista = []\n",
    "for i in range(1,a['J'].max().values+1):\n",
    "    lista.append(7*i/a['J'].max().values)\n",
    "comprimento = pd.DataFrame(lista)\n",
    "\n",
    "\n",
    "trace_1 = go.Scatter(x=comprimento[0],y=perfil_permi[1:],mode='lines',line=dict(color=colors[0], dash='solid'))\n",
    "\n",
    "fig_permi = go.Figure()\n",
    "\n",
    "fig_permi.add_trace(trace_1)\n",
    "\n",
    "fig_permi.update_layout(title='Perfil de Porosidade',\n",
    "                  title_x=0.5,\n",
    "                  xaxis_title='Comprimento (cm)',\n",
    "                  yaxis_title='Porosidade (%)',\n",
    "                  xaxis=dict(\n",
    "                      range=[-.5, 8]),\n",
    "                  yaxis=dict(\n",
    "                      range=[0, 25000]),\n",
    "                  font=dict(\n",
    "                      family='Time News Roman',  # fonte da legenda\n",
    "                      size=30,               # tamanho da fonte\n",
    "                      color='black'         # cor da fonte\n",
    "                      ),\n",
    "                  template='plotly_white',\n",
    "                  width=1200,\n",
    "                  height=800)\n",
    "fig_permi.show()"
   ]
  },
  {
   "cell_type": "code",
   "execution_count": 41,
   "metadata": {},
   "outputs": [
    {
     "data": {
      "application/vnd.plotly.v1+json": {
       "config": {
        "plotlyServerURL": "https://plot.ly"
       },
       "data": [
        {
         "line": {
          "color": "rgba(0, 0, 0, 1)",
          "dash": "solid"
         },
         "mode": "lines",
         "type": "scatter",
         "x": [
          0.2,
          0.4,
          0.6,
          0.8,
          1,
          1.2,
          1.4,
          1.6,
          1.8,
          2,
          2.2,
          2.4,
          2.6,
          2.8,
          3,
          3.2,
          3.4,
          3.6,
          3.8,
          4,
          4.2,
          4.4,
          4.6,
          4.8,
          5,
          5.2,
          5.4,
          5.6,
          5.8,
          6,
          6.2,
          6.4,
          6.6,
          6.8,
          7
         ],
         "y": [
          1333.969970703125,
          1333.969970703125,
          1333.969970703125,
          1333.969970703125,
          1333.969970703125,
          1333.969970703125,
          1333.969970703125,
          1333.969970703125,
          1333.969970703125,
          1333.969970703125,
          1333.969970703125,
          1333.969970703125,
          1333.969970703125,
          1333.969970703125,
          1333.969970703125,
          1333.969970703125,
          1333.969970703125,
          1333.969970703125,
          1333.969970703125,
          1333.969970703125,
          1333.969970703125,
          1333.969970703125,
          1333.969970703125,
          1333.969970703125,
          1333.969970703125,
          1333.969970703125,
          1333.969970703125,
          1333.969970703125,
          1333.969970703125,
          1333.969970703125,
          1333.969970703125,
          1333.969970703125
         ]
        }
       ],
       "layout": {
        "font": {
         "color": "black",
         "family": "Time News Roman",
         "size": 30
        },
        "height": 800,
        "template": {
         "data": {
          "bar": [
           {
            "error_x": {
             "color": "#2a3f5f"
            },
            "error_y": {
             "color": "#2a3f5f"
            },
            "marker": {
             "line": {
              "color": "white",
              "width": 0.5
             },
             "pattern": {
              "fillmode": "overlay",
              "size": 10,
              "solidity": 0.2
             }
            },
            "type": "bar"
           }
          ],
          "barpolar": [
           {
            "marker": {
             "line": {
              "color": "white",
              "width": 0.5
             },
             "pattern": {
              "fillmode": "overlay",
              "size": 10,
              "solidity": 0.2
             }
            },
            "type": "barpolar"
           }
          ],
          "carpet": [
           {
            "aaxis": {
             "endlinecolor": "#2a3f5f",
             "gridcolor": "#C8D4E3",
             "linecolor": "#C8D4E3",
             "minorgridcolor": "#C8D4E3",
             "startlinecolor": "#2a3f5f"
            },
            "baxis": {
             "endlinecolor": "#2a3f5f",
             "gridcolor": "#C8D4E3",
             "linecolor": "#C8D4E3",
             "minorgridcolor": "#C8D4E3",
             "startlinecolor": "#2a3f5f"
            },
            "type": "carpet"
           }
          ],
          "choropleth": [
           {
            "colorbar": {
             "outlinewidth": 0,
             "ticks": ""
            },
            "type": "choropleth"
           }
          ],
          "contour": [
           {
            "colorbar": {
             "outlinewidth": 0,
             "ticks": ""
            },
            "colorscale": [
             [
              0,
              "#0d0887"
             ],
             [
              0.1111111111111111,
              "#46039f"
             ],
             [
              0.2222222222222222,
              "#7201a8"
             ],
             [
              0.3333333333333333,
              "#9c179e"
             ],
             [
              0.4444444444444444,
              "#bd3786"
             ],
             [
              0.5555555555555556,
              "#d8576b"
             ],
             [
              0.6666666666666666,
              "#ed7953"
             ],
             [
              0.7777777777777778,
              "#fb9f3a"
             ],
             [
              0.8888888888888888,
              "#fdca26"
             ],
             [
              1,
              "#f0f921"
             ]
            ],
            "type": "contour"
           }
          ],
          "contourcarpet": [
           {
            "colorbar": {
             "outlinewidth": 0,
             "ticks": ""
            },
            "type": "contourcarpet"
           }
          ],
          "heatmap": [
           {
            "colorbar": {
             "outlinewidth": 0,
             "ticks": ""
            },
            "colorscale": [
             [
              0,
              "#0d0887"
             ],
             [
              0.1111111111111111,
              "#46039f"
             ],
             [
              0.2222222222222222,
              "#7201a8"
             ],
             [
              0.3333333333333333,
              "#9c179e"
             ],
             [
              0.4444444444444444,
              "#bd3786"
             ],
             [
              0.5555555555555556,
              "#d8576b"
             ],
             [
              0.6666666666666666,
              "#ed7953"
             ],
             [
              0.7777777777777778,
              "#fb9f3a"
             ],
             [
              0.8888888888888888,
              "#fdca26"
             ],
             [
              1,
              "#f0f921"
             ]
            ],
            "type": "heatmap"
           }
          ],
          "heatmapgl": [
           {
            "colorbar": {
             "outlinewidth": 0,
             "ticks": ""
            },
            "colorscale": [
             [
              0,
              "#0d0887"
             ],
             [
              0.1111111111111111,
              "#46039f"
             ],
             [
              0.2222222222222222,
              "#7201a8"
             ],
             [
              0.3333333333333333,
              "#9c179e"
             ],
             [
              0.4444444444444444,
              "#bd3786"
             ],
             [
              0.5555555555555556,
              "#d8576b"
             ],
             [
              0.6666666666666666,
              "#ed7953"
             ],
             [
              0.7777777777777778,
              "#fb9f3a"
             ],
             [
              0.8888888888888888,
              "#fdca26"
             ],
             [
              1,
              "#f0f921"
             ]
            ],
            "type": "heatmapgl"
           }
          ],
          "histogram": [
           {
            "marker": {
             "pattern": {
              "fillmode": "overlay",
              "size": 10,
              "solidity": 0.2
             }
            },
            "type": "histogram"
           }
          ],
          "histogram2d": [
           {
            "colorbar": {
             "outlinewidth": 0,
             "ticks": ""
            },
            "colorscale": [
             [
              0,
              "#0d0887"
             ],
             [
              0.1111111111111111,
              "#46039f"
             ],
             [
              0.2222222222222222,
              "#7201a8"
             ],
             [
              0.3333333333333333,
              "#9c179e"
             ],
             [
              0.4444444444444444,
              "#bd3786"
             ],
             [
              0.5555555555555556,
              "#d8576b"
             ],
             [
              0.6666666666666666,
              "#ed7953"
             ],
             [
              0.7777777777777778,
              "#fb9f3a"
             ],
             [
              0.8888888888888888,
              "#fdca26"
             ],
             [
              1,
              "#f0f921"
             ]
            ],
            "type": "histogram2d"
           }
          ],
          "histogram2dcontour": [
           {
            "colorbar": {
             "outlinewidth": 0,
             "ticks": ""
            },
            "colorscale": [
             [
              0,
              "#0d0887"
             ],
             [
              0.1111111111111111,
              "#46039f"
             ],
             [
              0.2222222222222222,
              "#7201a8"
             ],
             [
              0.3333333333333333,
              "#9c179e"
             ],
             [
              0.4444444444444444,
              "#bd3786"
             ],
             [
              0.5555555555555556,
              "#d8576b"
             ],
             [
              0.6666666666666666,
              "#ed7953"
             ],
             [
              0.7777777777777778,
              "#fb9f3a"
             ],
             [
              0.8888888888888888,
              "#fdca26"
             ],
             [
              1,
              "#f0f921"
             ]
            ],
            "type": "histogram2dcontour"
           }
          ],
          "mesh3d": [
           {
            "colorbar": {
             "outlinewidth": 0,
             "ticks": ""
            },
            "type": "mesh3d"
           }
          ],
          "parcoords": [
           {
            "line": {
             "colorbar": {
              "outlinewidth": 0,
              "ticks": ""
             }
            },
            "type": "parcoords"
           }
          ],
          "pie": [
           {
            "automargin": true,
            "type": "pie"
           }
          ],
          "scatter": [
           {
            "fillpattern": {
             "fillmode": "overlay",
             "size": 10,
             "solidity": 0.2
            },
            "type": "scatter"
           }
          ],
          "scatter3d": [
           {
            "line": {
             "colorbar": {
              "outlinewidth": 0,
              "ticks": ""
             }
            },
            "marker": {
             "colorbar": {
              "outlinewidth": 0,
              "ticks": ""
             }
            },
            "type": "scatter3d"
           }
          ],
          "scattercarpet": [
           {
            "marker": {
             "colorbar": {
              "outlinewidth": 0,
              "ticks": ""
             }
            },
            "type": "scattercarpet"
           }
          ],
          "scattergeo": [
           {
            "marker": {
             "colorbar": {
              "outlinewidth": 0,
              "ticks": ""
             }
            },
            "type": "scattergeo"
           }
          ],
          "scattergl": [
           {
            "marker": {
             "colorbar": {
              "outlinewidth": 0,
              "ticks": ""
             }
            },
            "type": "scattergl"
           }
          ],
          "scattermapbox": [
           {
            "marker": {
             "colorbar": {
              "outlinewidth": 0,
              "ticks": ""
             }
            },
            "type": "scattermapbox"
           }
          ],
          "scatterpolar": [
           {
            "marker": {
             "colorbar": {
              "outlinewidth": 0,
              "ticks": ""
             }
            },
            "type": "scatterpolar"
           }
          ],
          "scatterpolargl": [
           {
            "marker": {
             "colorbar": {
              "outlinewidth": 0,
              "ticks": ""
             }
            },
            "type": "scatterpolargl"
           }
          ],
          "scatterternary": [
           {
            "marker": {
             "colorbar": {
              "outlinewidth": 0,
              "ticks": ""
             }
            },
            "type": "scatterternary"
           }
          ],
          "surface": [
           {
            "colorbar": {
             "outlinewidth": 0,
             "ticks": ""
            },
            "colorscale": [
             [
              0,
              "#0d0887"
             ],
             [
              0.1111111111111111,
              "#46039f"
             ],
             [
              0.2222222222222222,
              "#7201a8"
             ],
             [
              0.3333333333333333,
              "#9c179e"
             ],
             [
              0.4444444444444444,
              "#bd3786"
             ],
             [
              0.5555555555555556,
              "#d8576b"
             ],
             [
              0.6666666666666666,
              "#ed7953"
             ],
             [
              0.7777777777777778,
              "#fb9f3a"
             ],
             [
              0.8888888888888888,
              "#fdca26"
             ],
             [
              1,
              "#f0f921"
             ]
            ],
            "type": "surface"
           }
          ],
          "table": [
           {
            "cells": {
             "fill": {
              "color": "#EBF0F8"
             },
             "line": {
              "color": "white"
             }
            },
            "header": {
             "fill": {
              "color": "#C8D4E3"
             },
             "line": {
              "color": "white"
             }
            },
            "type": "table"
           }
          ]
         },
         "layout": {
          "annotationdefaults": {
           "arrowcolor": "#2a3f5f",
           "arrowhead": 0,
           "arrowwidth": 1
          },
          "autotypenumbers": "strict",
          "coloraxis": {
           "colorbar": {
            "outlinewidth": 0,
            "ticks": ""
           }
          },
          "colorscale": {
           "diverging": [
            [
             0,
             "#8e0152"
            ],
            [
             0.1,
             "#c51b7d"
            ],
            [
             0.2,
             "#de77ae"
            ],
            [
             0.3,
             "#f1b6da"
            ],
            [
             0.4,
             "#fde0ef"
            ],
            [
             0.5,
             "#f7f7f7"
            ],
            [
             0.6,
             "#e6f5d0"
            ],
            [
             0.7,
             "#b8e186"
            ],
            [
             0.8,
             "#7fbc41"
            ],
            [
             0.9,
             "#4d9221"
            ],
            [
             1,
             "#276419"
            ]
           ],
           "sequential": [
            [
             0,
             "#0d0887"
            ],
            [
             0.1111111111111111,
             "#46039f"
            ],
            [
             0.2222222222222222,
             "#7201a8"
            ],
            [
             0.3333333333333333,
             "#9c179e"
            ],
            [
             0.4444444444444444,
             "#bd3786"
            ],
            [
             0.5555555555555556,
             "#d8576b"
            ],
            [
             0.6666666666666666,
             "#ed7953"
            ],
            [
             0.7777777777777778,
             "#fb9f3a"
            ],
            [
             0.8888888888888888,
             "#fdca26"
            ],
            [
             1,
             "#f0f921"
            ]
           ],
           "sequentialminus": [
            [
             0,
             "#0d0887"
            ],
            [
             0.1111111111111111,
             "#46039f"
            ],
            [
             0.2222222222222222,
             "#7201a8"
            ],
            [
             0.3333333333333333,
             "#9c179e"
            ],
            [
             0.4444444444444444,
             "#bd3786"
            ],
            [
             0.5555555555555556,
             "#d8576b"
            ],
            [
             0.6666666666666666,
             "#ed7953"
            ],
            [
             0.7777777777777778,
             "#fb9f3a"
            ],
            [
             0.8888888888888888,
             "#fdca26"
            ],
            [
             1,
             "#f0f921"
            ]
           ]
          },
          "colorway": [
           "#636efa",
           "#EF553B",
           "#00cc96",
           "#ab63fa",
           "#FFA15A",
           "#19d3f3",
           "#FF6692",
           "#B6E880",
           "#FF97FF",
           "#FECB52"
          ],
          "font": {
           "color": "#2a3f5f"
          },
          "geo": {
           "bgcolor": "white",
           "lakecolor": "white",
           "landcolor": "white",
           "showlakes": true,
           "showland": true,
           "subunitcolor": "#C8D4E3"
          },
          "hoverlabel": {
           "align": "left"
          },
          "hovermode": "closest",
          "mapbox": {
           "style": "light"
          },
          "paper_bgcolor": "white",
          "plot_bgcolor": "white",
          "polar": {
           "angularaxis": {
            "gridcolor": "#EBF0F8",
            "linecolor": "#EBF0F8",
            "ticks": ""
           },
           "bgcolor": "white",
           "radialaxis": {
            "gridcolor": "#EBF0F8",
            "linecolor": "#EBF0F8",
            "ticks": ""
           }
          },
          "scene": {
           "xaxis": {
            "backgroundcolor": "white",
            "gridcolor": "#DFE8F3",
            "gridwidth": 2,
            "linecolor": "#EBF0F8",
            "showbackground": true,
            "ticks": "",
            "zerolinecolor": "#EBF0F8"
           },
           "yaxis": {
            "backgroundcolor": "white",
            "gridcolor": "#DFE8F3",
            "gridwidth": 2,
            "linecolor": "#EBF0F8",
            "showbackground": true,
            "ticks": "",
            "zerolinecolor": "#EBF0F8"
           },
           "zaxis": {
            "backgroundcolor": "white",
            "gridcolor": "#DFE8F3",
            "gridwidth": 2,
            "linecolor": "#EBF0F8",
            "showbackground": true,
            "ticks": "",
            "zerolinecolor": "#EBF0F8"
           }
          },
          "shapedefaults": {
           "line": {
            "color": "#2a3f5f"
           }
          },
          "ternary": {
           "aaxis": {
            "gridcolor": "#DFE8F3",
            "linecolor": "#A2B1C6",
            "ticks": ""
           },
           "baxis": {
            "gridcolor": "#DFE8F3",
            "linecolor": "#A2B1C6",
            "ticks": ""
           },
           "bgcolor": "white",
           "caxis": {
            "gridcolor": "#DFE8F3",
            "linecolor": "#A2B1C6",
            "ticks": ""
           }
          },
          "title": {
           "x": 0.05
          },
          "xaxis": {
           "automargin": true,
           "gridcolor": "#EBF0F8",
           "linecolor": "#EBF0F8",
           "ticks": "",
           "title": {
            "standoff": 15
           },
           "zerolinecolor": "#EBF0F8",
           "zerolinewidth": 2
          },
          "yaxis": {
           "automargin": true,
           "gridcolor": "#EBF0F8",
           "linecolor": "#EBF0F8",
           "ticks": "",
           "title": {
            "standoff": 15
           },
           "zerolinecolor": "#EBF0F8",
           "zerolinewidth": 2
          }
         }
        },
        "title": {
         "text": "Perfil de Porosidade",
         "x": 0.5
        },
        "width": 1200,
        "xaxis": {
         "range": [
          -0.5,
          8
         ],
         "title": {
          "text": "Comprimento (cm)"
         }
        },
        "yaxis": {
         "range": [
          0,
          25000
         ],
         "title": {
          "text": "Porosidade (%)"
         }
        }
       }
      }
     },
     "metadata": {},
     "output_type": "display_data"
    }
   ],
   "source": [
    "colors = [\n",
    "    'rgba(0, 0, 0, 1)',   # Black\n",
    "    'rgba(105, 55, 20, 1)',  # Brown\n",
    "    'rgba(255, 110, 0, 1)',   # Orange\n",
    "    'rgba(255, 215, 0, 1)',   # Yellow\n",
    "    'rgba(0, 255, 0, 0.8)',  # Green\n",
    "    'rgba(0, 200, 150, 1)',  # Ciane\n",
    "    'rgba(0, 100, 250, 1)',   # Light Blue\n",
    "    'rgba(0, 0, 150, 1)',     # Dark Blue\n",
    "    'rgba(150, 0, 255, 1)',   # Purple\n",
    "    'rgba(255, 0, 0, 1)',  # Red\n",
    "]\n",
    "\n",
    "lista = []\n",
    "for i in range(1,a['J'].max().values+1):\n",
    "    lista.append(7*i/a['J'].max().values)\n",
    "comprimento = pd.DataFrame(lista)\n",
    "\n",
    "\n",
    "trace_1 = go.Scatter(x=comprimento[0],y=perfil_permj[1:],mode='lines',line=dict(color=colors[0], dash='solid'))\n",
    "\n",
    "fig_permj = go.Figure()\n",
    "\n",
    "fig_permj.add_trace(trace_1)\n",
    "\n",
    "fig_permj.update_layout(title='Perfil de Porosidade',\n",
    "                  title_x=0.5,\n",
    "                  xaxis_title='Comprimento (cm)',\n",
    "                  yaxis_title='Porosidade (%)',\n",
    "                  xaxis=dict(\n",
    "                      range=[-.5, 8]),\n",
    "                  yaxis=dict(\n",
    "                      range=[0, 25000]),\n",
    "                  font=dict(\n",
    "                      family='Time News Roman',  # fonte da legenda\n",
    "                      size=30,               # tamanho da fonte\n",
    "                      color='black'         # cor da fonte\n",
    "                      ),\n",
    "                  template='plotly_white',\n",
    "                  width=1200,\n",
    "                  height=800)\n",
    "fig_permj.show()"
   ]
  },
  {
   "cell_type": "code",
   "execution_count": 42,
   "metadata": {},
   "outputs": [
    {
     "data": {
      "application/vnd.plotly.v1+json": {
       "config": {
        "plotlyServerURL": "https://plot.ly"
       },
       "data": [
        {
         "line": {
          "color": "rgba(0, 0, 0, 1)",
          "dash": "solid"
         },
         "mode": "lines",
         "type": "scatter",
         "x": [
          0.2,
          0.4,
          0.6,
          0.8,
          1,
          1.2,
          1.4,
          1.6,
          1.8,
          2,
          2.2,
          2.4,
          2.6,
          2.8,
          3,
          3.2,
          3.4,
          3.6,
          3.8,
          4,
          4.2,
          4.4,
          4.6,
          4.8,
          5,
          5.2,
          5.4,
          5.6,
          5.8,
          6,
          6.2,
          6.4,
          6.6,
          6.8,
          7
         ],
         "y": [
          1333.969970703125,
          1333.969970703125,
          1333.969970703125,
          1333.969970703125,
          1333.969970703125,
          1333.969970703125,
          1333.969970703125,
          1333.969970703125,
          1333.969970703125,
          1333.969970703125,
          1333.969970703125,
          1333.969970703125,
          1333.969970703125,
          1333.969970703125,
          1333.969970703125,
          1333.969970703125,
          1333.969970703125,
          1333.969970703125,
          1333.969970703125,
          1333.969970703125,
          1333.969970703125,
          1333.969970703125,
          1333.969970703125,
          1333.969970703125,
          1333.969970703125,
          1333.969970703125,
          1333.969970703125,
          1333.969970703125,
          1333.969970703125,
          1333.969970703125,
          1333.969970703125,
          1333.969970703125
         ]
        }
       ],
       "layout": {
        "font": {
         "color": "black",
         "family": "Time News Roman",
         "size": 30
        },
        "height": 800,
        "template": {
         "data": {
          "bar": [
           {
            "error_x": {
             "color": "#2a3f5f"
            },
            "error_y": {
             "color": "#2a3f5f"
            },
            "marker": {
             "line": {
              "color": "white",
              "width": 0.5
             },
             "pattern": {
              "fillmode": "overlay",
              "size": 10,
              "solidity": 0.2
             }
            },
            "type": "bar"
           }
          ],
          "barpolar": [
           {
            "marker": {
             "line": {
              "color": "white",
              "width": 0.5
             },
             "pattern": {
              "fillmode": "overlay",
              "size": 10,
              "solidity": 0.2
             }
            },
            "type": "barpolar"
           }
          ],
          "carpet": [
           {
            "aaxis": {
             "endlinecolor": "#2a3f5f",
             "gridcolor": "#C8D4E3",
             "linecolor": "#C8D4E3",
             "minorgridcolor": "#C8D4E3",
             "startlinecolor": "#2a3f5f"
            },
            "baxis": {
             "endlinecolor": "#2a3f5f",
             "gridcolor": "#C8D4E3",
             "linecolor": "#C8D4E3",
             "minorgridcolor": "#C8D4E3",
             "startlinecolor": "#2a3f5f"
            },
            "type": "carpet"
           }
          ],
          "choropleth": [
           {
            "colorbar": {
             "outlinewidth": 0,
             "ticks": ""
            },
            "type": "choropleth"
           }
          ],
          "contour": [
           {
            "colorbar": {
             "outlinewidth": 0,
             "ticks": ""
            },
            "colorscale": [
             [
              0,
              "#0d0887"
             ],
             [
              0.1111111111111111,
              "#46039f"
             ],
             [
              0.2222222222222222,
              "#7201a8"
             ],
             [
              0.3333333333333333,
              "#9c179e"
             ],
             [
              0.4444444444444444,
              "#bd3786"
             ],
             [
              0.5555555555555556,
              "#d8576b"
             ],
             [
              0.6666666666666666,
              "#ed7953"
             ],
             [
              0.7777777777777778,
              "#fb9f3a"
             ],
             [
              0.8888888888888888,
              "#fdca26"
             ],
             [
              1,
              "#f0f921"
             ]
            ],
            "type": "contour"
           }
          ],
          "contourcarpet": [
           {
            "colorbar": {
             "outlinewidth": 0,
             "ticks": ""
            },
            "type": "contourcarpet"
           }
          ],
          "heatmap": [
           {
            "colorbar": {
             "outlinewidth": 0,
             "ticks": ""
            },
            "colorscale": [
             [
              0,
              "#0d0887"
             ],
             [
              0.1111111111111111,
              "#46039f"
             ],
             [
              0.2222222222222222,
              "#7201a8"
             ],
             [
              0.3333333333333333,
              "#9c179e"
             ],
             [
              0.4444444444444444,
              "#bd3786"
             ],
             [
              0.5555555555555556,
              "#d8576b"
             ],
             [
              0.6666666666666666,
              "#ed7953"
             ],
             [
              0.7777777777777778,
              "#fb9f3a"
             ],
             [
              0.8888888888888888,
              "#fdca26"
             ],
             [
              1,
              "#f0f921"
             ]
            ],
            "type": "heatmap"
           }
          ],
          "heatmapgl": [
           {
            "colorbar": {
             "outlinewidth": 0,
             "ticks": ""
            },
            "colorscale": [
             [
              0,
              "#0d0887"
             ],
             [
              0.1111111111111111,
              "#46039f"
             ],
             [
              0.2222222222222222,
              "#7201a8"
             ],
             [
              0.3333333333333333,
              "#9c179e"
             ],
             [
              0.4444444444444444,
              "#bd3786"
             ],
             [
              0.5555555555555556,
              "#d8576b"
             ],
             [
              0.6666666666666666,
              "#ed7953"
             ],
             [
              0.7777777777777778,
              "#fb9f3a"
             ],
             [
              0.8888888888888888,
              "#fdca26"
             ],
             [
              1,
              "#f0f921"
             ]
            ],
            "type": "heatmapgl"
           }
          ],
          "histogram": [
           {
            "marker": {
             "pattern": {
              "fillmode": "overlay",
              "size": 10,
              "solidity": 0.2
             }
            },
            "type": "histogram"
           }
          ],
          "histogram2d": [
           {
            "colorbar": {
             "outlinewidth": 0,
             "ticks": ""
            },
            "colorscale": [
             [
              0,
              "#0d0887"
             ],
             [
              0.1111111111111111,
              "#46039f"
             ],
             [
              0.2222222222222222,
              "#7201a8"
             ],
             [
              0.3333333333333333,
              "#9c179e"
             ],
             [
              0.4444444444444444,
              "#bd3786"
             ],
             [
              0.5555555555555556,
              "#d8576b"
             ],
             [
              0.6666666666666666,
              "#ed7953"
             ],
             [
              0.7777777777777778,
              "#fb9f3a"
             ],
             [
              0.8888888888888888,
              "#fdca26"
             ],
             [
              1,
              "#f0f921"
             ]
            ],
            "type": "histogram2d"
           }
          ],
          "histogram2dcontour": [
           {
            "colorbar": {
             "outlinewidth": 0,
             "ticks": ""
            },
            "colorscale": [
             [
              0,
              "#0d0887"
             ],
             [
              0.1111111111111111,
              "#46039f"
             ],
             [
              0.2222222222222222,
              "#7201a8"
             ],
             [
              0.3333333333333333,
              "#9c179e"
             ],
             [
              0.4444444444444444,
              "#bd3786"
             ],
             [
              0.5555555555555556,
              "#d8576b"
             ],
             [
              0.6666666666666666,
              "#ed7953"
             ],
             [
              0.7777777777777778,
              "#fb9f3a"
             ],
             [
              0.8888888888888888,
              "#fdca26"
             ],
             [
              1,
              "#f0f921"
             ]
            ],
            "type": "histogram2dcontour"
           }
          ],
          "mesh3d": [
           {
            "colorbar": {
             "outlinewidth": 0,
             "ticks": ""
            },
            "type": "mesh3d"
           }
          ],
          "parcoords": [
           {
            "line": {
             "colorbar": {
              "outlinewidth": 0,
              "ticks": ""
             }
            },
            "type": "parcoords"
           }
          ],
          "pie": [
           {
            "automargin": true,
            "type": "pie"
           }
          ],
          "scatter": [
           {
            "fillpattern": {
             "fillmode": "overlay",
             "size": 10,
             "solidity": 0.2
            },
            "type": "scatter"
           }
          ],
          "scatter3d": [
           {
            "line": {
             "colorbar": {
              "outlinewidth": 0,
              "ticks": ""
             }
            },
            "marker": {
             "colorbar": {
              "outlinewidth": 0,
              "ticks": ""
             }
            },
            "type": "scatter3d"
           }
          ],
          "scattercarpet": [
           {
            "marker": {
             "colorbar": {
              "outlinewidth": 0,
              "ticks": ""
             }
            },
            "type": "scattercarpet"
           }
          ],
          "scattergeo": [
           {
            "marker": {
             "colorbar": {
              "outlinewidth": 0,
              "ticks": ""
             }
            },
            "type": "scattergeo"
           }
          ],
          "scattergl": [
           {
            "marker": {
             "colorbar": {
              "outlinewidth": 0,
              "ticks": ""
             }
            },
            "type": "scattergl"
           }
          ],
          "scattermapbox": [
           {
            "marker": {
             "colorbar": {
              "outlinewidth": 0,
              "ticks": ""
             }
            },
            "type": "scattermapbox"
           }
          ],
          "scatterpolar": [
           {
            "marker": {
             "colorbar": {
              "outlinewidth": 0,
              "ticks": ""
             }
            },
            "type": "scatterpolar"
           }
          ],
          "scatterpolargl": [
           {
            "marker": {
             "colorbar": {
              "outlinewidth": 0,
              "ticks": ""
             }
            },
            "type": "scatterpolargl"
           }
          ],
          "scatterternary": [
           {
            "marker": {
             "colorbar": {
              "outlinewidth": 0,
              "ticks": ""
             }
            },
            "type": "scatterternary"
           }
          ],
          "surface": [
           {
            "colorbar": {
             "outlinewidth": 0,
             "ticks": ""
            },
            "colorscale": [
             [
              0,
              "#0d0887"
             ],
             [
              0.1111111111111111,
              "#46039f"
             ],
             [
              0.2222222222222222,
              "#7201a8"
             ],
             [
              0.3333333333333333,
              "#9c179e"
             ],
             [
              0.4444444444444444,
              "#bd3786"
             ],
             [
              0.5555555555555556,
              "#d8576b"
             ],
             [
              0.6666666666666666,
              "#ed7953"
             ],
             [
              0.7777777777777778,
              "#fb9f3a"
             ],
             [
              0.8888888888888888,
              "#fdca26"
             ],
             [
              1,
              "#f0f921"
             ]
            ],
            "type": "surface"
           }
          ],
          "table": [
           {
            "cells": {
             "fill": {
              "color": "#EBF0F8"
             },
             "line": {
              "color": "white"
             }
            },
            "header": {
             "fill": {
              "color": "#C8D4E3"
             },
             "line": {
              "color": "white"
             }
            },
            "type": "table"
           }
          ]
         },
         "layout": {
          "annotationdefaults": {
           "arrowcolor": "#2a3f5f",
           "arrowhead": 0,
           "arrowwidth": 1
          },
          "autotypenumbers": "strict",
          "coloraxis": {
           "colorbar": {
            "outlinewidth": 0,
            "ticks": ""
           }
          },
          "colorscale": {
           "diverging": [
            [
             0,
             "#8e0152"
            ],
            [
             0.1,
             "#c51b7d"
            ],
            [
             0.2,
             "#de77ae"
            ],
            [
             0.3,
             "#f1b6da"
            ],
            [
             0.4,
             "#fde0ef"
            ],
            [
             0.5,
             "#f7f7f7"
            ],
            [
             0.6,
             "#e6f5d0"
            ],
            [
             0.7,
             "#b8e186"
            ],
            [
             0.8,
             "#7fbc41"
            ],
            [
             0.9,
             "#4d9221"
            ],
            [
             1,
             "#276419"
            ]
           ],
           "sequential": [
            [
             0,
             "#0d0887"
            ],
            [
             0.1111111111111111,
             "#46039f"
            ],
            [
             0.2222222222222222,
             "#7201a8"
            ],
            [
             0.3333333333333333,
             "#9c179e"
            ],
            [
             0.4444444444444444,
             "#bd3786"
            ],
            [
             0.5555555555555556,
             "#d8576b"
            ],
            [
             0.6666666666666666,
             "#ed7953"
            ],
            [
             0.7777777777777778,
             "#fb9f3a"
            ],
            [
             0.8888888888888888,
             "#fdca26"
            ],
            [
             1,
             "#f0f921"
            ]
           ],
           "sequentialminus": [
            [
             0,
             "#0d0887"
            ],
            [
             0.1111111111111111,
             "#46039f"
            ],
            [
             0.2222222222222222,
             "#7201a8"
            ],
            [
             0.3333333333333333,
             "#9c179e"
            ],
            [
             0.4444444444444444,
             "#bd3786"
            ],
            [
             0.5555555555555556,
             "#d8576b"
            ],
            [
             0.6666666666666666,
             "#ed7953"
            ],
            [
             0.7777777777777778,
             "#fb9f3a"
            ],
            [
             0.8888888888888888,
             "#fdca26"
            ],
            [
             1,
             "#f0f921"
            ]
           ]
          },
          "colorway": [
           "#636efa",
           "#EF553B",
           "#00cc96",
           "#ab63fa",
           "#FFA15A",
           "#19d3f3",
           "#FF6692",
           "#B6E880",
           "#FF97FF",
           "#FECB52"
          ],
          "font": {
           "color": "#2a3f5f"
          },
          "geo": {
           "bgcolor": "white",
           "lakecolor": "white",
           "landcolor": "white",
           "showlakes": true,
           "showland": true,
           "subunitcolor": "#C8D4E3"
          },
          "hoverlabel": {
           "align": "left"
          },
          "hovermode": "closest",
          "mapbox": {
           "style": "light"
          },
          "paper_bgcolor": "white",
          "plot_bgcolor": "white",
          "polar": {
           "angularaxis": {
            "gridcolor": "#EBF0F8",
            "linecolor": "#EBF0F8",
            "ticks": ""
           },
           "bgcolor": "white",
           "radialaxis": {
            "gridcolor": "#EBF0F8",
            "linecolor": "#EBF0F8",
            "ticks": ""
           }
          },
          "scene": {
           "xaxis": {
            "backgroundcolor": "white",
            "gridcolor": "#DFE8F3",
            "gridwidth": 2,
            "linecolor": "#EBF0F8",
            "showbackground": true,
            "ticks": "",
            "zerolinecolor": "#EBF0F8"
           },
           "yaxis": {
            "backgroundcolor": "white",
            "gridcolor": "#DFE8F3",
            "gridwidth": 2,
            "linecolor": "#EBF0F8",
            "showbackground": true,
            "ticks": "",
            "zerolinecolor": "#EBF0F8"
           },
           "zaxis": {
            "backgroundcolor": "white",
            "gridcolor": "#DFE8F3",
            "gridwidth": 2,
            "linecolor": "#EBF0F8",
            "showbackground": true,
            "ticks": "",
            "zerolinecolor": "#EBF0F8"
           }
          },
          "shapedefaults": {
           "line": {
            "color": "#2a3f5f"
           }
          },
          "ternary": {
           "aaxis": {
            "gridcolor": "#DFE8F3",
            "linecolor": "#A2B1C6",
            "ticks": ""
           },
           "baxis": {
            "gridcolor": "#DFE8F3",
            "linecolor": "#A2B1C6",
            "ticks": ""
           },
           "bgcolor": "white",
           "caxis": {
            "gridcolor": "#DFE8F3",
            "linecolor": "#A2B1C6",
            "ticks": ""
           }
          },
          "title": {
           "x": 0.05
          },
          "xaxis": {
           "automargin": true,
           "gridcolor": "#EBF0F8",
           "linecolor": "#EBF0F8",
           "ticks": "",
           "title": {
            "standoff": 15
           },
           "zerolinecolor": "#EBF0F8",
           "zerolinewidth": 2
          },
          "yaxis": {
           "automargin": true,
           "gridcolor": "#EBF0F8",
           "linecolor": "#EBF0F8",
           "ticks": "",
           "title": {
            "standoff": 15
           },
           "zerolinecolor": "#EBF0F8",
           "zerolinewidth": 2
          }
         }
        },
        "title": {
         "text": "Perfil de Porosidade",
         "x": 0.5
        },
        "width": 1200,
        "xaxis": {
         "range": [
          -0.5,
          8
         ],
         "title": {
          "text": "Comprimento (cm)"
         }
        },
        "yaxis": {
         "range": [
          0,
          25000
         ],
         "title": {
          "text": "Porosidade (%)"
         }
        }
       }
      }
     },
     "metadata": {},
     "output_type": "display_data"
    }
   ],
   "source": [
    "colors = [\n",
    "    'rgba(0, 0, 0, 1)',   # Black\n",
    "    'rgba(105, 55, 20, 1)',  # Brown\n",
    "    'rgba(255, 110, 0, 1)',   # Orange\n",
    "    'rgba(255, 215, 0, 1)',   # Yellow\n",
    "    'rgba(0, 255, 0, 0.8)',  # Green\n",
    "    'rgba(0, 200, 150, 1)',  # Ciane\n",
    "    'rgba(0, 100, 250, 1)',   # Light Blue\n",
    "    'rgba(0, 0, 150, 1)',     # Dark Blue\n",
    "    'rgba(150, 0, 255, 1)',   # Purple\n",
    "    'rgba(255, 0, 0, 1)',  # Red\n",
    "]\n",
    "\n",
    "lista = []\n",
    "for i in range(1,a['J'].max().values+1):\n",
    "    lista.append(7*i/a['J'].max().values)\n",
    "comprimento = pd.DataFrame(lista)\n",
    "\n",
    "\n",
    "trace_1 = go.Scatter(x=comprimento[0],y=perfil_permk[1:],mode='lines',line=dict(color=colors[0], dash='solid'))\n",
    "\n",
    "fig_permk = go.Figure()\n",
    "\n",
    "fig_permk.add_trace(trace_1)\n",
    "\n",
    "fig_permk.update_layout(title='Perfil de Porosidade',\n",
    "                  title_x=0.5,\n",
    "                  xaxis_title='Comprimento (cm)',\n",
    "                  yaxis_title='Porosidade (%)',\n",
    "                  xaxis=dict(\n",
    "                      range=[-.5, 8]),\n",
    "                  yaxis=dict(\n",
    "                      range=[0, 25000]),\n",
    "                  font=dict(\n",
    "                      family='Time News Roman',  # fonte da legenda\n",
    "                      size=30,               # tamanho da fonte\n",
    "                      color='black'         # cor da fonte\n",
    "                      ),\n",
    "                  template='plotly_white',\n",
    "                  width=1200,\n",
    "                  height=800)\n",
    "fig_permk.show()"
   ]
  },
  {
   "cell_type": "markdown",
   "metadata": {},
   "source": [
    "# DP"
   ]
  },
  {
   "cell_type": "markdown",
   "metadata": {},
   "source": [
    "Cria gráfico de DP utilizando função já definida no ogsim para recuperar dados de pressão no bloco onde os poços foram perfurados"
   ]
  },
  {
   "cell_type": "code",
   "execution_count": 43,
   "metadata": {},
   "outputs": [
    {
     "data": {
      "application/vnd.plotly.v1+json": {
       "config": {
        "plotlyServerURL": "https://plot.ly"
       },
       "data": [
        {
         "line": {
          "color": "rgba(0, 0, 0, 1)",
          "dash": "solid"
         },
         "mode": "lines",
         "name": "<i>Homogêneo</i>",
         "type": "scatter",
         "x": [
          0.000010000000000006396,
          0.000022000000000014074,
          0.00003640000000002329,
          0.00005368000000003434,
          0.0000744160000000476,
          0.00009929920000006352,
          0.00012915904000008262,
          0.00016499084800010555,
          0.00020798901760013305,
          0.000259586821120166,
          0.0003215041853442056,
          0.000395805022413053,
          0.00048496602689566997,
          0.0005919592322748103,
          0.0007203510787297786,
          0.0008744212944757407,
          0.001059305553370895,
          0.0012811666640450805,
          0.0015473999968541028,
          0.0018668799962249297,
          0.002250255995469922,
          0.0027103071945639126,
          0.003262368633476701,
          0.003924842360172047,
          0.004719810832206463,
          0.005673772998647762,
          0.00681852759837732,
          0.008192233118052792,
          0.009840679741663355,
          0.011818815689996032,
          0.014192578827995244,
          0.0170410945935943,
          0.02045931351231316,
          0.0245611762147758,
          0.029483411457730965,
          0.035390093749277166,
          0.0424781124991326,
          0.050983734998959127,
          0.061190481998750955,
          0.07343857839850115,
          0.08813629407820138,
          0.10577355289384166,
          0.12693826347260997,
          0.15233591616713196,
          0.18281309940055834,
          0.21938571928067,
          0.263272863136804,
          0.3109489908428613,
          0.3669083283041911,
          0.4203527065286772,
          0.48144569482854477,
          0.5407966781282229,
          0.5972857454685006,
          0.6600793124784334,
          0.7208873333456794,
          0.7865625298005116,
          0.856935684363441,
          0.9253176202890896,
          1.0000000000006395,
          1.0747355676664192,
          1.1478943622266389,
          1.2269722977924649,
          1.301827197300124,
          1.376273478056396,
          1.4524413759854176,
          1.5332090520561679,
          1.6132930628278015,
          1.6975763655823133,
          1.7817939026932499,
          1.8600390630185746,
          1.9300195315099267,
          2.000000000001279,
          2.0832952448712394,
          2.1635094836885895,
          2.2469946575272957,
          2.3291807494426826,
          2.415830257610647,
          2.502323589628012,
          2.5872513637512013,
          2.6682802699965915,
          2.756796234417447,
          2.8389821946418126,
          2.919491097321866,
          3.0000000000019185,
          3.086851884828246,
          3.1754702724815798,
          3.262748411142611,
          3.355391535325567,
          3.4394164503360676,
          3.524959179300268,
          3.6168956201069764,
          3.7095385603657256,
          3.8048909926088674,
          3.8927070697013586,
          3.9463535348519585,
          4.000000000002558,
          4.064375758183278,
          4.141626668000141,
          4.222117898364532,
          4.309414412642532,
          4.39449259911811,
          4.485238498524607,
          4.573068758496746,
          4.657244143738479,
          4.729720578278639,
          4.791813394257918,
          4.852379632461641,
          4.9156592455891355,
          4.957829622796167,
          5.000000000003197,
          5.050604452651636,
          5.111329795829761,
          5.184200207643512,
          5.222396085989788,
          5.244946768479723,
          5.258277700180957,
          5.2702384567525185,
          5.276990429371784,
          5.285092796514903,
          5.294192460105453,
          5.305112056414114,
          5.313576547276506,
          5.320057362920831,
          5.327834341694021,
          5.334662593096493,
          5.3411486728530955,
          5.347912102585406,
          5.354709676443021,
          5.358833145602827,
          5.363502040361818,
          5.369104714072608,
          5.375827922525555,
          5.380079801831455,
          5.384278995730091,
          5.3881990443675765,
          5.392112746324691,
          5.3968091886732275,
          5.401157428145381,
          5.4046106277381885,
          5.408754467249556,
          5.412322088466672,
          5.416603233927209,
          5.420980549533419,
          5.424801323747605,
          5.42938625280463,
          5.433207425903172,
          5.437792833621422,
          5.442136889020356,
          5.447349755499076,
          5.452052709941355,
          5.457626882160038,
          5.464315888822458,
          5.472342696817363,
          5.481974866411249,
          5.487754168167579,
          5.494689330275176,
          5.503011524804293,
          5.507918245787408,
          5.513806310967145,
          5.5208719891828295,
          5.529350803041652,
          5.5394451635132835,
          5.545501779796263,
          5.5527697193358385,
          5.561491246783329,
          5.570896536428203,
          5.5810186327284805,
          5.593165148288815,
          5.600453057625016,
          5.609198548828457,
          5.614445843550521,
          5.6207425972169975,
          5.62829870161677,
          5.637366026896498,
          5.642806422064335,
          5.649334896265738,
          5.657169065307423,
          5.661869566732433,
          5.667510168442446,
          5.674278890494462,
          5.682401356956881,
          5.687274836834332,
          5.693123012687273,
          5.700140823710802,
          5.708562196939037,
          5.713615020875979,
          5.719678409600308,
          5.726954476069504,
          5.734694812853015,
          5.739339014923121,
          5.744912057407249,
          5.751599708388203,
          5.755612298976774,
          5.76042740768306,
          5.7662055381306025,
          5.773139294667654,
          5.781459802512116,
          5.7864521072187936,
          5.792442872866807,
          5.799631791644421,
          5.808258494177559,
          5.813434515697442,
          5.819645741521301,
          5.827099212509931,
          5.8315712951031085,
          5.836937794214923,
          5.843377593149099,
          5.851105351870111,
          5.855742007102719,
          5.861305993381848,
          5.867982776916802,
          5.875994917158746,
          5.880802201303912,
          5.886570942278112,
          5.893493431447153,
          5.897646924948577,
          5.902631117150286,
          5.908612147792338,
          5.91220076617757,
          5.916507108239847,
          5.92167471871458,
          5.92787585128426,
          5.935317210367876,
          5.9397820258180465,
          5.94513980435825,
          5.951569138606496,
          5.95928433970439,
          5.968542581021865,
          5.979652470602833,
          5.989826235303335,
          6.000000000003837,
          6.012208517644439,
          6.026858738813162,
          6.044439004215628,
          6.065535322698588,
          6.090850904878141,
          6.1060402541858725,
          6.124267473355149,
          6.146140136358282,
          6.172387331962041,
          6.174714708734328,
          6.177507560861073,
          6.180858983413168,
          6.184880690475683,
          6.189706738950699,
          6.195497997120718,
          6.2024475069247424,
          6.210786918689571,
          6.220794212807365,
          6.226798589278042,
          6.234003841042854,
          6.2426501431606285,
          6.253025705701958,
          6.265476380751553,
          6.27294678578131,
          6.28191127181702,
          6.29266865505987,
          6.305577514951292,
          6.321068146820997,
          6.339656905064642,
          6.361963414957017,
          6.388731226827866,
          6.420852601072886,
          6.4593982501669105,
          6.50565302907974,
          6.561158763775135,
          6.627765645409609,
          6.707693903370978,
          6.80360781292462,
          6.901803906464548,
          7.000000000004477,
          7.117835312252392,
          7.25923768694989,
          7.428920536586886,
          7.632539956151282,
          7.816269978078198,
          8.000000000005116,
          8.220476026317419,
          8.239030098812544,
          8.250162542309617,
          8.263521474506108,
          8.279552193141896,
          8.298789055504841,
          8.321873290340376,
          8.349574372143017,
          8.382815670306188,
          8.422705228101993,
          8.470572697456959,
          8.528013660682918,
          8.596942816554069,
          8.679657803599449,
          8.778915788053906,
          8.88945789402983,
          9.000000000005755,
          9.132650527176866,
          9.291831159782198,
          9.482847918908597,
          9.712068029860276,
          10.000000000006395,
          10.345518364181741,
          10.672759182094387,
          11.000000000007034,
          11.392688981502213,
          11.696344490754944,
          12.000000000007674,
          12.36438661111095,
          12.682193305559633,
          13.000000000008313,
          13.38136803334673,
          13.690684016677842,
          14.000000000008955,
          14.371179180006289,
          14.68558959000794,
          15.000000000009594,
          15.377292492011579,
          15.688646246010906,
          16.000000000010232,
          16.373624504809428,
          16.686812252410146,
          17.00000000001087,
          17.37582529713174,
          17.687912648571626,
          18.00000000001151,
          18.37450482173937,
          18.68725241087576,
          19.000000000012154,
          19.37529710697582,
          19.687648553494306,
          20.00000000001279,
          20.374821735834974,
          20.687410867924203,
          21.00000000001343,
          21.375106958520504,
          21.687553479267287,
          22.00000000001407,
          22.37493582491021,
          22.687467912462463,
          23.000000000014712,
          23.37503850507741,
          23.687519252546377,
          24.000000000015348,
          24.37497689697811,
          24.687488448497053,
          25.00000000001599,
          25.375013861838713,
          25.68750693092767,
          26.000000000016627,
          26.374991682923376,
          26.687495841470323,
          27.000000000017266,
          27.375004990273606,
          27.687502495145758,
          28.00000000001791,
          28.374997005864486,
          28.68749850294152,
          29.000000000018545,
          29.37500179651098,
          29.687500898265085,
          30.000000000019188,
          30.374998922124107,
          30.68749946107197,
          31.000000000019824,
          31.37500064675725,
          31.687500323388857,
          32.000000000020464,
          32.374999611978396,
          32.68749980599975,
          33.0000000000211,
          33.37500023284674,
          33.68750011643424,
          34.00000000002174,
          34.374999860326746,
          34.68749993017456,
          35.00000000002238,
          35.37500008383977,
          35.68750004193139,
          36.00000000002302,
          36.374999949732974,
          36.68749997487832,
          37.00000000002366,
          37.37500003019807,
          37.68750001511119,
          38.00000000002431,
          38.37499998192004,
          38.68749999097249,
          39.00000000002494,
          39.37500001088789,
          39.687500005456734,
          40.00000000002558,
          40.3749999935082,
          40.68749999676721,
          41.00000000002622,
          41.37500000393703,
          41.687500001981945,
          42.00000000002686,
          42.37499999768075,
          42.68749999885413,
          43.000000000027505,
          43.375000001435545,
          43.687500000731845,
          44.00000000002814,
          44.37499999918369,
          44.68749999960623,
          45.00000000002878,
          45.37500000053584,
          45.68750000028263,
          46.000000000029424,
          46.374999999725574,
          46.68749999987781,
          47.000000000030056,
          47.37500000021275,
          47.68750000012172,
          48.000000000030695,
          48.374999999921464,
          48.68749999997641,
          49.00000000003134,
          49.375000000097266,
          49.687500000064624,
          50.00000000003198,
          50.37499999999281,
          50.68750000001271,
          51.000000000032614,
          51.375000000056495,
          51.68750000004487,
          52.00000000003325,
          52.3750000000193,
          52.687500000026596,
          53.0000000000339,
          53.37500000004266,
          53.687500000038604,
          54.00000000003453,
          54.37500000002966,
          54.687500000032415,
          55.00000000003517,
          55.375000000038476,
          55.38051441308786,
          55.38713170874712,
          55.39507246353824,
          55.40460136928758,
          55.4160360561868,
          55.429757680465855,
          55.44622362960072,
          55.465982768562576,
          55.48969373531679,
          55.51814689542186,
          55.552290687547924,
          55.57277696282357,
          55.58506872798895,
          55.599818846187404,
          55.60866891710648,
          55.61928900220937,
          55.632033104332834,
          55.64732602688099,
          55.665677533938776,
          55.68769934240813,
          55.71412551257134,
          55.7458369167672,
          55.783890601802234,
          55.82955502384427,
          55.88435233029472,
          55.94217616516527,
          56.00000000003582,
          56.06938860188047,
          56.075141577628465,
          56.08204514852608,
          56.0903294336032,
          56.10027057569575,
          56.11219994620682,
          56.12651519082011,
          56.135104337588075,
          56.145411313709644,
          56.157779685055516,
          56.17262173067056,
          56.19043218540862,
          56.211804731094276,
          56.23745178591707,
          56.26822825170442,
          56.30516001064924,
          56.34947812138302,
          56.353681923472195,
          56.358726485979204,
          56.36477996098762,
          56.37204413099772,
          56.38076113500984,
          56.391221539824386,
          56.40377402560184,
          56.41883700853479,
          56.43691258805432,
          56.44775793576604,
          56.460772353020104,
          56.476389653724986,
          56.495130414570845,
          56.51761932758586,
          56.54460602320389,
          56.57699005794553,
          56.6158508996355,
          56.66248390966345,
          56.66690031722975,
          56.67220000630931,
          56.67855963320477,
          56.68619118547933,
          56.695349048208804,
          56.70633848348417,
          56.71952580581461,
          56.73535059261114,
          56.75434033676697,
          56.76573418326047,
          56.779406799052666,
          56.795813938003306,
          56.80565822137368,
          56.81747136141814,
          56.8316471294715,
          56.84865805113552,
          56.86907115713236,
          56.893566884328564,
          56.922961756964014,
          56.92555827591388,
          56.92867409865372,
          56.932413085941526,
          56.93689987068689,
          56.94228401238132,
          56.94874498241464,
          56.95649814645462,
          56.96580194330261,
          56.97696649952019,
          56.98848324977832,
          57.00000000003645,
          57.01382010034621,
          57.02211216053206,
          57.032062632755085,
          57.04400319942272,
          57.058331879423875,
          57.07552629542526,
          57.096159594626926,
          57.12091955366893,
          57.135775529094126,
          57.144689114349255,
          57.1553854166554,
          57.16822097942277,
          57.18362365474362,
          57.202106865128634,
          57.21319679135964,
          57.226504702836856,
          57.24247419660951,
          57.26163758913669,
          57.28463366016931,
          57.312228945408464,
          57.345343287695435,
          57.385080498439805,
          57.388615450614864,
          57.392857393224936,
          57.39794772435701,
          57.404056121715506,
          57.41138619854569,
          57.42018229074192,
          57.43073760137739,
          57.44340397413994,
          57.45860362145501,
          57.4768431982331,
          57.4987306903668,
          57.52499568092724,
          57.556513669599774,
          57.59433525600681,
          57.63972115969524,
          57.69418424412137,
          57.75953994543272,
          57.765464306101244,
          57.77257353890347,
          57.781104618266134,
          57.79134191350133,
          57.80362666778356,
          57.81836837292224,
          57.836058419088644,
          57.846672446788496,
          57.859409280028316,
          57.8746934799161,
          57.883863999848764,
          57.89486862376797,
          57.908074172471025,
          57.92392083091469,
          57.942936821047084,
          57.965756009205954,
          57.982878004621526,
          57.991439002329315,
          58.00000000003709,
          58.01027319728642,
          58.02260103398563,
          58.03739443802468,
          58.05514652287154,
          58.06579777377966,
          58.0785792748694,
          58.09391707617708,
          58.10311975696169,
          58.11416297390323,
          58.12741483423307,
          58.14331706662888,
          58.162399745503855,
          58.173849352828846,
          58.18758888161882,
          58.204076316166805,
          58.223861237624384,
          58.247603143373475,
          58.27609343027238,
          58.310281774551086,
          58.35130778768553,
          58.40053900344685,
          58.45961646236045,
          58.53050941305677,
          58.61558095389236,
          58.71766680289506,
          58.8401698216983,
          58.84510383221381,
          58.85102464483242,
          58.85812961997475,
          58.86665559014554,
          58.876886754350494,
          58.889164151396436,
          58.903897027851556,
          58.91273675372463,
          58.923344424772324,
          58.93607363002956,
          58.9437111531839,
          58.9528761809691,
          58.963874214311346,
          58.97047303431669,
          58.9783916183231,
          58.98789391913079,
          59.00000000003774,
          59.01452729712607,
          59.031960053632076,
          59.05287936143928,
          59.07798253080792,
          59.1081063340503,
          59.144254897941146,
          59.18763317461017,
          59.23968710661298,
          59.30215182501637,
          59.377109487100434,
          59.467058681601316,
          59.574997715002375,
          59.578987356351,
          59.583774925969344,
          59.58952000951137,
          59.59641410976179,
          59.604687030062294,
          59.614614534422905,
          59.62652753965564,
          59.64082314593493,
          59.657977873470074,
          59.66827070999116,
          59.68062211381646,
          59.68803295611165,
          59.69692596686587,
          59.70759757977093,
          59.720403515257004,
          59.7357706378403,
          59.744990911390275,
          59.756055239650244,
          59.7693324335622,
          59.77729874990937,
          59.78685832952598,
          59.79832982506591,
          59.81209561971383,
          59.82861457329133,
          59.84843731758435,
          59.87222461073596,
          59.900769362517906,
          59.90348677125492,
          59.90674766173933,
          59.910660730320615,
          59.91535641261815,
          59.9209912313752,
          59.92775301388366,
          59.935867152893806,
          59.94560411970599,
          59.95728847988061,
          59.97130971209015,
          59.985654856064265,
          60.000000000038376,
          60.008607086422835,
          60.01893559008419,
          60.03132979447781,
          60.046202839750165,
          60.06405049407697,
          60.08546767926915,
          60.11116830149976,
          60.126588674838125,
          60.145093122844166,
          60.15619579164778,
          60.169518994212126,
          60.17751291575073,
          60.18710562159706,
          60.19861686861265,
          60.21243036503136,
          60.220718462882594,
          60.23066418030407,
          60.242599041209836,
          60.25692087429675,
          60.274107074001066,
          60.28441879382365,
          60.296792857610754,
          60.311641734155266,
          60.320551060081975,
          60.33124225119402,
          60.34407168052849,
          60.35946699572983,
          60.37794137397145,
          60.389026000916424,
          60.402327553250394,
          60.418289416051145,
          60.42786653373161,
          60.43935907494815,
          60.453150124408,
          60.46969938375982,
          60.489558494982,
          60.501473961715305,
          60.51577252179528,
          60.53293079389124,
          60.55352072040639,
          60.578228632224565,
          60.60787812640638,
          60.64345751942456,
          60.68615279104637,
          60.737387116992544,
          60.79886830812795,
          60.8357570228092,
          60.88002348042669,
          60.93314322956768,
          60.96657161480335,
          61.00000000003901,
          61.040114062321805,
          61.08825093706117,
          61.14601518674839,
          61.21533228637307,
          61.29851280592267,
          61.3983294293822,
          61.518109377533634,
          61.66184531531535,
          61.8309226576775,
          62.00000000003965,
          62.202892810874225,
          62.446364183875716,
          62.723182091958,
          62.731434372880685,
          62.74133710998791,
          62.753220394516575,
          62.76748033595097,
          62.784592265672245,
          62.805126581337774,
          62.8297677601364,
          62.85933717469476,
          62.89482047216478,
          62.937400429128814,
          62.96870021458456,
          62.98435010731242,
          63.000000000040295,
          63.00938993567702,
          63.02065785844109,
          63.03417936575798,
          63.050405174538234,
          63.06014065980639,
          63.071823242128175,
          63.08584234091432,
          63.102665259457694,
          63.122852761709744,
          63.1470777644122,
          63.17614776765515,
          63.2110317715467,
          63.21408984915229,
          63.217759542278976,
          63.22216317403101,
          63.22744753213345,
          63.23378876185638,
          63.241398237523896,
          63.25052960832492,
          63.26148725328614,
          63.27463642723961,
          63.29041543598377,
          63.30935024647676,
          63.32071113277256,
          63.33434419632751,
          63.34252403446048,
          63.352339840220054,
          63.36411880713154,
          63.378253567425325,
          63.38673442360159,
          63.39691145101311,
          63.40912388390693,
          63.42377880337952,
          63.441364706746626,
          63.462467790787144,
          63.487791491635775,
          63.51817993265412,
          63.53641299726513,
          63.547352836031735,
          63.56048064255165,
          63.57623401037556,
          63.5856860310699,
          63.59702845590311,
          63.61063936570296,
          63.62697245746278,
          63.64657216757457,
          63.670091819708716,
          63.69831540226969,
          63.73218370134286,
          63.75250468078677,
          63.76469726845311,
          63.779328373652724,
          63.79688569989225,
          63.80742009563597,
          63.820061370528435,
          63.835230900399395,
          63.84433261832198,
          63.855254679829066,
          63.86836115363757,
          63.87622503792268,
          63.8856616990648,
          63.89698569243534,
          63.910574484479994,
          63.91872775970678,
          63.92851168997893,
          63.94025240630552,
          63.954341265897426,
          63.96279458165257,
          63.97293856055873,
          63.98511133524614,
          64.00000000004093,
          64.01786639779468,
          64.03930607509919,
          64.05216988148189,
          64.06760644914112,
          64.07686838973667,
          64.08798271845133,
          64.10131991290892,
          64.11732454625803,
          64.13653010627696,
          64.1595767782997,
          64.17340478151333,
          64.18999838536968,
          64.2099107099973,
          64.23380549955046,
          64.26247924701423,
          64.2796834954925,
          64.29000604457947,
          64.30239310348382,
          64.31725757416905,
          64.3261762565802,
          64.33687867547356,
          64.34972157814559,
          64.36513306135204,
          64.37437995127591,
          64.38547621918455,
          64.39879174067492,
          64.41477036646336,
          64.4339447174095,
          64.45695393854486,
          64.48456500390729,
          64.50113164312476,
          64.51107162665524,
          64.52299960689182,
          64.5373131831757,
          64.54590132894603,
          64.55620710387043,
          64.56857403377973,
          64.5759941917253,
          64.58489838125998,
          64.5955834087016,
          64.60840544163156,
          64.61609866138953,
          64.62533052509909,
          64.63640876155057,
          64.64970264529235,
          64.65767897553742,
          64.6672505718315,
          64.6787364873844,
          64.69251958604787,
          64.70905930444403,
          64.7289069665194,
          64.74081556376464,
          64.75510588045891,
          64.76368007047547,
          64.77396909849536,
          64.78631593211922,
          64.80113213246784,
          64.8189115728862,
          64.84024690138821,
          64.86584929559064,
          64.89657216863354,
          64.93343961628501,
          64.96671980816329,
          64.96936109787198,
          64.97253064552241,
          64.97633410270294,
          64.98089825131956,
          64.98637522965949,
          64.99294760366743,
          65.00000000004157,
          65.00846287569054,
          65.0186183264693,
          65.03080486740382,
          65.04542871652524,
          65.06297733547093,
          65.08403567820578,
          65.1093056894876,
          65.13962970302578,
          65.14828095152754,
          65.15866244972966,
          65.1711202475722,
          65.18606960498325,
          65.2040088338765,
          65.21477237121245,
          65.22768861601558,
          65.23543836289747,
          65.24473805915572,
          65.25589769466563,
          65.26928925727752,
          65.28535913241178,
          65.29500105749234,
          65.306571367589,
          65.32045573970501,
          65.32878636297461,
          65.33878311089813,
          65.35077920840635,
          65.36517452541622,
          65.38244890582807,
          65.40317816232229,
          65.42805327011536,
          65.44297833479119,
          65.4608884124022,
          65.47163445896881,
          65.48452971484873,
          65.50000402190464,
          65.51857319037173,
          65.52971469145197,
          65.54308449274828,
          65.55912825430383,
          65.57838076817049,
          65.60148378481048,
          65.62920740477848,
          65.66247574874006,
          65.66563052943667,
          65.66941626627259,
          65.67395915047568,
          65.67941061151942,
          65.68595236477188,
          65.69380246867485,
          65.7032225933584,
          65.71452674297868,
          65.72809172252299,
          65.73623071024959,
          65.74599749552151,
          65.75771763784779,
          65.77178180863935,
          65.78022031111428,
          65.79034651408419,
          65.80249795764809,
          65.81707968992475,
          65.83457776865676,
          65.85557546313515,
          65.88077269650923,
          65.91100937655811,
          65.94729339261677,
          65.9736466963295,
          66.0000000000422,
          66.03162396449747,
          66.06957272184378,
          66.11511123065935,
          66.16975744123805,
          66.23533289393247,
          66.31402343716577,
          66.40845208904574,
          66.5217664713017,
          66.65774373000886,
          66.82091644045742,
          67.00000000004285,
          67.21490027154536,
          67.47278059734836,
          67.73639029869592,
          68.00000000004349,
          68.31633164166055,
          68.65816582085235,
          69.00000000004412,
          69.41020101507425,
          69.70510050755951,
          70.00000000004476,
          70.35387939102708,
          70.67693969553625,
          71.0000000000454,
          71.3876723654564,
          71.69383618275123,
          72.00000000004604,
          72.36739658079983,
          72.68369829042327,
          73.00000000004668,
          73.3795620515948,
          73.68978102582106,
          74.00000000004732,
          74.37226276911885,
          74.6861313845834,
          75.00000000004796,
          75.37664233860544,
          75.3804540478423,
          75.38502809892657,
          75.39051696022767,
          75.39710359378901,
          75.4050075540626,
          75.41449230639091,
          75.42587400918488,
          75.43953205253764,
          75.45592170456096,
          75.47558928698894,
          75.49919038590251,
          75.51335104525064,
          75.53034383646842,
          75.55073518592974,
          75.57520480528332,
          75.58988657689548,
          75.60750470283006,
          75.62864645395155,
          75.65401655529735,
          75.6844606769123,
          75.72099362285023,
          75.76483315797576,
          75.81744060012639,
          75.88056953070716,
          75.94028476537788,
          75.94467677168312,
          75.9499471792494,
          75.95627166832894,
          75.9638610552244,
          75.97296831949893,
          75.98389703662838,
          75.99194851833849,
          76.00000000004862,
          76.00966177810075,
          76.02125591176332,
          76.0351688721584,
          76.05186442463248,
          76.0718990876014,
          76.08391988538274,
          76.09834484272035,
          76.10699981712291,
          76.11738578640599,
          76.12984894954567,
          76.14480474531331,
          76.16275170023445,
          76.18428804613983,
          76.21013166122628,
          76.24114399933005,
          76.27835880505455,
          76.32301657192396,
          76.37660589216725,
          76.44091307645918,
          76.51808169760952,
          76.61068404298993,
          76.72180685744641,
          76.8551542347942,
          77.00000000004924,
          77.1738149183553,
          77.38239282032258,
          77.63268630268331,
          77.8163431513666,
          78.00000000004988,
          78.22038821846982,
          78.22835436767832,
          78.23791374672851,
          78.24938500158875,
          78.26315050742102,
          78.27966911441975,
          78.29949144281822,
          78.32327823689639,
          78.35182238979019,
          78.38607537326274,
          78.42717895342982,
          78.4765032496303,
          78.48085395602307,
          78.48607480369438,
          78.49233982089996,
          78.49985784154666,
          78.5088794663227,
          78.51970541605394,
          78.53269655573142,
          78.54828592334441,
          78.56699316447998,
          78.57821750916133,
          78.59168672277895,
          78.60784977912009,
          78.61754761292475,
          78.62918501349037,
          78.64314989416911,
          78.6599077509836,
          78.6699624650723,
          78.68202812197873,
          78.69650691026645,
          78.71388145621171,
          78.73473091134602,
          78.7597502575072,
          78.78977347290063,
          78.82580133137273,
          78.82924102038093,
          78.83336864719077,
          78.83832179936257,
          78.84426558196876,
          78.85139812109615,
          78.85995716804905,
          78.87022802439252,
          78.88255305200467,
          78.89734308513927,
          78.91509112490078,
          78.9257399487577,
          78.93851853738599,
          78.95385284373992,
          78.96305342755231,
          78.97409412812715,
          78.98704706408883,
          79.00000000005052,
          79.01554352320454,
          79.03419575098937,
          79.05657842433116,
          79.08343763234132,
          79.11566868195348,
          79.15434594148809,
          79.20075865292962,
          79.25645390665947,
          79.28987105889738,
          79.32997164158287,
          79.37809234080545,
          79.43583717987255,
          79.50513098675306,
          79.58828355500967,
          79.68806663691761,
          79.80780633520715,
          79.85585475141815,
          79.86009599027129,
          79.86518547689506,
          79.87129286084357,
          79.8786217215818,
          79.88741635446766,
          79.89796991393071,
          79.91063418528636,
          79.92583131091314,
          79.94406786166527,
          79.96595172256782,
          79.97446379193866,
          79.98467827518365,
          79.99233913761742,
          80.00000000005116,
          80.00919303497166,
          80.02022467687625,
          80.03346264716177,
          80.04934821150438,
          80.06841088871552,
          80.0912861013689,
          80.11873635655293,
          80.15167666277378,
          80.19120503023879,
          80.23863907119681,
          80.24281977530687,
          80.24783662023891,
          80.25385683415739,
          80.26108109085955,
          80.26975019890213,
          80.28015312855324,
          80.29263664413457,
          80.30761686283216,
          80.32559312526928,
          80.34716464019381,
          80.37305045810325,
          80.4041134395946,
          80.4413890173842,
          80.48611971073173,
          80.53979654274876,
          80.60420874116919,
          80.68150337927372,
          80.77425694499915,
          80.88556122386967,
          81.0000000000518,
          81.0121652629196,
          81.02676357836096,
          81.04428155689057,
          81.05479234400835,
          81.06740528854968,
          81.08254082199927,
          81.09162214206903,
          81.10251972615272,
          81.11559682705315,
          81.13128934813369,
          81.15012037343033,
          81.1727176037863,
          81.19983428021347,
          81.23237429192605,
          81.27142230598116,
          81.31827992284731,
          81.37450906308666,
          81.40824654723029,
          81.41147138591124,
          81.41534119232838,
          81.41998496002897,
          81.42555748126966,
          81.4322445067585,
          81.4402689373451,
          81.44989825404902,
          81.46145343409373,
          81.47531965014737,
          81.48363937977956,
          81.49362305533819,
          81.50560346600854,
          81.51997995881294,
          81.53723175017825,
          81.5579338998166,
          81.57035518959962,
          81.58526073733923,
          81.594204065983,
          81.60493606035551,
          81.61781445360255,
          81.63326852549898,
          81.6518134117747,
          81.67406727530556,
          81.7007719115426,
          81.71679469328481,
          81.73602203137548,
          81.74755843422989,
          81.76140211765518,
          81.77801453776551,
          81.79794944189793,
          81.80991038437737,
          81.8242635153527,
          81.8414872725231,
          81.86215578112757,
          81.87455688629025,
          81.88943821248549,
          81.89836700820261,
          81.90908156306318,
          81.92193902889585,
          81.93736798789506,
          81.95588273869411,
          81.9669120540337,
          81.98014723244118,
          81.9900736162468,
          82.00000000005244,
          82.01191166061919,
          82.02620565329931,
          82.04335844451543,
          82.0639417939748,
          82.07629180365042,
          82.09111181526117,
          82.10889582919407,
          82.1195662375538,
          82.1323707275855,
          82.14773611562352,
          82.15695534844633,
          82.16801842783372,
          82.18129412309858,
          82.19722495741641,
          82.21634195859781,
          82.2392823600155,
          82.2668108417167,
          82.29984501975817,
          82.3394860334079,
          82.3870552497876,
          82.44413830944322,
          82.51263798102995,
          82.59483758693406,
          82.69347711401898,
          82.81184454652086,
          82.90592227328698,
          83.00000000005309,
          83.11289327217241,
          83.24836519871562,
          83.41093151056745,
          83.60601108478966,
          83.65525969919766,
          83.71435803648727,
          83.74981703886102,
          83.79236784170953,
          83.84342880512776,
          83.90470196122963,
          83.95235098064168,
          84.00000000005372,
          84.00420275511475,
          84.00924606118798,
          84.01529802847585,
          84.02256038922131,
          84.03127522211585,
          84.0417330215893,
          84.05428238095742,
          84.06934161219918,
          84.08741268968929,
          84.10909798267743,
          84.1351203342632,
          84.15073374521467,
          84.1694698383564,
          84.19195315012652,
          84.21893312425064,
          84.2513090931996,
          84.29016025593835,
          84.33678165122484,
          84.39272732556864,
          84.42629473017492,
          84.46657561570245,
          84.51491267833549,
          84.57291715349514,
          84.64252252368672,
          84.65079994154617,
          84.6607328429775,
          84.6726523246951,
          84.68695570275621,
          84.70411975642955,
          84.71441818863354,
          84.72677630727836,
          84.74160604965212,
          84.75050389507638,
          84.76118130958548,
          84.77399420699642,
          84.78936968388953,
          84.80782025616128,
          84.82996094288737,
          84.84324535492301,
          84.8591866493658,
          84.87831620269714,
          84.88979393469594,
          84.9035672130945,
          84.92009514717279,
          84.93001190761976,
          84.94191202015611,
          84.95619215519973,
          84.97332831725208,
          84.98666415865323,
          85.00000000005436,
          85.01600300973571,
          85.03520662135335,
          85.05825095529451,
          85.08590415602391,
          85.1190879968992,
          85.15890860594953,
          85.16248136260212,
          85.16676867058526,
          85.171913440165,
          85.1780871636607,
          85.18549563185555,
          85.19438579368935,
          85.20505398788991,
          85.21785582093058,
          85.23321802057937,
          85.24243534036866,
          85.2534961241158,
          85.26676906461235,
          85.28269659320821,
          85.30180962752326,
          85.31327744811229,
          85.32703883281913,
          85.34355249446733,
          85.36336888844517,
          85.38714856121858,
          85.40141636488262,
          85.41853772927948,
          85.4390833665557,
          85.45141074892143,
          85.46620360776032,
          85.48395503836697,
          85.50525675509498,
          85.51803778513177,
          85.53337502117593,
          85.55177970442891,
          85.57386532433249,
          85.58711669627463,
          85.60301834260521,
          85.6221003182019,
          85.63354950355992,
          85.64728852598954,
          85.66377535290508,
          85.68355954520372,
          85.6954300605829,
          85.70967467903792,
          85.72676822118396,
          85.7472804717592,
          85.75958782210435,
          85.77435664251853,
          85.78321793476702,
          85.79385148546523,
          85.80661174630308,
          85.8219240593085,
          85.84029883491502,
          85.86234856564282,
          85.88880824251619,
          85.92055985476424,
          85.9586617894619,
          86.00000000005501,
          86.04960585276673,
          86.10913287602082,
          86.18056530392572,
          86.2662842174116,
          86.27461395190197,
          86.28460963329042,
          86.29660445095656,
          86.31099823215594,
          86.32827076959518,
          86.34899781452226,
          86.37387026843477,
          86.40371721312978,
          86.43953354676378,
          86.48251314712458,
          86.53408866755754,
          86.59597929207709,
          86.63311366678883,
          86.67767491644291,
          86.73114841602779,
          86.79531661552967,
          86.87231845493191,
          86.93615922749377,
          86.94086855466671,
          86.94651974727422,
          86.95330117840324,
          86.96143889575805,
          86.97120415658384,
          86.98292246957477,
          86.9914612348152,
          87.00000000005564,
          87.01024651834416,
          87.02254234029039,
          87.03729732662586,
          87.05500331022843,
          87.07625049055149,
          87.10174710693917,
          87.1323430466044,
          87.16905817420266,
          87.21311632732059,
          87.26598611106209,
          87.3294298515519,
          87.40556234013967,
          87.49692132644498,
          87.55173671822817,
          87.617515188368,
          87.6964493525358,
          87.79117034953714,
          87.89558517479671,
          88.00000000005627,
          88.00415590859828,
          88.00914299884869,
          88.01512750714917,
          88.02230891710977,
          88.03092660906246,
          88.0412678394057,
          88.05367731581761,
          88.06856868751188,
          88.08643833354502,
          88.10788190878476,
          88.13361419907247,
          88.1644929474177,
          88.20154744543198,
          88.24601284304913,
          88.2502693347209,
          88.25537712472702,
          88.26150647273435,
          88.26886169034316,
          88.27768795147374,
          88.28827946483042,
          88.30098928085845,
          88.31624106009207,
          88.33454319517243,
          88.34552447622065,
          88.35870201347849,
          88.37451505818791,
          88.38400288501356,
          88.39538827720433,
          88.40905074783328,
          88.425445712588,
          88.44511967029366,
          88.45692404491707,
          88.47108929446516,
          88.48808759392286,
          88.49828657359748,
          88.51052534920703,
          88.5252118799385,
          88.54283571681626,
          88.56398432106957,
          88.58936264617354,
          88.60458964123593,
          88.62286203531079,
          88.64478890820064,
          88.67110115566844,
          88.68688850414914,
          88.70583332232596,
          88.72856710413815,
          88.75584764231277,
          88.77221596521755,
          88.79185795270328,
          88.81542833768614,
          88.8437127996656,
          88.87765415404093,
          88.91838377929132,
          88.95919188967412,
          89.00000000005691,
          89.04896973251627,
          89.1077334114675,
          89.178249826209,
          89.26286952389877,
          89.3644131611265,
          89.48626552579978,
          89.6324883634077,
          89.80795576853721,
          90.00000000005755,
          90.11522653896976,
          90.25349838566441,
          90.419424601698,
          90.4294657790927,
          90.44151519196636,
          90.45597448741475,
          90.47332564195283,
          90.48373633467567,
          90.49622916594306,
          90.51122056346395,
          90.52921024048901,
          90.54000404670404,
          90.55295661416207,
          90.56849969511171,
          90.58715139225127,
          90.60953342881875,
          90.63639187269972,
          90.66862200535688,
          90.70729816454548,
          90.75370955557179,
          90.80940322480336,
          90.8428194263423,
          90.88291886818902,
          90.88651716240699,
          90.89083511546856,
          90.89601665914245,
          90.90223451155113,
          90.90969593444153,
          90.91864964191004,
          90.92939409087222,
          90.94228742962683,
          90.95775943613239,
          90.97632584393905,
          91.00000000005821,
          91.0284089874012,
          91.06249977221279,
          91.10340871398671,
          91.1524994441154,
          91.21140832026985,
          91.28209897165517,
          91.36692775331755,
          91.46872229131242,
          91.59087573690626,
          91.73745987161884,
          91.80309490372883,
          91.88185694226082,
          91.94092847115984,
          92.00000000005885,
          92.03544291739826,
          92.07797441820556,
          92.12901221917429,
          92.19025758033678,
          92.22700479703427,
          92.27110145707127,
          92.32401744911566,
          92.38751663956893,
          92.46371566811284,
          92.55515450236553,
          92.66488110346876,
          92.79655302479264,
          92.89827651242607,
          93.00000000005949,
          93.06103409263952,
          93.09932100648723,
          93.1452653031045,
          93.2003984590452,
          93.26655824617406,
          93.30625411845135,
          93.35388916518411,
          93.41105122126342,
          93.47964568855858,
          93.56195904931278,
          93.66073508221781,
          93.72000070196084,
          93.79111944565247,
          93.87646193808241,
          93.93823096907127,
          94.00000000006011,
          94.03706141865344,
          94.08153512096541,
          94.13490356373978,
          94.19894569506903,
          94.27579625266412,
          94.36801692177825,
          94.4786817247152,
          94.48793813257905,
          94.49904582201566,
          94.5123750493396,
          94.52837012212831,
          94.53796716580153,
          94.54948361820942,
          94.56330336109887,
          94.57988705256624,
          94.59978748232706,
          94.62366799804005,
          94.65232461689564,
          94.68671255952235,
          94.7279780906744,
          94.77749672805685,
          94.83691909291579,
          94.87257251183117,
          94.9153566145296,
          94.91884285589269,
          94.92302634552841,
          94.92804653309126,
          94.9340707581667,
          94.9412998282572,
          94.94997471236582,
          94.96038457329617,
          94.97287640641258,
          94.98643820323667,
          95.00000000006075,
          95.01627415624964,
          95.0358031436763,
          95.0592379285883,
          95.08735967048271,
          95.12110576075598,
          95.16160106908393,
          95.21019543907745,
          95.2685086830697,
          95.33848457586039,
          95.42245564720922,
          95.43089285248432,
          95.44101749881443,
          95.45316707441057,
          95.46774656512592,
          95.48524195398434,
          95.49573918729939,
          95.50833586727747,
          95.52345188325117,
          95.5415911024196,
          95.56335816542173,
          95.5894786410243,
          95.62082321174738,
          95.65843669661507,
          95.66209794319693,
          95.66649143909515,
          95.67176363417303,
          95.67809026826649,
          95.68568222917862,
          95.6947925822732,
          95.70572500598666,
          95.71884391444284,
          95.73458660459025,
          95.75347783276713,
          95.76481256967327,
          95.77841425396063,
          95.79473627510548,
          95.8143227004793,
          95.83782641092787,
          95.86603086346618,
          95.89987620651213,
          95.9404906181673,
          95.97024530911435,
          95.98512265458785,
          96.00000000006139,
          96.00892640734551,
          96.01963809608647,
          96.0324921225756,
          96.04791695436256,
          96.06642675250691,
          96.08863851028012,
          96.11529261960797,
          96.1472775508014,
          96.18565946823351,
          96.23171776915206,
          96.28698773025431,
          96.32014970691564,
          96.35994407890927,
          96.40769732530163,
          96.46500122097247,
          96.53376589577748,
          96.61628350554348,
          96.71530463726268,
          96.83412999532572,
          96.91706499769387,
          97.00000000006203,
          97.09952200290381,
          97.21894840631396,
          97.36226009040611,
          97.5342341113167,
          97.74060293640942,
          98.00000000006268,
          98.15563823825464,
          98.34240412408496,
          98.56652318708136,
          98.67489239032686,
          98.80493543422145,
          98.90246771714239,
          98.92425094681113,
          98.95039082241364,
          98.96279311682605,
          98.97767587012096,
          98.98883793509214,
          99.00000000006332
         ],
         "y": [
          1.6341694554375863,
          2.6936649667804886,
          2.9632912161432614,
          3.0329232633084757,
          3.0486772664789896,
          3.051728870095758,
          3.0523275876639673,
          3.0523324754849455,
          3.0523398729965265,
          3.052348840587001,
          3.052360157158546,
          3.0523743255198497,
          3.052391883738892,
          3.052413476700167,
          3.0524398859743087,
          3.0524720591238292,
          3.05251114463681,
          3.052558534885975,
          3.0526159194505453,
          3.052685355343783,
          3.05276931266053,
          3.052870796474963,
          3.0529932723275124,
          3.053141000214964,
          3.0533194800227648,
          3.053535469916824,
          3.0538108987475425,
          3.0541451309254626,
          3.0545494373527617,
          3.0550398623272486,
          3.055636290593611,
          3.056364118536294,
          3.057256650650743,
          3.0583567329704238,
          3.059720828243371,
          3.059161331389987,
          3.107806249299756,
          3.131648817063251,
          3.1527022438713175,
          3.177880763729263,
          3.2044633762670856,
          3.2278886513322504,
          3.2471702799084596,
          3.2627931250608526,
          3.2835652129397204,
          3.3163965552648733,
          3.352062415337059,
          3.377879223728087,
          3.4127178776725486,
          3.445307214593413,
          3.474756836776578,
          3.5058704701568786,
          3.5331542973617616,
          3.559880911725486,
          3.58833285957553,
          3.6167495675945247,
          3.6467034034030803,
          3.6770217071953084,
          3.70699090655944,
          3.7380757565406384,
          3.765726801395431,
          3.7955667983478634,
          3.821833186708318,
          3.846547433309752,
          3.8726108679238678,
          3.900827477567873,
          3.928851774593568,
          3.958461145284673,
          3.9887365470185614,
          4.0146171931955905,
          4.03621404626756,
          4.0576308835698,
          4.083754333898469,
          4.109319610692182,
          4.135049477217763,
          4.160759387854341,
          4.1884166552299575,
          4.215533086846335,
          4.241900531742431,
          4.265718137770818,
          4.29324142274163,
          4.316968560511668,
          4.3401519858762185,
          4.362975991125495,
          4.389175022133713,
          4.415503529404305,
          4.441574627378941,
          4.468877507651996,
          4.492925568858482,
          4.5176589348156995,
          4.5439463042694115,
          4.570554634596192,
          4.597955000126603,
          4.6222054867521365,
          4.6336508357399,
          4.645612979709767,
          4.661113009589826,
          4.68183134109313,
          4.704749241800528,
          4.730853900753573,
          4.756704717246976,
          4.783659561506283,
          4.811132835660828,
          4.837901978313312,
          4.858492983763426,
          4.877420058261123,
          4.894848580810503,
          4.913732119806809,
          4.9141724074179365,
          4.92931334432069,
          4.949898625722199,
          4.967999917496854,
          4.99147744507718,
          5.001023278464345,
          5.006739455713614,
          5.00707873853753,
          5.00719988617675,
          5.0073881564312615,
          5.01483242856375,
          5.015030179256428,
          5.015150961775362,
          5.015298165684726,
          5.0155546269525075,
          5.023621239384738,
          5.023682244696829,
          5.023758575796819,
          5.023869538810686,
          5.023996269233976,
          5.02414249411413,
          5.030842313512039,
          5.030901888725566,
          5.03097456445721,
          5.031072834039151,
          5.031194859891912,
          5.0313079535953875,
          5.035146378908394,
          5.035204204519687,
          5.035282993567307,
          5.0361727048693865,
          5.036308728658696,
          5.039839224522439,
          5.039881814596811,
          5.0399465888949635,
          5.040914462515502,
          5.041009671540451,
          5.043604020918792,
          5.04366170767571,
          5.0437454146267555,
          5.043960983308352,
          5.046716966169697,
          5.046823770822812,
          5.048217730849501,
          5.050267071979761,
          5.053109253905859,
          5.05637663514608,
          5.056471991296348,
          5.059811303384777,
          5.0599098944003345,
          5.060063426541092,
          5.061096936127797,
          5.065406173454903,
          5.067603451767354,
          5.067737863582806,
          5.070333448704332,
          5.070432575736049,
          5.0739197501188755,
          5.075569733571683,
          5.077677671692072,
          5.079115204323898,
          5.081639399741107,
          5.081734627925471,
          5.083627417052412,
          5.085528043960949,
          5.085666344146375,
          5.088327204544839,
          5.088413634603057,
          5.090675420748084,
          5.090768958469198,
          5.090873546114381,
          5.093003959678754,
          5.093109810761234,
          5.093245235386348,
          5.093384900630554,
          5.096708268894872,
          5.09682914359837,
          5.096994038156481,
          5.097282607095622,
          5.097489805648365,
          5.100264810736917,
          5.100396356374404,
          5.1004816356544325,
          5.10057929425966,
          5.100671259890078,
          5.100757636178969,
          5.100854758908099,
          5.1009380366795085,
          5.101046985233552,
          5.101146784852972,
          5.101226203050828,
          5.10130717220818,
          5.101359354741362,
          5.101446001925069,
          5.101510624843286,
          5.101556426796378,
          5.101656939390523,
          5.101736956210516,
          5.0986754794193985,
          5.098687123561831,
          5.098720715504896,
          5.0967659004945745,
          5.096532241521345,
          5.095261646098152,
          5.094658362735572,
          5.091204432103041,
          5.0911873869681585,
          5.089094339489748,
          5.089121119133779,
          5.0859839617533,
          5.084116033098326,
          5.084169203139027,
          5.081149157302207,
          5.080610129847628,
          5.076902301627342,
          5.076922254615056,
          5.073486611499902,
          5.071235483201235,
          5.068428244918323,
          5.064959089446347,
          5.060572041964406,
          5.0568520433334925,
          5.052465470378593,
          5.04744959238451,
          5.0414152884677605,
          5.032945663271676,
          5.0230543543530075,
          5.01080466800704,
          5.0032981060758175,
          4.994250867406663,
          4.983626500266837,
          4.9705132114104345,
          4.969207309013655,
          4.969219691438411,
          4.966264809389031,
          4.965297633414593,
          4.96183283598657,
          4.958939449459649,
          4.956111184268593,
          4.9516845514754095,
          4.946772917353883,
          4.943776727794102,
          4.940264226177533,
          4.935979498628512,
          4.931448057079251,
          4.925590580465723,
          4.921969421448011,
          4.917934028158925,
          4.91307459861855,
          4.907167982200917,
          4.900319714975922,
          4.892118212075729,
          4.88285920474118,
          4.871653533446079,
          4.858216412838374,
          4.842846706813361,
          4.825078778600073,
          4.804508225020982,
          4.780797343089944,
          4.753461982241788,
          4.722588578901195,
          4.692027652065008,
          4.6628391611229745,
          4.629408281200085,
          4.591373370762085,
          4.54813153730538,
          4.499143924547752,
          4.457402750687834,
          4.41777189937784,
          4.372695721200216,
          4.3697702636982285,
          4.367696550005348,
          4.365006863858071,
          4.362030613670868,
          4.358496287793969,
          4.3540780204566545,
          4.3486015503549424,
          4.342097270871818,
          4.334363883363039,
          4.325180679834375,
          4.314282577497579,
          4.3014420980762225,
          4.286244211398298,
          4.26849155913078,
          4.249099187936736,
          4.2301630179445056,
          4.2079677302772325,
          4.182232992996433,
          4.152395477176469,
          4.118113293214265,
          4.0771625844136,
          4.03090136517676,
          3.989249885908066,
          3.949667104956461,
          3.904801446446072,
          3.8716413598394865,
          3.839789861891404,
          3.80348357476214,
          3.7730501820260542,
          3.7438539872782712,
          3.7104591915758647,
          3.684274684144839,
          3.659070362946295,
          3.6301515933246264,
          3.606470054906822,
          3.5835179125497234,
          3.5570759148358775,
          3.5359828902255686,
          3.5155362593122845,
          3.4918772206692665,
          3.4726479106848274,
          3.453989003366587,
          3.432275788512925,
          3.4147896733156813,
          3.3977789756736456,
          3.3779901238231105,
          3.361914443783462,
          3.3462494918840093,
          3.327994536697588,
          3.313193271193086,
          3.298759147482997,
          3.2819138280956395,
          3.268217044234916,
          3.254827985463635,
          3.239193745446755,
          3.2264813941128523,
          3.2140491151039896,
          3.199503856852971,
          3.1876693792728474,
          3.1760893400951318,
          3.1625311635598337,
          3.151506482901823,
          3.140721941634183,
          3.1280968335977377,
          3.1179192363470065,
          3.108011684842495,
          3.0963407414801623,
          3.0867653451223305,
          3.0772318762774376,
          3.0659924532446894,
          3.0567806642684445,
          3.0477269822622475,
          3.0370598581412196,
          3.02832732466959,
          3.019754997560085,
          3.009674343969891,
          3.00142179116483,
          2.9933060800049134,
          2.9837459605969343,
          2.975913668584326,
          2.968204500466527,
          2.959141873943736,
          2.9517180566454044,
          2.944379683181978,
          2.935733759730283,
          2.9286607244303013,
          2.9216667285800213,
          2.913468790546176,
          2.9066847658905317,
          2.9000318635116855,
          2.892204916644914,
          2.885746374435257,
          2.8793920817715843,
          2.8719040191426757,
          2.8657453898176755,
          2.859652109871604,
          2.852473824410481,
          2.8465717989874975,
          2.8407524144968193,
          2.8338586824465892,
          2.828201093165262,
          2.8226197844323906,
          2.816046373673089,
          2.810599644719332,
          2.8052587590955227,
          2.798920533323326,
          2.7937135500305885,
          2.788558475280297,
          2.7824669332167105,
          2.7774540298996726,
          2.7725088219813188,
          2.766633480967357,
          2.7618164376144705,
          2.7570477076023963,
          2.751401040046403,
          2.746788583970556,
          2.7421910491939343,
          2.7367708949459484,
          2.73227848228089,
          2.727888398574578,
          2.7226135784840153,
          2.7183483126045758,
          2.7140702971064457,
          2.7089944917242974,
          2.704850150967104,
          2.700751573913294,
          2.695869283446882,
          2.6918743624428316,
          2.6879112280821573,
          2.6832287797442405,
          2.679395102120907,
          2.675688698918748,
          2.671294718355057,
          2.6678084195918927,
          2.6642885757137265,
          2.6599176074068964,
          2.6562722019043576,
          2.652662716260238,
          2.6483754840664915,
          2.6448066320353973,
          2.641290320731059,
          2.6371194317216577,
          2.6336886555964156,
          2.6302721071497217,
          2.6262201919707877,
          2.6228672102461132,
          2.6195505226623936,
          2.615630684134885,
          2.6123859858525975,
          2.6091556655374006,
          2.60535419975713,
          2.6021860291639314,
          2.5990787011123757,
          2.5953440586745273,
          2.592286278428219,
          2.5892468431247835,
          2.585650982662628,
          2.585596704015188,
          2.5854933918526513,
          2.585343613243822,
          2.5852734267391497,
          2.585307255612861,
          2.5848285674601357,
          2.584728130235817,
          2.584756113397816,
          2.5845578239823226,
          2.5845474080106214,
          2.583902664095149,
          2.5839780305213935,
          2.5838948896725924,
          2.5837654626502626,
          2.583640798477063,
          2.583250658672114,
          2.5832812155877036,
          2.5827743175086653,
          2.5828400018526736,
          2.5824765421493794,
          2.5822797163928044,
          2.5821782370239816,
          2.581945366675427,
          2.581161988029635,
          2.5806579551390314,
          2.5801637847489474,
          2.5796218253653933,
          2.5790540117268392,
          2.57897713067905,
          2.578877439851567,
          2.578807616044287,
          2.578750717748335,
          2.578685261298233,
          2.5784536490191385,
          2.578371690786298,
          2.5782403212233476,
          2.5782977125873003,
          2.5777583139606577,
          2.577868578480775,
          2.577875644310552,
          2.5773565862200485,
          2.5769544674149074,
          2.576795722321549,
          2.5763317502878635,
          2.5762294228152314,
          2.576194638208108,
          2.576244443825999,
          2.5761971855590673,
          2.576093728779597,
          2.57577409814985,
          2.5755242945269856,
          2.575544848168647,
          2.5755215742738073,
          2.5753380564710824,
          2.5752718053627177,
          2.5751119780434237,
          2.5748622337869165,
          2.5747958793544967,
          2.5744621941194055,
          2.5741431019778247,
          2.5737980674257415,
          2.5733760789735243,
          2.5732517455817288,
          2.5731955075261794,
          2.573136967486789,
          2.5729994340345,
          2.573050243565376,
          2.5727719137012173,
          2.572869062252721,
          2.572632800178326,
          2.5727005067874416,
          2.572592971206177,
          2.572385223573292,
          2.5722561549646343,
          2.572160333284046,
          2.571962121706747,
          2.571799990686486,
          2.571513469591082,
          2.571303247785181,
          2.571361009950124,
          2.570885702052692,
          2.570789465215057,
          2.570812388708873,
          2.570656556144968,
          2.5706139701978827,
          2.5706854956879397,
          2.5706413151910965,
          2.570579242581516,
          2.570608186731988,
          2.570150184315935,
          2.5703502780615963,
          2.570140728023034,
          2.5702812955169065,
          2.5701632190430246,
          2.570093271560836,
          2.570006846517572,
          2.5695611162373098,
          2.5695974541922624,
          2.5694010644510854,
          2.5691175439424114,
          2.5693032525832677,
          2.5691425134664314,
          2.569031572951644,
          2.568638958506199,
          2.568464954460069,
          2.5684809261347255,
          2.5682884663692676,
          2.568055135307077,
          2.568097618452157,
          2.567731284416368,
          2.567558098642621,
          2.5675837895887526,
          2.56705297087683,
          2.566860190458101,
          2.5667266179843864,
          2.566759248407834,
          2.5664643821601203,
          2.5663265765761025,
          2.5662071578608447,
          2.5662380768389994,
          2.565978955335595,
          2.565876336861038,
          2.565739856036089,
          2.56582564526434,
          2.56544913729158,
          2.5655268630325736,
          2.5652446219610283,
          2.5648131677480706,
          2.564442013614098,
          2.563939492081772,
          2.5634097292422666,
          2.5633253802716354,
          2.5632264146734087,
          2.5631656296172878,
          2.563132424353171,
          2.5628411043289816,
          2.562973006210086,
          2.562986828486828,
          2.562918487796196,
          2.5624011402978795,
          2.5624268350820785,
          2.5622126448524796,
          2.561924244670081,
          2.561969228036105,
          2.561625503243704,
          2.561755731345329,
          2.5617913718942873,
          2.5613662571231544,
          2.561314013943047,
          2.561208555023768,
          2.5611161338019883,
          2.5611620580330055,
          2.5606822111367364,
          2.5608692462865292,
          2.560801865425674,
          2.560560713240193,
          2.560580558885704,
          2.5602790327811817,
          2.5601833305918262,
          2.559846875981748,
          2.559878812859097,
          2.5596642572272685,
          2.5594372661416855,
          2.55955948038536,
          2.5594068592836265,
          2.55911927071611,
          2.558946575918526,
          2.558835337362325,
          2.5583475699804694,
          2.5580005271458504,
          2.5574933328443876,
          2.557009232978089,
          2.556515273387049,
          2.5557248723325756,
          2.5548340669502068,
          2.553847923034482,
          2.5537724502810306,
          2.5536893356511428,
          2.5535814973954984,
          2.5534871719519288,
          2.5536492944047495,
          2.5535664575854753,
          2.5532073181439046,
          2.5530846872188704,
          2.5530276620283985,
          2.5530832383738016,
          2.5529671088443138,
          2.5526822880437976,
          2.5528456623742386,
          2.5527508567120094,
          2.552663973352537,
          2.552564156763765,
          2.552371817822859,
          2.5520418400465132,
          2.5519384102517506,
          2.551791379619317,
          2.5516243356341874,
          2.551347099890336,
          2.551088625468765,
          2.5507127331093216,
          2.550284252201891,
          2.5497212318623497,
          2.549105982270703,
          2.5483104523518705,
          2.5475404748522124,
          2.547422856645426,
          2.547447370381633,
          2.547197855754348,
          2.5471901181117573,
          2.547157449005681,
          2.547292413539253,
          2.5468454697347624,
          2.5467001124798117,
          2.546744022392886,
          2.5466584423265886,
          2.5467011663567973,
          2.546609258182798,
          2.546151698288668,
          2.5463121984103054,
          2.5461989161849488,
          2.5462426310532464,
          2.546133011348502,
          2.545744011156785,
          2.5457973297234275,
          2.545698469659328,
          2.5456369687599363,
          2.5452467907434766,
          2.5453360260507907,
          2.5450863819060032,
          2.5451711404348316,
          2.544794248718972,
          2.5447351774982963,
          2.5446535871687956,
          2.54462915523618,
          2.5446731609008566,
          2.5445167776633753,
          2.544408376159481,
          2.5443173642943293,
          2.544112815448898,
          2.5441642210607824,
          2.5438794781384786,
          2.543982061357383,
          2.5438094304663537,
          2.5439829522183572,
          2.543832925717652,
          2.543731159516028,
          2.5435856264066388,
          2.5433807219014852,
          2.543207549959334,
          2.542923863782562,
          2.542933391938277,
          2.542564207182295,
          2.542614545971446,
          2.542496521207795,
          2.5425396721657307,
          2.5424526962960954,
          2.542237042409397,
          2.54199765519661,
          2.5421000387650565,
          2.5420173444254033,
          2.541936740888559,
          2.541808685991782,
          2.5414483694330556,
          2.5414625781049835,
          2.5412780222850415,
          2.5411184213626257,
          2.5411658557586634,
          2.5410819448152324,
          2.5410128481307765,
          2.5406826165253733,
          2.540778796035738,
          2.5404516054550186,
          2.540280706338308,
          2.540335739384318,
          2.540374287040322,
          2.540284978973432,
          2.540008706309891,
          2.5399528536763682,
          2.5396906392888923,
          2.5394911782113923,
          2.539274767261304,
          2.539257787339011,
          2.5392969580498175,
          2.5389558100105205,
          2.5387735070071358,
          2.5384917074206896,
          2.538144830168676,
          2.5378211283859855,
          2.5374728189035523,
          2.5370359036751324,
          2.5367285666397947,
          2.5362660962309747,
          2.5359533033933985,
          2.5358641089678713,
          2.5352893279014097,
          2.534890392096713,
          2.534634899815501,
          2.5341189531645796,
          2.5335585245265975,
          2.5328617115337693,
          2.5320606389177556,
          2.5310588593929424,
          2.5299211031160667,
          2.52852105159036,
          2.5271732517066994,
          2.5255421701240266,
          2.523580724700878,
          2.5214274982718052,
          2.5213866669819254,
          2.5213065730149538,
          2.5212014528315194,
          2.5209477060634526,
          2.5207742111415428,
          2.5207511752905702,
          2.5204591129368055,
          2.520236697700966,
          2.5199439339012315,
          2.5196148404029373,
          2.5194858693193964,
          2.519345851836988,
          2.519288836274427,
          2.5190677660375513,
          2.5189990409999155,
          2.518896908097304,
          2.518586435568068,
          2.5184838846471393,
          2.518564727193734,
          2.518471664730896,
          2.5181142223300412,
          2.5180218828172656,
          2.5181960086083564,
          2.5177583197091735,
          2.517512650540084,
          2.5174321320500894,
          2.5174673430155963,
          2.5172039906829013,
          2.517107035540903,
          2.517046242737706,
          2.516992198947264,
          2.5167768784504005,
          2.516843675308337,
          2.5165862414251023,
          2.516671751298418,
          2.5164949341433385,
          2.5165860587585485,
          2.516426776344815,
          2.516312040401317,
          2.516224930226599,
          2.516073848131782,
          2.5160562276378187,
          2.516211713918892,
          2.5161416770370124,
          2.515849083813009,
          2.515680989172324,
          2.5157579754268227,
          2.5154210368309577,
          2.515252575474733,
          2.5150597946321795,
          2.5152694887565303,
          2.515053339793667,
          2.5147853750186187,
          2.514834310677543,
          2.5147141116431158,
          2.514327012733702,
          2.514389079215107,
          2.5141646323445457,
          2.5139558108094207,
          2.5138197109408793,
          2.5135765897921374,
          2.5133446097097476,
          2.5135214983747574,
          2.5134034557049745,
          2.5132279458375706,
          2.513178936935219,
          2.513021115684751,
          2.5129018936077046,
          2.512651400757022,
          2.5125942388658586,
          2.512528518349427,
          2.512149088412116,
          2.5120876154051075,
          2.5119859257865755,
          2.5119895023708523,
          2.5119259437378787,
          2.5118611444231647,
          2.5116782624445477,
          2.511758638538595,
          2.5117818540438748,
          2.511551430925465,
          2.5112355830970046,
          2.5114308587362757,
          2.5112315135193057,
          2.511261584570093,
          2.510988349948093,
          2.5110733739693387,
          2.5108886648522457,
          2.51084053627892,
          2.5107571440330503,
          2.5105535132424848,
          2.5102868215017224,
          2.510198410875091,
          2.509864139396086,
          2.509773507495993,
          2.5097042151501228,
          2.5096290801539,
          2.509624834947317,
          2.5092173068387638,
          2.509455571649596,
          2.509244983939425,
          2.509147650691375,
          2.5089816592953866,
          2.508918439030822,
          2.5088195870339405,
          2.5084912821002945,
          2.508551181615985,
          2.508424357001786,
          2.5083684987239394,
          2.508150532728905,
          2.5081750714816735,
          2.508179701047993,
          2.507900841832452,
          2.507531195786214,
          2.5077592261841346,
          2.507459328062396,
          2.5073632689400256,
          2.5074136879356956,
          2.507303305901587,
          2.50712428044244,
          2.506780775542211,
          2.506735734114045,
          2.506749802903869,
          2.5065988381156785,
          2.5067484698774933,
          2.5066631980262173,
          2.506612395258344,
          2.506291804724242,
          2.506400034388207,
          2.5063285308151535,
          2.5062704916726943,
          2.5060150329336466,
          2.5060938859387534,
          2.5058727479699883,
          2.5059968790192215,
          2.505789557159005,
          2.5054688805812475,
          2.5053359797202575,
          2.505311155473464,
          2.505490383302458,
          2.5053649477231374,
          2.5052719751420227,
          2.5049487932501506,
          2.5047450274541916,
          2.504630641615222,
          2.504191704405457,
          2.504022179202366,
          2.503943886847992,
          2.5039625774679735,
          2.5038257321757555,
          2.5038598930423177,
          2.50356075210766,
          2.503548884693373,
          2.503690232646477,
          2.503636266097601,
          2.503476617328488,
          2.503296001945273,
          2.5033291980107606,
          2.503093710902249,
          2.5031567556998198,
          2.502882004619096,
          2.503088672325248,
          2.5029292443887243,
          2.502785879005387,
          2.502257086604004,
          2.5022789110716985,
          2.5023237268869707,
          2.502229841275039,
          2.5019365988682694,
          2.5018973760088556,
          2.501875338202808,
          2.502010877480643,
          2.501755893987138,
          2.501795760652385,
          2.5016883840635273,
          2.501462530981371,
          2.5014990059044067,
          2.50140010468931,
          2.5010416444329167,
          2.501226801556186,
          2.5010982868061546,
          2.5008353893645108,
          2.5008170157634595,
          2.5005924437537033,
          2.50052574698384,
          2.5002122134555975,
          2.5001050523696904,
          2.500002231765393,
          2.5000402000096074,
          2.499692780756959,
          2.499940266880003,
          2.499720670886745,
          2.4997420493509708,
          2.4993301697631978,
          2.4991869604218664,
          2.4989763426001446,
          2.499155110153879,
          2.4990010664078,
          2.4989992184127914,
          2.4988994971899956,
          2.4988170681808697,
          2.4986264830167784,
          2.49831343837468,
          2.498325107353594,
          2.4982949397181073,
          2.498500523633993,
          2.498408285664482,
          2.4983200120168476,
          2.498139883275144,
          2.498175268947307,
          2.498082770865949,
          2.4976019830337464,
          2.4977790987359185,
          2.4976656287835795,
          2.497466981274556,
          2.4974145202777436,
          2.4974278009813133,
          2.497042057577346,
          2.4966568008530885,
          2.4964304768836882,
          2.4964745420529653,
          2.496094841588274,
          2.4958164543440944,
          2.4954410368954996,
          2.4950429430209624,
          2.494580410701019,
          2.4939795927566593,
          2.4932743358567677,
          2.4925094116788387,
          2.4914964658273675,
          2.4903506247101177,
          2.4890437121648574,
          2.4874880510305957,
          2.4856500326404785,
          2.483773052599645,
          2.4819372700931126,
          2.479739509637511,
          2.4773847544711316,
          2.4749960513454425,
          2.472209271745669,
          2.4701985678420897,
          2.4682169347051968,
          2.465863015870127,
          2.4636699965612934,
          2.4615784559282474,
          2.4590258598236687,
          2.457066861736166,
          2.4550807999221433,
          2.452727202013193,
          2.4507078828919475,
          2.448721903598198,
          2.446357554033966,
          2.4444062490601937,
          2.442478732931704,
          2.4401944255496346,
          2.438303770724815,
          2.43637500958539,
          2.434152266341698,
          2.434082637406391,
          2.434098477815496,
          2.4339748289985437,
          2.4338723305882013,
          2.4337849006242323,
          2.4337908359120775,
          2.433665079634011,
          2.4337577162805246,
          2.43341852872436,
          2.4333324415238167,
          2.433501517672994,
          2.433341698948425,
          2.433104378718781,
          2.4330837948418775,
          2.4328868974953366,
          2.432688555749337,
          2.4325466003629117,
          2.4325755326663057,
          2.432287108271339,
          2.432175858572009,
          2.431932250477985,
          2.4317463655715983,
          2.431476678008039,
          2.4310481129796244,
          2.4307836904754367,
          2.4307136814368278,
          2.43072745011159,
          2.430561929671967,
          2.4304402073885285,
          2.4302627306824434,
          2.4303569829207845,
          2.430235550036741,
          2.4302064469193283,
          2.430100946017774,
          2.430270417184147,
          2.430178830425575,
          2.430033835773429,
          2.4298766375195555,
          2.4297180688081426,
          2.4297822216230998,
          2.4296832171276037,
          2.4296468354968965,
          2.429351530754502,
          2.4291208266204194,
          2.4292525541532086,
          2.429051829400123,
          2.429147568427652,
          2.4288010826785467,
          2.4287851421449886,
          2.4283306589550193,
          2.4280133327210933,
          2.4276993884614058,
          2.4272647376765235,
          2.4267488723398856,
          2.4261180672601768,
          2.425337048029178,
          2.4244853913332918,
          2.4234667221771815,
          2.42223022039434,
          2.4208429100108333,
          2.4197825810842915,
          2.418739805907535,
          2.41753280985904,
          2.4174888417292095,
          2.4174364682257874,
          2.4173667396589735,
          2.4171525003785064,
          2.4171894030332624,
          2.417166602170255,
          2.4169058158986445,
          2.4167163820111455,
          2.4163612874599494,
          2.4162559428641543,
          2.416061175710638,
          2.41599798345851,
          2.4159875073419244,
          2.41599282426796,
          2.4160043865194893,
          2.4158356816205924,
          2.4157775809399027,
          2.415807134113493,
          2.415399445781077,
          2.4156263955810573,
          2.4154842781936168,
          2.4154669287145225,
          2.4152595089417446,
          2.415202494659752,
          2.415130650426363,
          2.4150681089085992,
          2.415115811392752,
          2.4149551185182645,
          2.4146444860489282,
          2.4147750092324713,
          2.4146631509192957,
          2.4145048197005963,
          2.4145963085429685,
          2.4143024456498097,
          2.414047791151461,
          2.4139875714608934,
          2.4140319650323363,
          2.413736290034649,
          2.4136403124412027,
          2.4136350091848726,
          2.413771518660724,
          2.4138121074465744,
          2.4132238835918542,
          2.4133939091898355,
          2.4135262440631777,
          2.413431606175436,
          2.4132283509698027,
          2.4132850294008676,
          2.4132209732015326,
          2.413202730083867,
          2.413202423173061,
          2.4129994406066544,
          2.412832277121197,
          2.412875712148889,
          2.412565054721199,
          2.412423069050419,
          2.412269759512128,
          2.4123048199635377,
          2.411953272363462,
          2.411587769849575,
          2.411416911165361,
          2.4111216790042818,
          2.4108510684436624,
          2.4105895582106314,
          2.410252532521554,
          2.4097942305324977,
          2.409234916387504,
          2.4086828226463695,
          2.408341044007102,
          2.408273311881203,
          2.408300133603916,
          2.408081309256886,
          2.4079725588217116,
          2.407993637451,
          2.407807445471917,
          2.4078293430484337,
          2.407348307673601,
          2.4075377540139016,
          2.4076438738848083,
          2.40756779790172,
          2.4073289640582516,
          2.407376208488131,
          2.4070698809427995,
          2.4071045198961656,
          2.406903529921692,
          2.4070809792538057,
          2.406855934237683,
          2.406974072840967,
          2.4066749747689755,
          2.4068229472450184,
          2.4067554882476543,
          2.4064419323294715,
          2.4061465236809454,
          2.406055986921274,
          2.4060946654990403,
          2.4057853025788063,
          2.4056931648083264,
          2.405752941613173,
          2.4057240057700255,
          2.4059518367612327,
          2.405707815027199,
          2.4057045896825002,
          2.405691377380208,
          2.405319225827043,
          2.4051416921192867,
          2.4050366886312986,
          2.4048352387289924,
          2.4046703632411663,
          2.404164053430577,
          2.4037636078955984,
          2.403277692170377,
          2.402692352017766,
          2.4020930103451974,
          2.4020110492820095,
          2.401921620248686,
          2.4019420691911364,
          2.4016718461607525,
          2.40146367219495,
          2.4014865498338622,
          2.401292044436559,
          2.401325459271902,
          2.401092802414496,
          2.4012758113094606,
          2.400942650017896,
          2.4009652033528255,
          2.401039335583846,
          2.4006804580330936,
          2.400652532318418,
          2.400260347269068,
          2.399958406771475,
          2.4000166166897543,
          2.399958642794445,
          2.3999474001866474,
          2.39976531807406,
          2.399725782817768,
          2.399759135394561,
          2.3993609025546903,
          2.3993550847953884,
          2.39951595760067,
          2.3992454267317953,
          2.3991928653686045,
          2.3992078740157012,
          2.3990775678812497,
          2.3991577033812064,
          2.3991859875914088,
          2.398935180326589,
          2.3988586893301544,
          2.3989254857206106,
          2.398803092581147,
          2.398784136672475,
          2.398945025577632,
          2.3988262093243975,
          2.398510267776146,
          2.398523820351329,
          2.398280402443561,
          2.3982353000010335,
          2.3982734691071528,
          2.3981487511518935,
          2.3980730160474195,
          2.3978631300178677,
          2.3977078579373483,
          2.397538159390024,
          2.3976116676458332,
          2.397408780056139,
          2.397423488802815,
          2.397290667588095,
          2.397354715340043,
          2.397234895339352,
          2.396915754514339,
          2.397060973000407,
          2.396991320005327,
          2.3970851053054503,
          2.3969945706121507,
          2.3968918948030478,
          2.3969485488523787,
          2.3968491853065643,
          2.3967245742405794,
          2.396643548783686,
          2.3962902971306903,
          2.396303781930328,
          2.3961540265172516,
          2.396260500061544,
          2.39602304784421,
          2.3958339609962422,
          2.3958156738026446,
          2.396065749670015,
          2.3959973335222458,
          2.395777812696906,
          2.395844605138336,
          2.395634104830606,
          2.395473693180975,
          2.3953615066275233,
          2.3954114772059256,
          2.395053390331668,
          2.394785604397839,
          2.3946602824271395,
          2.394326955172801,
          2.3939750586505397,
          2.393662364469492,
          2.3930676654526906,
          2.392474907594078,
          2.3919830350132543,
          2.39147345245874,
          2.390926704836602,
          2.3901707284658187,
          2.3894623820106062,
          2.3884059349948075,
          2.3882062696120556,
          2.3879029135969176,
          2.3877435580616293,
          2.387432356210411,
          2.3872293909753353,
          2.386899089862709,
          2.3867523576882377,
          2.3864768328403443,
          2.386342541050908,
          2.3863787367154146,
          2.386130506520203,
          2.386029446386601,
          2.385871006483285,
          2.3860107631608116,
          2.386031742211344,
          2.3859518928547914,
          2.385740657668066,
          2.3857746483208757,
          2.38552056386834,
          2.385483791349543,
          2.3855506748495827,
          2.385529844888879,
          2.3851944197613193,
          2.3850612662081403,
          2.3849723947350867,
          2.3845543827883375,
          2.3842540969053516,
          2.3840171006522723,
          2.383893040885596,
          2.3837377803029085,
          2.3833916651256004,
          2.3831138621299033,
          2.3830715293133835,
          2.3830129945945373,
          2.382947880130814,
          2.3827414053048415,
          2.3827886551407573,
          2.382734397697277,
          2.382697816927248,
          2.3828293129663507,
          2.3827301159162744,
          2.3826324486126396,
          2.382254769170686,
          2.3823063620129687,
          2.382118342347894,
          2.3822237548865814,
          2.3821521722420584,
          2.3819372367179312,
          2.3819815069728065,
          2.3818903629799024,
          2.381768366230972,
          2.381814544540248,
          2.381734148302712,
          2.381404022249626,
          2.38150190903616,
          2.38146751234126,
          2.3813632035689807,
          2.3814238520499202,
          2.381289306378676,
          2.3811233032993186,
          2.3809116852644365,
          2.38086858970928,
          2.380655468627083,
          2.380498358685145,
          2.3803979037675163,
          2.380390713122324,
          2.380411301563072,
          2.3803456783134607,
          2.380412376973254,
          2.3803443188353413,
          2.3802785468833463,
          2.380188816894588,
          2.380235335245743,
          2.38016703714311,
          2.3798799456708366,
          2.379983274197002,
          2.37994178311601,
          2.379713946755146,
          2.37965004450416,
          2.3795786235168634,
          2.3796145930209605,
          2.379324416118834,
          2.3794462813821156,
          2.3793994251864206,
          2.3792253322135366,
          2.379270280845958,
          2.3791440507811785,
          2.3787956758969813,
          2.3788560915054404,
          2.3788749122923036,
          2.3786057312299818,
          2.3784192863549833,
          2.3785302131327626,
          2.378226046797863,
          2.3780657568004244,
          2.3781849168044573,
          2.378010725513377,
          2.3779459304332704,
          2.378026575432159,
          2.3778065353290003,
          2.3777344999398338,
          2.377697355754208,
          2.377752914249868,
          2.3776620582211763,
          2.3777668591701513,
          2.3775554055064276,
          2.377614775856273,
          2.3774692176521057,
          2.3772167754432303,
          2.377236369111415,
          2.3769928902020183,
          2.3769294198282296,
          2.3769601472340582,
          2.3766128672577906,
          2.376729022293148,
          2.3764352065263665,
          2.376130789083618,
          2.376068652381946,
          2.3758043241923588,
          2.3756099219644966,
          2.375056136494095,
          2.3749881316325627,
          2.374934881223453,
          2.3748752459923708,
          2.374804693812621,
          2.3747323816241988,
          2.3745066874380427,
          2.3744260171824862,
          2.3742960820291046,
          2.374125396136151,
          2.373957284311473,
          2.3736784564262052,
          2.373368202146594,
          2.373240225833797,
          2.372986222477266,
          2.3728010959748644,
          2.372545118285416,
          2.3721190832984576,
          2.3718733270306984,
          2.3717935831318755,
          2.371825246293156,
          2.3715703287598444,
          2.3714409546118986,
          2.371455629292541,
          2.371352061367361,
          2.3713800245332095,
          2.3712072738399,
          2.371281678257219,
          2.3711774886396597,
          2.3713034335341945,
          2.370896047375936,
          2.370940505546969,
          2.370686576501612,
          2.3709040322191868,
          2.3705523643711786,
          2.3702705701034574,
          2.370156215480165,
          2.369783798356366,
          2.369462830303746,
          2.3690360184937163,
          2.3687707434928598,
          2.368401660982272,
          2.36807630671683,
          2.367702526273206,
          2.367147300959914,
          2.366646270687852,
          2.3665825160333043,
          2.3666110553240287,
          2.36640977577008,
          2.3663076965858636,
          2.3662563401467196,
          2.366284689725944,
          2.365999810252106,
          2.366210374135335,
          2.3660914744596084,
          2.3661293329114415,
          2.3657720774917834,
          2.365985049324081,
          2.3656949908636307,
          2.3655704735738254,
          2.3654194184418884,
          2.3654578347886854,
          2.365190518430609,
          2.3650923420973413,
          2.365139230641944,
          2.365207895411004,
          2.365109428530559,
          2.364984419398752,
          2.364992859556878,
          2.364898641288164,
          2.3648647776117286,
          2.3649087011744996,
          2.364810783414214,
          2.364505792989803,
          2.364514596210938,
          2.3644903007098037,
          2.3647231071390706,
          2.3646339856823033,
          2.3642183959600516,
          2.3642687158007902,
          2.3641841969802044,
          2.364029889784433,
          2.3639296873552667,
          2.3640674590824347,
          2.363844253733987,
          2.3640362703554274,
          2.3639220843615476,
          2.363658740221581,
          2.3636101685788162,
          2.363381613540696,
          2.36333699939496,
          2.363362648697148,
          2.363344289124143,
          2.3630363579068216,
          2.3630011471832404,
          2.3628786638419115,
          2.3628109773435426,
          2.362748995767106,
          2.362479757062829,
          2.3622856590191077,
          2.3621994720906514,
          2.361930098655648,
          2.361672111972439,
          2.361298804611579,
          2.3610527737473603,
          2.360720740085526,
          2.3602257683050993,
          2.359701430386849,
          2.358978925156407,
          2.358210405223872,
          2.3573135202186677,
          2.356937860569815,
          2.356237479536503,
          2.355553801100541,
          2.3555123926234955,
          2.3554493057963555,
          2.355366850611972,
          2.3551314653905138,
          2.3550058740547684,
          2.354967209201277,
          2.3550669126361754,
          2.3549921938811167,
          2.3547156153053947,
          2.354693754345135,
          2.354549399446114,
          2.354594159149201,
          2.354544600015288,
          2.3543324184011,
          2.3541859873203066,
          2.354019762820826,
          2.353907776889173,
          2.3535485692991642,
          2.3534578505768877,
          2.3532414552173577,
          2.353160727983777,
          2.353188757026146,
          2.353032207032811,
          2.3529645612215973,
          2.352932868316202,
          2.3530489060794935,
          2.353024683225158,
          2.352886851729636,
          2.3527638554314763,
          2.352687393376982,
          2.3527506217778864,
          2.352527172450209,
          2.3523442401528882,
          2.3521754700141173,
          2.3520653755076637,
          2.3517060973117623,
          2.3514428431390115,
          2.351066917330172,
          2.3506469462645327,
          2.3500862833407155,
          2.349493142852225,
          2.3491757513038465,
          2.3488026265713415,
          2.3486530681784643,
          2.3484566585084394,
          2.3481188027799362,
          2.347935911267996,
          2.34770600759839,
          2.3475121470455633,
          2.347244245633192,
          2.347103389340191,
          2.3468489992174,
          2.3465879079594743,
          2.3462718672162737,
          2.3458560431245132,
          2.34546349694574,
          2.344911921336461,
          2.3445270410738885,
          2.3440441635048046,
          2.344016577297225,
          2.3436765868973453,
          2.3435234350399696,
          2.3432330858940986,
          2.343064869100999,
          2.3431872931305406,
          2.3427927258035197,
          2.342569683200054,
          2.3423291807939677,
          2.3421294849249534,
          2.341848482587011,
          2.341920117241898,
          2.341480978337131,
          2.34109413868282,
          2.3408436581757996,
          2.34058623011515,
          2.3403376439073327,
          2.3401289065459423,
          2.3399411739010247,
          2.339686504466954,
          2.339375047316935,
          2.3390202077061986,
          2.338552426728711,
          2.3385029560467956,
          2.3384221026117302,
          2.338306995396124,
          2.338082277568901,
          2.338013143367789,
          2.3379570498527755,
          2.3378758956223464,
          2.3379048086662806,
          2.337635184701867,
          2.337552921524548,
          2.337485520685732,
          2.337402000923248,
          2.337329390380546,
          2.3373916002856276,
          2.3370325706036965,
          2.337015673499991,
          2.336717035879701,
          2.3366611478832056,
          2.3366595856132335,
          2.3365853252034867,
          2.3366590422956506,
          2.3365350178210065,
          2.33642499745838,
          2.3363432323221787,
          2.3362563422597304,
          2.3359692551966873,
          2.3360174290228315,
          2.3359058950863982,
          2.335947927003872,
          2.3358689235155907,
          2.3357265626891603,
          2.335577975038177,
          2.3354922185098985,
          2.335260940786611,
          2.3353227363786573,
          2.3350251591000415,
          2.3345431779853243,
          2.334504039663443,
          2.3344435036306095,
          2.334350708693819,
          2.334222258752561,
          2.3339947062486317,
          2.333874573607318,
          2.3338016426623653,
          2.3337037578621675,
          2.333619687571627,
          2.3336984997349646,
          2.333520457150371,
          2.333506169525208,
          2.3336188722169027,
          2.3335336210238893,
          2.3335815686150454,
          2.3330954379489413,
          2.3328738048912783,
          2.3327803565098293,
          2.3327125985888415,
          2.3325390352129034,
          2.3323146926122718,
          2.3322659197256144,
          2.3323104437531583,
          2.332235540570764,
          2.3321880260009493,
          2.33189956140086,
          2.3319301173596614,
          2.33172381017539,
          2.331695444405341,
          2.331407275805759,
          2.331312481954228,
          2.3313220945001376,
          2.331090825051433,
          2.33113724080431,
          2.331072889526695,
          2.3308910080795613,
          2.330929117073538,
          2.3305717022030876,
          2.3305884649780637,
          2.330653782990339,
          2.3305448257178796,
          2.330442980022781,
          2.330225373736539,
          2.329891472170857,
          2.3298328151067835,
          2.329633677367383,
          2.32956989424747,
          2.3292936569123412,
          2.3290793324194965,
          2.3288159637831995,
          2.3284681851655478,
          2.3280876312401233,
          2.3276345279573434,
          2.3273121725505916,
          2.327000637207675,
          2.326571516909098,
          2.3261107048674603,
          2.3255347704507585,
          2.3249039020884084,
          2.324098674069319,
          2.32316502163485,
          2.322551999382995,
          2.3218598031708098,
          2.3210491089539573,
          2.320766022974567,
          2.320364548439102,
          2.3201437830430223,
          2.3202309108091868,
          2.32025857624285,
          2.3201378547291824,
          2.3197286161448574,
          2.319736589279273,
          2.3196744494798622
         ]
        }
       ],
       "layout": {
        "font": {
         "color": "black",
         "family": "Time News Roman",
         "size": 30
        },
        "height": 800,
        "template": {
         "data": {
          "bar": [
           {
            "error_x": {
             "color": "#2a3f5f"
            },
            "error_y": {
             "color": "#2a3f5f"
            },
            "marker": {
             "line": {
              "color": "white",
              "width": 0.5
             },
             "pattern": {
              "fillmode": "overlay",
              "size": 10,
              "solidity": 0.2
             }
            },
            "type": "bar"
           }
          ],
          "barpolar": [
           {
            "marker": {
             "line": {
              "color": "white",
              "width": 0.5
             },
             "pattern": {
              "fillmode": "overlay",
              "size": 10,
              "solidity": 0.2
             }
            },
            "type": "barpolar"
           }
          ],
          "carpet": [
           {
            "aaxis": {
             "endlinecolor": "#2a3f5f",
             "gridcolor": "#C8D4E3",
             "linecolor": "#C8D4E3",
             "minorgridcolor": "#C8D4E3",
             "startlinecolor": "#2a3f5f"
            },
            "baxis": {
             "endlinecolor": "#2a3f5f",
             "gridcolor": "#C8D4E3",
             "linecolor": "#C8D4E3",
             "minorgridcolor": "#C8D4E3",
             "startlinecolor": "#2a3f5f"
            },
            "type": "carpet"
           }
          ],
          "choropleth": [
           {
            "colorbar": {
             "outlinewidth": 0,
             "ticks": ""
            },
            "type": "choropleth"
           }
          ],
          "contour": [
           {
            "colorbar": {
             "outlinewidth": 0,
             "ticks": ""
            },
            "colorscale": [
             [
              0,
              "#0d0887"
             ],
             [
              0.1111111111111111,
              "#46039f"
             ],
             [
              0.2222222222222222,
              "#7201a8"
             ],
             [
              0.3333333333333333,
              "#9c179e"
             ],
             [
              0.4444444444444444,
              "#bd3786"
             ],
             [
              0.5555555555555556,
              "#d8576b"
             ],
             [
              0.6666666666666666,
              "#ed7953"
             ],
             [
              0.7777777777777778,
              "#fb9f3a"
             ],
             [
              0.8888888888888888,
              "#fdca26"
             ],
             [
              1,
              "#f0f921"
             ]
            ],
            "type": "contour"
           }
          ],
          "contourcarpet": [
           {
            "colorbar": {
             "outlinewidth": 0,
             "ticks": ""
            },
            "type": "contourcarpet"
           }
          ],
          "heatmap": [
           {
            "colorbar": {
             "outlinewidth": 0,
             "ticks": ""
            },
            "colorscale": [
             [
              0,
              "#0d0887"
             ],
             [
              0.1111111111111111,
              "#46039f"
             ],
             [
              0.2222222222222222,
              "#7201a8"
             ],
             [
              0.3333333333333333,
              "#9c179e"
             ],
             [
              0.4444444444444444,
              "#bd3786"
             ],
             [
              0.5555555555555556,
              "#d8576b"
             ],
             [
              0.6666666666666666,
              "#ed7953"
             ],
             [
              0.7777777777777778,
              "#fb9f3a"
             ],
             [
              0.8888888888888888,
              "#fdca26"
             ],
             [
              1,
              "#f0f921"
             ]
            ],
            "type": "heatmap"
           }
          ],
          "heatmapgl": [
           {
            "colorbar": {
             "outlinewidth": 0,
             "ticks": ""
            },
            "colorscale": [
             [
              0,
              "#0d0887"
             ],
             [
              0.1111111111111111,
              "#46039f"
             ],
             [
              0.2222222222222222,
              "#7201a8"
             ],
             [
              0.3333333333333333,
              "#9c179e"
             ],
             [
              0.4444444444444444,
              "#bd3786"
             ],
             [
              0.5555555555555556,
              "#d8576b"
             ],
             [
              0.6666666666666666,
              "#ed7953"
             ],
             [
              0.7777777777777778,
              "#fb9f3a"
             ],
             [
              0.8888888888888888,
              "#fdca26"
             ],
             [
              1,
              "#f0f921"
             ]
            ],
            "type": "heatmapgl"
           }
          ],
          "histogram": [
           {
            "marker": {
             "pattern": {
              "fillmode": "overlay",
              "size": 10,
              "solidity": 0.2
             }
            },
            "type": "histogram"
           }
          ],
          "histogram2d": [
           {
            "colorbar": {
             "outlinewidth": 0,
             "ticks": ""
            },
            "colorscale": [
             [
              0,
              "#0d0887"
             ],
             [
              0.1111111111111111,
              "#46039f"
             ],
             [
              0.2222222222222222,
              "#7201a8"
             ],
             [
              0.3333333333333333,
              "#9c179e"
             ],
             [
              0.4444444444444444,
              "#bd3786"
             ],
             [
              0.5555555555555556,
              "#d8576b"
             ],
             [
              0.6666666666666666,
              "#ed7953"
             ],
             [
              0.7777777777777778,
              "#fb9f3a"
             ],
             [
              0.8888888888888888,
              "#fdca26"
             ],
             [
              1,
              "#f0f921"
             ]
            ],
            "type": "histogram2d"
           }
          ],
          "histogram2dcontour": [
           {
            "colorbar": {
             "outlinewidth": 0,
             "ticks": ""
            },
            "colorscale": [
             [
              0,
              "#0d0887"
             ],
             [
              0.1111111111111111,
              "#46039f"
             ],
             [
              0.2222222222222222,
              "#7201a8"
             ],
             [
              0.3333333333333333,
              "#9c179e"
             ],
             [
              0.4444444444444444,
              "#bd3786"
             ],
             [
              0.5555555555555556,
              "#d8576b"
             ],
             [
              0.6666666666666666,
              "#ed7953"
             ],
             [
              0.7777777777777778,
              "#fb9f3a"
             ],
             [
              0.8888888888888888,
              "#fdca26"
             ],
             [
              1,
              "#f0f921"
             ]
            ],
            "type": "histogram2dcontour"
           }
          ],
          "mesh3d": [
           {
            "colorbar": {
             "outlinewidth": 0,
             "ticks": ""
            },
            "type": "mesh3d"
           }
          ],
          "parcoords": [
           {
            "line": {
             "colorbar": {
              "outlinewidth": 0,
              "ticks": ""
             }
            },
            "type": "parcoords"
           }
          ],
          "pie": [
           {
            "automargin": true,
            "type": "pie"
           }
          ],
          "scatter": [
           {
            "fillpattern": {
             "fillmode": "overlay",
             "size": 10,
             "solidity": 0.2
            },
            "type": "scatter"
           }
          ],
          "scatter3d": [
           {
            "line": {
             "colorbar": {
              "outlinewidth": 0,
              "ticks": ""
             }
            },
            "marker": {
             "colorbar": {
              "outlinewidth": 0,
              "ticks": ""
             }
            },
            "type": "scatter3d"
           }
          ],
          "scattercarpet": [
           {
            "marker": {
             "colorbar": {
              "outlinewidth": 0,
              "ticks": ""
             }
            },
            "type": "scattercarpet"
           }
          ],
          "scattergeo": [
           {
            "marker": {
             "colorbar": {
              "outlinewidth": 0,
              "ticks": ""
             }
            },
            "type": "scattergeo"
           }
          ],
          "scattergl": [
           {
            "marker": {
             "colorbar": {
              "outlinewidth": 0,
              "ticks": ""
             }
            },
            "type": "scattergl"
           }
          ],
          "scattermapbox": [
           {
            "marker": {
             "colorbar": {
              "outlinewidth": 0,
              "ticks": ""
             }
            },
            "type": "scattermapbox"
           }
          ],
          "scatterpolar": [
           {
            "marker": {
             "colorbar": {
              "outlinewidth": 0,
              "ticks": ""
             }
            },
            "type": "scatterpolar"
           }
          ],
          "scatterpolargl": [
           {
            "marker": {
             "colorbar": {
              "outlinewidth": 0,
              "ticks": ""
             }
            },
            "type": "scatterpolargl"
           }
          ],
          "scatterternary": [
           {
            "marker": {
             "colorbar": {
              "outlinewidth": 0,
              "ticks": ""
             }
            },
            "type": "scatterternary"
           }
          ],
          "surface": [
           {
            "colorbar": {
             "outlinewidth": 0,
             "ticks": ""
            },
            "colorscale": [
             [
              0,
              "#0d0887"
             ],
             [
              0.1111111111111111,
              "#46039f"
             ],
             [
              0.2222222222222222,
              "#7201a8"
             ],
             [
              0.3333333333333333,
              "#9c179e"
             ],
             [
              0.4444444444444444,
              "#bd3786"
             ],
             [
              0.5555555555555556,
              "#d8576b"
             ],
             [
              0.6666666666666666,
              "#ed7953"
             ],
             [
              0.7777777777777778,
              "#fb9f3a"
             ],
             [
              0.8888888888888888,
              "#fdca26"
             ],
             [
              1,
              "#f0f921"
             ]
            ],
            "type": "surface"
           }
          ],
          "table": [
           {
            "cells": {
             "fill": {
              "color": "#EBF0F8"
             },
             "line": {
              "color": "white"
             }
            },
            "header": {
             "fill": {
              "color": "#C8D4E3"
             },
             "line": {
              "color": "white"
             }
            },
            "type": "table"
           }
          ]
         },
         "layout": {
          "annotationdefaults": {
           "arrowcolor": "#2a3f5f",
           "arrowhead": 0,
           "arrowwidth": 1
          },
          "autotypenumbers": "strict",
          "coloraxis": {
           "colorbar": {
            "outlinewidth": 0,
            "ticks": ""
           }
          },
          "colorscale": {
           "diverging": [
            [
             0,
             "#8e0152"
            ],
            [
             0.1,
             "#c51b7d"
            ],
            [
             0.2,
             "#de77ae"
            ],
            [
             0.3,
             "#f1b6da"
            ],
            [
             0.4,
             "#fde0ef"
            ],
            [
             0.5,
             "#f7f7f7"
            ],
            [
             0.6,
             "#e6f5d0"
            ],
            [
             0.7,
             "#b8e186"
            ],
            [
             0.8,
             "#7fbc41"
            ],
            [
             0.9,
             "#4d9221"
            ],
            [
             1,
             "#276419"
            ]
           ],
           "sequential": [
            [
             0,
             "#0d0887"
            ],
            [
             0.1111111111111111,
             "#46039f"
            ],
            [
             0.2222222222222222,
             "#7201a8"
            ],
            [
             0.3333333333333333,
             "#9c179e"
            ],
            [
             0.4444444444444444,
             "#bd3786"
            ],
            [
             0.5555555555555556,
             "#d8576b"
            ],
            [
             0.6666666666666666,
             "#ed7953"
            ],
            [
             0.7777777777777778,
             "#fb9f3a"
            ],
            [
             0.8888888888888888,
             "#fdca26"
            ],
            [
             1,
             "#f0f921"
            ]
           ],
           "sequentialminus": [
            [
             0,
             "#0d0887"
            ],
            [
             0.1111111111111111,
             "#46039f"
            ],
            [
             0.2222222222222222,
             "#7201a8"
            ],
            [
             0.3333333333333333,
             "#9c179e"
            ],
            [
             0.4444444444444444,
             "#bd3786"
            ],
            [
             0.5555555555555556,
             "#d8576b"
            ],
            [
             0.6666666666666666,
             "#ed7953"
            ],
            [
             0.7777777777777778,
             "#fb9f3a"
            ],
            [
             0.8888888888888888,
             "#fdca26"
            ],
            [
             1,
             "#f0f921"
            ]
           ]
          },
          "colorway": [
           "#636efa",
           "#EF553B",
           "#00cc96",
           "#ab63fa",
           "#FFA15A",
           "#19d3f3",
           "#FF6692",
           "#B6E880",
           "#FF97FF",
           "#FECB52"
          ],
          "font": {
           "color": "#2a3f5f"
          },
          "geo": {
           "bgcolor": "white",
           "lakecolor": "white",
           "landcolor": "white",
           "showlakes": true,
           "showland": true,
           "subunitcolor": "#C8D4E3"
          },
          "hoverlabel": {
           "align": "left"
          },
          "hovermode": "closest",
          "mapbox": {
           "style": "light"
          },
          "paper_bgcolor": "white",
          "plot_bgcolor": "white",
          "polar": {
           "angularaxis": {
            "gridcolor": "#EBF0F8",
            "linecolor": "#EBF0F8",
            "ticks": ""
           },
           "bgcolor": "white",
           "radialaxis": {
            "gridcolor": "#EBF0F8",
            "linecolor": "#EBF0F8",
            "ticks": ""
           }
          },
          "scene": {
           "xaxis": {
            "backgroundcolor": "white",
            "gridcolor": "#DFE8F3",
            "gridwidth": 2,
            "linecolor": "#EBF0F8",
            "showbackground": true,
            "ticks": "",
            "zerolinecolor": "#EBF0F8"
           },
           "yaxis": {
            "backgroundcolor": "white",
            "gridcolor": "#DFE8F3",
            "gridwidth": 2,
            "linecolor": "#EBF0F8",
            "showbackground": true,
            "ticks": "",
            "zerolinecolor": "#EBF0F8"
           },
           "zaxis": {
            "backgroundcolor": "white",
            "gridcolor": "#DFE8F3",
            "gridwidth": 2,
            "linecolor": "#EBF0F8",
            "showbackground": true,
            "ticks": "",
            "zerolinecolor": "#EBF0F8"
           }
          },
          "shapedefaults": {
           "line": {
            "color": "#2a3f5f"
           }
          },
          "ternary": {
           "aaxis": {
            "gridcolor": "#DFE8F3",
            "linecolor": "#A2B1C6",
            "ticks": ""
           },
           "baxis": {
            "gridcolor": "#DFE8F3",
            "linecolor": "#A2B1C6",
            "ticks": ""
           },
           "bgcolor": "white",
           "caxis": {
            "gridcolor": "#DFE8F3",
            "linecolor": "#A2B1C6",
            "ticks": ""
           }
          },
          "title": {
           "x": 0.05
          },
          "xaxis": {
           "automargin": true,
           "gridcolor": "#EBF0F8",
           "linecolor": "#EBF0F8",
           "ticks": "",
           "title": {
            "standoff": 15
           },
           "zerolinecolor": "#EBF0F8",
           "zerolinewidth": 2
          },
          "yaxis": {
           "automargin": true,
           "gridcolor": "#EBF0F8",
           "linecolor": "#EBF0F8",
           "ticks": "",
           "title": {
            "standoff": 15
           },
           "zerolinecolor": "#EBF0F8",
           "zerolinewidth": 2
          }
         }
        },
        "title": {
         "text": "Diferencial de Pressão",
         "x": 0.5
        },
        "width": 1200,
        "xaxis": {
         "title": {
          "text": "Tempo (min)"
         }
        },
        "yaxis": {
         "title": {
          "text": "Pressão (psi)"
         }
        }
       }
      }
     },
     "metadata": {},
     "output_type": "display_data"
    }
   ],
   "source": [
    "colors = [\n",
    "    'rgba(0, 0, 0, 1)',   # Black\n",
    "    'rgba(105, 55, 20, 1)',  # Brown\n",
    "    'rgba(255, 110, 0, 1)',   # Orange\n",
    "    'rgba(255, 215, 0, 1)',   # Yellow\n",
    "    'rgba(0, 255, 0, 0.8)',  # Green\n",
    "    'rgba(0, 200, 150, 1)',  # Ciane\n",
    "    'rgba(0, 100, 250, 1)',   # Light Blue\n",
    "    'rgba(0, 0, 150, 1)',     # Dark Blue\n",
    "    'rgba(150, 0, 255, 1)',   # Purple\n",
    "    'rgba(255, 0, 0, 1)',  # Red\n",
    "]\n",
    "\n",
    "press_1 = pd.DataFrame(teste_1_a['Well Block Pressure'])\n",
    "dp_1 = abs(press_1[0] - press_1[1])\n",
    "\n",
    "\n",
    "trace_1 = go.Scatter(x=tempo_1[0],y=dp_1,mode='lines',name='<i>Homogêneo</i>',line=dict(color=colors[0], dash='solid'))\n",
    "\n",
    "fig_dp = go.Figure()\n",
    "\n",
    "fig_dp.add_trace(trace_1)\n",
    "\n",
    "fig_dp.update_layout(title='Diferencial de Pressão',\n",
    "                  title_x=0.5,\n",
    "                  xaxis_title='Tempo (min)',\n",
    "                  yaxis_title='Pressão (psi)',\n",
    "                #   xaxis=dict(\n",
    "                #       range=[0, 8000]),\n",
    "                #   yaxis=dict(\n",
    "                #       range=[0, 250]),\n",
    "                  font=dict(\n",
    "                      family='Time News Roman',  # fonte da legenda\n",
    "                      size=30,               # tamanho da fonte\n",
    "                      color='black'         # cor da fonte\n",
    "                      ),\n",
    "                  template='plotly_white',\n",
    "                  width=1200,\n",
    "                  height=800)\n",
    "fig_dp.show()"
   ]
  },
  {
   "cell_type": "markdown",
   "metadata": {},
   "source": [
    "# NP"
   ]
  },
  {
   "cell_type": "markdown",
   "metadata": {},
   "source": [
    "Cria gráfico de NP utilizando função já definida no ogsim para recuperar dados de produção do campo (amostra)"
   ]
  },
  {
   "cell_type": "code",
   "execution_count": 44,
   "metadata": {},
   "outputs": [
    {
     "data": {
      "application/vnd.plotly.v1+json": {
       "config": {
        "plotlyServerURL": "https://plot.ly"
       },
       "data": [
        {
         "line": {
          "color": "rgba(0, 0, 0, 1)",
          "dash": "solid"
         },
         "mode": "lines",
         "name": "<i>Homogêneo</i>",
         "type": "scatter",
         "x": [
          0,
          1,
          2,
          3,
          4,
          5,
          6,
          7,
          8,
          9,
          10,
          11,
          12,
          13,
          14,
          15,
          16,
          17,
          18,
          19,
          20,
          21,
          22,
          23,
          24,
          25,
          26,
          27,
          28,
          29,
          30,
          31,
          32,
          33,
          34,
          35,
          36,
          37,
          38,
          39,
          40,
          41,
          42,
          43,
          44,
          45,
          46,
          47,
          48,
          49,
          50,
          51,
          52,
          53,
          54,
          55,
          56,
          57,
          58,
          59,
          60,
          61,
          62,
          63,
          64,
          65,
          66,
          67,
          68,
          69,
          70,
          71,
          72,
          73,
          74,
          75,
          76,
          77,
          78,
          79,
          80,
          81,
          82,
          83,
          84,
          85,
          86,
          87,
          88,
          89,
          90,
          91,
          92,
          93,
          94,
          95,
          96,
          97,
          98,
          99
         ],
         "y": [
          0,
          1.0112229074645431,
          2.0224456291412083,
          3.0336682084194475,
          4.044890647714662,
          5.056112964345591,
          5.999047064219443,
          6.244443556359674,
          6.377344394754318,
          6.48507880981838,
          6.574701643493186,
          6.651912246148329,
          6.7204161685359525,
          6.78198588254576,
          6.83783606483124,
          6.888715777508837,
          6.9355395649894485,
          6.978922609101939,
          7.019172669439086,
          7.056738933791627,
          7.091938872888115,
          7.1250240426763165,
          7.156265240437261,
          7.185889554558939,
          7.213946992692192,
          7.240745266823697,
          7.266223019860849,
          7.290400554540313,
          7.313524264349067,
          7.335605449374538,
          7.35691478105424,
          7.377350097840843,
          7.397012699397503,
          7.415939139669493,
          7.43411469088511,
          7.451653428063946,
          7.468542945731483,
          7.484848581566785,
          7.500595400578363,
          7.515827426931294,
          7.530592367457466,
          7.544891941169179,
          7.558834418557321,
          7.572380610936364,
          7.585609757152463,
          7.598425338885127,
          7.61093868419078,
          7.623201729544632,
          7.635265872286445,
          7.646804892235848,
          7.658080049520836,
          7.668938634542345,
          7.679670754885923,
          7.690066059381299,
          7.700168680057137,
          7.710008260190157,
          7.720440484699053,
          7.732192743660112,
          7.743465892272874,
          7.754111535869623,
          7.764445861026815,
          7.775130506736847,
          7.783994275257162,
          7.7926331983982395,
          7.80324907221906,
          7.813453247892287,
          7.823330071021046,
          7.83137349337839,
          7.8389942697800485,
          7.846347785633397,
          7.8536682766638375,
          7.860929544780998,
          7.867963864058803,
          7.874751383430713,
          7.881539015072415,
          7.888177615749646,
          7.895739233015378,
          7.903332335421015,
          7.909794475155267,
          7.9177969551646745,
          7.925344789831839,
          7.932958698510522,
          7.941463584655368,
          7.948546616862909,
          7.954610285994524,
          7.961872332481793,
          7.969429259673569,
          7.9758240609285025,
          7.982253636570418,
          7.989585402127005,
          7.995351166613387,
          8.001702570691876,
          8.007478101285967,
          8.013158049885128,
          8.018927084950604,
          8.024686894463251,
          8.030809095606944,
          8.03654986871616,
          8.041557245434912,
          8.04676361034703
         ]
        }
       ],
       "layout": {
        "font": {
         "color": "black",
         "family": "Time News Roman",
         "size": 30
        },
        "height": 800,
        "template": {
         "data": {
          "bar": [
           {
            "error_x": {
             "color": "#2a3f5f"
            },
            "error_y": {
             "color": "#2a3f5f"
            },
            "marker": {
             "line": {
              "color": "white",
              "width": 0.5
             },
             "pattern": {
              "fillmode": "overlay",
              "size": 10,
              "solidity": 0.2
             }
            },
            "type": "bar"
           }
          ],
          "barpolar": [
           {
            "marker": {
             "line": {
              "color": "white",
              "width": 0.5
             },
             "pattern": {
              "fillmode": "overlay",
              "size": 10,
              "solidity": 0.2
             }
            },
            "type": "barpolar"
           }
          ],
          "carpet": [
           {
            "aaxis": {
             "endlinecolor": "#2a3f5f",
             "gridcolor": "#C8D4E3",
             "linecolor": "#C8D4E3",
             "minorgridcolor": "#C8D4E3",
             "startlinecolor": "#2a3f5f"
            },
            "baxis": {
             "endlinecolor": "#2a3f5f",
             "gridcolor": "#C8D4E3",
             "linecolor": "#C8D4E3",
             "minorgridcolor": "#C8D4E3",
             "startlinecolor": "#2a3f5f"
            },
            "type": "carpet"
           }
          ],
          "choropleth": [
           {
            "colorbar": {
             "outlinewidth": 0,
             "ticks": ""
            },
            "type": "choropleth"
           }
          ],
          "contour": [
           {
            "colorbar": {
             "outlinewidth": 0,
             "ticks": ""
            },
            "colorscale": [
             [
              0,
              "#0d0887"
             ],
             [
              0.1111111111111111,
              "#46039f"
             ],
             [
              0.2222222222222222,
              "#7201a8"
             ],
             [
              0.3333333333333333,
              "#9c179e"
             ],
             [
              0.4444444444444444,
              "#bd3786"
             ],
             [
              0.5555555555555556,
              "#d8576b"
             ],
             [
              0.6666666666666666,
              "#ed7953"
             ],
             [
              0.7777777777777778,
              "#fb9f3a"
             ],
             [
              0.8888888888888888,
              "#fdca26"
             ],
             [
              1,
              "#f0f921"
             ]
            ],
            "type": "contour"
           }
          ],
          "contourcarpet": [
           {
            "colorbar": {
             "outlinewidth": 0,
             "ticks": ""
            },
            "type": "contourcarpet"
           }
          ],
          "heatmap": [
           {
            "colorbar": {
             "outlinewidth": 0,
             "ticks": ""
            },
            "colorscale": [
             [
              0,
              "#0d0887"
             ],
             [
              0.1111111111111111,
              "#46039f"
             ],
             [
              0.2222222222222222,
              "#7201a8"
             ],
             [
              0.3333333333333333,
              "#9c179e"
             ],
             [
              0.4444444444444444,
              "#bd3786"
             ],
             [
              0.5555555555555556,
              "#d8576b"
             ],
             [
              0.6666666666666666,
              "#ed7953"
             ],
             [
              0.7777777777777778,
              "#fb9f3a"
             ],
             [
              0.8888888888888888,
              "#fdca26"
             ],
             [
              1,
              "#f0f921"
             ]
            ],
            "type": "heatmap"
           }
          ],
          "heatmapgl": [
           {
            "colorbar": {
             "outlinewidth": 0,
             "ticks": ""
            },
            "colorscale": [
             [
              0,
              "#0d0887"
             ],
             [
              0.1111111111111111,
              "#46039f"
             ],
             [
              0.2222222222222222,
              "#7201a8"
             ],
             [
              0.3333333333333333,
              "#9c179e"
             ],
             [
              0.4444444444444444,
              "#bd3786"
             ],
             [
              0.5555555555555556,
              "#d8576b"
             ],
             [
              0.6666666666666666,
              "#ed7953"
             ],
             [
              0.7777777777777778,
              "#fb9f3a"
             ],
             [
              0.8888888888888888,
              "#fdca26"
             ],
             [
              1,
              "#f0f921"
             ]
            ],
            "type": "heatmapgl"
           }
          ],
          "histogram": [
           {
            "marker": {
             "pattern": {
              "fillmode": "overlay",
              "size": 10,
              "solidity": 0.2
             }
            },
            "type": "histogram"
           }
          ],
          "histogram2d": [
           {
            "colorbar": {
             "outlinewidth": 0,
             "ticks": ""
            },
            "colorscale": [
             [
              0,
              "#0d0887"
             ],
             [
              0.1111111111111111,
              "#46039f"
             ],
             [
              0.2222222222222222,
              "#7201a8"
             ],
             [
              0.3333333333333333,
              "#9c179e"
             ],
             [
              0.4444444444444444,
              "#bd3786"
             ],
             [
              0.5555555555555556,
              "#d8576b"
             ],
             [
              0.6666666666666666,
              "#ed7953"
             ],
             [
              0.7777777777777778,
              "#fb9f3a"
             ],
             [
              0.8888888888888888,
              "#fdca26"
             ],
             [
              1,
              "#f0f921"
             ]
            ],
            "type": "histogram2d"
           }
          ],
          "histogram2dcontour": [
           {
            "colorbar": {
             "outlinewidth": 0,
             "ticks": ""
            },
            "colorscale": [
             [
              0,
              "#0d0887"
             ],
             [
              0.1111111111111111,
              "#46039f"
             ],
             [
              0.2222222222222222,
              "#7201a8"
             ],
             [
              0.3333333333333333,
              "#9c179e"
             ],
             [
              0.4444444444444444,
              "#bd3786"
             ],
             [
              0.5555555555555556,
              "#d8576b"
             ],
             [
              0.6666666666666666,
              "#ed7953"
             ],
             [
              0.7777777777777778,
              "#fb9f3a"
             ],
             [
              0.8888888888888888,
              "#fdca26"
             ],
             [
              1,
              "#f0f921"
             ]
            ],
            "type": "histogram2dcontour"
           }
          ],
          "mesh3d": [
           {
            "colorbar": {
             "outlinewidth": 0,
             "ticks": ""
            },
            "type": "mesh3d"
           }
          ],
          "parcoords": [
           {
            "line": {
             "colorbar": {
              "outlinewidth": 0,
              "ticks": ""
             }
            },
            "type": "parcoords"
           }
          ],
          "pie": [
           {
            "automargin": true,
            "type": "pie"
           }
          ],
          "scatter": [
           {
            "fillpattern": {
             "fillmode": "overlay",
             "size": 10,
             "solidity": 0.2
            },
            "type": "scatter"
           }
          ],
          "scatter3d": [
           {
            "line": {
             "colorbar": {
              "outlinewidth": 0,
              "ticks": ""
             }
            },
            "marker": {
             "colorbar": {
              "outlinewidth": 0,
              "ticks": ""
             }
            },
            "type": "scatter3d"
           }
          ],
          "scattercarpet": [
           {
            "marker": {
             "colorbar": {
              "outlinewidth": 0,
              "ticks": ""
             }
            },
            "type": "scattercarpet"
           }
          ],
          "scattergeo": [
           {
            "marker": {
             "colorbar": {
              "outlinewidth": 0,
              "ticks": ""
             }
            },
            "type": "scattergeo"
           }
          ],
          "scattergl": [
           {
            "marker": {
             "colorbar": {
              "outlinewidth": 0,
              "ticks": ""
             }
            },
            "type": "scattergl"
           }
          ],
          "scattermapbox": [
           {
            "marker": {
             "colorbar": {
              "outlinewidth": 0,
              "ticks": ""
             }
            },
            "type": "scattermapbox"
           }
          ],
          "scatterpolar": [
           {
            "marker": {
             "colorbar": {
              "outlinewidth": 0,
              "ticks": ""
             }
            },
            "type": "scatterpolar"
           }
          ],
          "scatterpolargl": [
           {
            "marker": {
             "colorbar": {
              "outlinewidth": 0,
              "ticks": ""
             }
            },
            "type": "scatterpolargl"
           }
          ],
          "scatterternary": [
           {
            "marker": {
             "colorbar": {
              "outlinewidth": 0,
              "ticks": ""
             }
            },
            "type": "scatterternary"
           }
          ],
          "surface": [
           {
            "colorbar": {
             "outlinewidth": 0,
             "ticks": ""
            },
            "colorscale": [
             [
              0,
              "#0d0887"
             ],
             [
              0.1111111111111111,
              "#46039f"
             ],
             [
              0.2222222222222222,
              "#7201a8"
             ],
             [
              0.3333333333333333,
              "#9c179e"
             ],
             [
              0.4444444444444444,
              "#bd3786"
             ],
             [
              0.5555555555555556,
              "#d8576b"
             ],
             [
              0.6666666666666666,
              "#ed7953"
             ],
             [
              0.7777777777777778,
              "#fb9f3a"
             ],
             [
              0.8888888888888888,
              "#fdca26"
             ],
             [
              1,
              "#f0f921"
             ]
            ],
            "type": "surface"
           }
          ],
          "table": [
           {
            "cells": {
             "fill": {
              "color": "#EBF0F8"
             },
             "line": {
              "color": "white"
             }
            },
            "header": {
             "fill": {
              "color": "#C8D4E3"
             },
             "line": {
              "color": "white"
             }
            },
            "type": "table"
           }
          ]
         },
         "layout": {
          "annotationdefaults": {
           "arrowcolor": "#2a3f5f",
           "arrowhead": 0,
           "arrowwidth": 1
          },
          "autotypenumbers": "strict",
          "coloraxis": {
           "colorbar": {
            "outlinewidth": 0,
            "ticks": ""
           }
          },
          "colorscale": {
           "diverging": [
            [
             0,
             "#8e0152"
            ],
            [
             0.1,
             "#c51b7d"
            ],
            [
             0.2,
             "#de77ae"
            ],
            [
             0.3,
             "#f1b6da"
            ],
            [
             0.4,
             "#fde0ef"
            ],
            [
             0.5,
             "#f7f7f7"
            ],
            [
             0.6,
             "#e6f5d0"
            ],
            [
             0.7,
             "#b8e186"
            ],
            [
             0.8,
             "#7fbc41"
            ],
            [
             0.9,
             "#4d9221"
            ],
            [
             1,
             "#276419"
            ]
           ],
           "sequential": [
            [
             0,
             "#0d0887"
            ],
            [
             0.1111111111111111,
             "#46039f"
            ],
            [
             0.2222222222222222,
             "#7201a8"
            ],
            [
             0.3333333333333333,
             "#9c179e"
            ],
            [
             0.4444444444444444,
             "#bd3786"
            ],
            [
             0.5555555555555556,
             "#d8576b"
            ],
            [
             0.6666666666666666,
             "#ed7953"
            ],
            [
             0.7777777777777778,
             "#fb9f3a"
            ],
            [
             0.8888888888888888,
             "#fdca26"
            ],
            [
             1,
             "#f0f921"
            ]
           ],
           "sequentialminus": [
            [
             0,
             "#0d0887"
            ],
            [
             0.1111111111111111,
             "#46039f"
            ],
            [
             0.2222222222222222,
             "#7201a8"
            ],
            [
             0.3333333333333333,
             "#9c179e"
            ],
            [
             0.4444444444444444,
             "#bd3786"
            ],
            [
             0.5555555555555556,
             "#d8576b"
            ],
            [
             0.6666666666666666,
             "#ed7953"
            ],
            [
             0.7777777777777778,
             "#fb9f3a"
            ],
            [
             0.8888888888888888,
             "#fdca26"
            ],
            [
             1,
             "#f0f921"
            ]
           ]
          },
          "colorway": [
           "#636efa",
           "#EF553B",
           "#00cc96",
           "#ab63fa",
           "#FFA15A",
           "#19d3f3",
           "#FF6692",
           "#B6E880",
           "#FF97FF",
           "#FECB52"
          ],
          "font": {
           "color": "#2a3f5f"
          },
          "geo": {
           "bgcolor": "white",
           "lakecolor": "white",
           "landcolor": "white",
           "showlakes": true,
           "showland": true,
           "subunitcolor": "#C8D4E3"
          },
          "hoverlabel": {
           "align": "left"
          },
          "hovermode": "closest",
          "mapbox": {
           "style": "light"
          },
          "paper_bgcolor": "white",
          "plot_bgcolor": "white",
          "polar": {
           "angularaxis": {
            "gridcolor": "#EBF0F8",
            "linecolor": "#EBF0F8",
            "ticks": ""
           },
           "bgcolor": "white",
           "radialaxis": {
            "gridcolor": "#EBF0F8",
            "linecolor": "#EBF0F8",
            "ticks": ""
           }
          },
          "scene": {
           "xaxis": {
            "backgroundcolor": "white",
            "gridcolor": "#DFE8F3",
            "gridwidth": 2,
            "linecolor": "#EBF0F8",
            "showbackground": true,
            "ticks": "",
            "zerolinecolor": "#EBF0F8"
           },
           "yaxis": {
            "backgroundcolor": "white",
            "gridcolor": "#DFE8F3",
            "gridwidth": 2,
            "linecolor": "#EBF0F8",
            "showbackground": true,
            "ticks": "",
            "zerolinecolor": "#EBF0F8"
           },
           "zaxis": {
            "backgroundcolor": "white",
            "gridcolor": "#DFE8F3",
            "gridwidth": 2,
            "linecolor": "#EBF0F8",
            "showbackground": true,
            "ticks": "",
            "zerolinecolor": "#EBF0F8"
           }
          },
          "shapedefaults": {
           "line": {
            "color": "#2a3f5f"
           }
          },
          "ternary": {
           "aaxis": {
            "gridcolor": "#DFE8F3",
            "linecolor": "#A2B1C6",
            "ticks": ""
           },
           "baxis": {
            "gridcolor": "#DFE8F3",
            "linecolor": "#A2B1C6",
            "ticks": ""
           },
           "bgcolor": "white",
           "caxis": {
            "gridcolor": "#DFE8F3",
            "linecolor": "#A2B1C6",
            "ticks": ""
           }
          },
          "title": {
           "x": 0.05
          },
          "xaxis": {
           "automargin": true,
           "gridcolor": "#EBF0F8",
           "linecolor": "#EBF0F8",
           "ticks": "",
           "title": {
            "standoff": 15
           },
           "zerolinecolor": "#EBF0F8",
           "zerolinewidth": 2
          },
          "yaxis": {
           "automargin": true,
           "gridcolor": "#EBF0F8",
           "linecolor": "#EBF0F8",
           "ticks": "",
           "title": {
            "standoff": 15
           },
           "zerolinecolor": "#EBF0F8",
           "zerolinewidth": 2
          }
         }
        },
        "title": {
         "text": "Produção de Óleo",
         "x": 0.5
        },
        "width": 1200,
        "xaxis": {
         "title": {
          "text": "Tempo (min)"
         }
        },
        "yaxis": {
         "title": {
          "text": "NP (cm³)"
         }
        }
       }
      }
     },
     "metadata": {},
     "output_type": "display_data"
    }
   ],
   "source": [
    "colors = [\n",
    "    'rgba(0, 0, 0, 1)',   # Black\n",
    "    'rgba(105, 55, 20, 1)',  # Brown\n",
    "    'rgba(255, 110, 0, 1)',   # Orange\n",
    "    'rgba(255, 215, 0, 1)',   # Yellow\n",
    "    'rgba(0, 255, 0, 1)',  # Green\n",
    "    'rgba(0, 200, 150, 1)',  # Ciane\n",
    "    'rgba(0, 100, 250, 1)',   # Light Blue\n",
    "    'rgba(0, 0, 150, 1)',     # Dark Blue\n",
    "    'rgba(150, 0, 255, 1)',   # Purple\n",
    "    'rgba(255, 0, 0, 1)',  # Red\n",
    "]\n",
    "\n",
    "\n",
    "prod_1 = pd.DataFrame(teste_1_b['Oil Prod Cum SCTR'])\n",
    "\n",
    "\n",
    "trace_1x = go.Scatter(x=list(range(len(prod_1[0]))),y=prod_1[0],mode='lines',name='<i>Homogêneo</i>',line=dict(color=colors[0], dash='solid'))\n",
    "\n",
    "fig_np = go.Figure()\n",
    "\n",
    "fig_np.add_trace(trace_1x)\n",
    "\n",
    "fig_np.update_layout(title='Produção de Óleo',\n",
    "                  title_x=0.5,\n",
    "                  xaxis_title='Tempo (min)',\n",
    "                  yaxis_title='NP (cm³)',\n",
    "                #   xaxis=dict(\n",
    "                #       range=[0, 8000]),\n",
    "                #   yaxis=dict(\n",
    "                #       range=[0, 250]),\n",
    "                  font=dict(\n",
    "                      family='Time News Roman',  # fonte da legenda\n",
    "                      size=30,               # tamanho da fonte\n",
    "                      color='black'         # cor da fonte\n",
    "                      ),\n",
    "                  template='plotly_white',\n",
    "                  width=1200,\n",
    "                  height=800)\n",
    "fig_np.show()"
   ]
  },
  {
   "cell_type": "markdown",
   "metadata": {},
   "source": [
    "# resultados csv \n"
   ]
  },
  {
   "cell_type": "code",
   "execution_count": null,
   "metadata": {},
   "outputs": [],
   "source": [
    "dados = {'POR':media_por,'PERM':media_permi, 'DIAMETRO': 3.9, 'COMPRIMENTO': 6.9, 'VISC_OLEO':2, 'VISC_AGUA': 0.891, 'DENS_OLEO':0.8, 'DENS_AGUA':1, 'VAZAO_INJ': 1}\n",
    "dados_df = pd.DataFrame(dados,index=[0])\n",
    "dados_df.to_csv('info_1000000nm.csv')"
   ]
  },
  {
   "cell_type": "code",
   "execution_count": 45,
   "metadata": {},
   "outputs": [],
   "source": [
    "dfx = pd.DataFrame(dp_1)\n",
    "dfx.to_csv('dp_2000000nm.csv')"
   ]
  },
  {
   "cell_type": "code",
   "execution_count": 46,
   "metadata": {},
   "outputs": [],
   "source": [
    "dfy = pd.DataFrame(prod_1)\n",
    "dfy.to_csv('np_2000000nm.csv')"
   ]
  },
  {
   "cell_type": "code",
   "execution_count": 47,
   "metadata": {},
   "outputs": [],
   "source": [
    "tempo_1[0].to_csv('tempo_2000000nm.csv')"
   ]
  }
 ],
 "metadata": {
  "kernelspec": {
   "display_name": "Python 3",
   "language": "python",
   "name": "python3"
  },
  "language_info": {
   "codemirror_mode": {
    "name": "ipython",
    "version": 3
   },
   "file_extension": ".py",
   "mimetype": "text/x-python",
   "name": "python",
   "nbconvert_exporter": "python",
   "pygments_lexer": "ipython3",
   "version": "3.12.1"
  }
 },
 "nbformat": 4,
 "nbformat_minor": 2
}
